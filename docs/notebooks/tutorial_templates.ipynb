{
 "cells": [
  {
   "attachments": {},
   "cell_type": "markdown",
   "id": "20e2c918-3ca5-4122-9dc7-d65144e93606",
   "metadata": {},
   "source": [
    "# The `cellpy` templating system"
   ]
  },
  {
   "attachments": {},
   "cell_type": "markdown",
   "id": "2f78e416-6e8a-417b-84bd-3feaf51ad17e",
   "metadata": {},
   "source": [
    "Often the steps you have to go through when analysing your cells are a bit repetetive. To help facilitate a smoother workflow, `cellpy` provides a templating system using `cookiecutter` in the background.\n",
    "The publicly available templates are located in a repository on github (https://github.com/jepegit/cellpy_cookies)."
   ]
  },
  {
   "attachments": {},
   "cell_type": "markdown",
   "id": "0d6349d3",
   "metadata": {},
   "source": [
    "## How to start a session and set-up a project using a template\n",
    "\n",
    "In a command window / shell in the python or conda environment where `cellpy` is installed, write:\n",
    "\n",
    "```bash\n",
    "> cellpy new\n",
    "```"
   ]
  },
  {
   "attachments": {},
   "cell_type": "markdown",
   "id": "f014bdd9",
   "metadata": {},
   "source": [
    "`cellpy` will then list all the directories (\"projects\") in your project directory (typically called \"out\") and you must choose one of them (write one of the numbers, or go for the default):"
   ]
  },
  {
   "attachments": {},
   "cell_type": "markdown",
   "id": "9169e1bd",
   "metadata": {},
   "source": [
    "```bash\n",
    "Template: standard\n",
    "Select project folder:\n",
    "1 - [create new dir]\n",
    "2 - Internal\n",
    "3 - SuperBatteries\n",
    "4 - AmazingCell\n",
    "5 - MoZEES\n",
    "6 - SIMBA\n",
    "7 - LongLife\n",
    "8 - MoreIsLess\n",
    "9 - MoZEES\n",
    "Choose from 1, 2, 3, 4, 5, 6, 7, 8, 9 [1]:\n",
    "``` "
   ]
  },
  {
   "attachments": {},
   "cell_type": "markdown",
   "id": "1db4d63d",
   "metadata": {},
   "source": [
    "If you press enter without writing a number, it will select the default, whatever is written in the square brackets. The projects listed will be different for you than it is here. If this is the first time using `cellpy`, most likely only the option `1` exists.\n",
    "\n",
    "For example, if we would like to look at some cells belonging the the MoreIsLess project, we write `8` and press Enter. Next  `cellpy` needs you to confirm that the project name is correct (shown in square brackets) by pressing Enter again. If you want to change the name, you can also give it here.\n",
    "\n",
    "```bash\n",
    "Choose from 1, 2, 3, 4, 5, 6, 7, 8, 9 [1]: 8 ⏎\n",
    "project_name [MoreIsLess]:\n",
    "```\n",
    "\n",
    "However, in this example we will chose to create a new directory (\"project\") by selecting the default (by just pressing enter).\n",
    "\n",
    "```bash\n",
    "Choose from 1, 2, 3, 4, 5, 6, 7, 8, 9 [1]: ⏎\n",
    "New name [cellpy_project]:\n",
    "```"
   ]
  },
  {
   "attachments": {},
   "cell_type": "markdown",
   "id": "c0d4f829",
   "metadata": {},
   "source": [
    "Write `my_project` and press Enter. Confirm the project name by pressing Enter once more:\n",
    "\n",
    "```bash\n",
    "\n",
    "New name [cellpy_project]: my_project ⏎\n",
    "created my_project\n",
    "project_name [my_project]: ⏎\n",
    "```\n",
    "\n",
    "Next we need to provide a session id (for example the batch name used in your db). Here we chose to call it `experiment_001`:\n",
    "\n",
    "```bash\n",
    "session_id: experiment_001 ⏎\n",
    "```\n",
    "\n",
    "`cellpy` then asks you to confirm the version of `cellpy` you are using (not all templates works with all versions), author name (your user name most likely), and date. Accept all by pressing Enter for each item.\n",
    "\n",
    "```bash\n",
    "cellpy_version [1.0.0a]: ⏎\n",
    "author_name [jepe]: ⏎\n",
    "date [2023-01-18]: ⏎\n",
    "```\n",
    "\n"
   ]
  },
  {
   "attachments": {},
   "cell_type": "markdown",
   "id": "c0d4f829",
   "metadata": {},
   "source": [
    "Next `cellpy` will suggest a name for the directory / folder that the template will create, as well as the \"core\" name of the notebook(s) (or script). Once again, confirm the by pressing Enter:\n",
    "\n",
    "```bash\n",
    "experiment_folder_name [2023_01_18_experiment_001]: ⏎\n",
    "notebook_name [experiment_001]: ⏎\n",
    "```\n",
    "\n",
    "Under the hood, `cellpy` uses `cookiecutter` to download and create the structure from the template:\n",
    "\n",
    "```bash\n",
    "   Cellpy Cookie says: 'using cookie from the cellpy_cookies repository'\n",
    "   Cellpy Cookie says: 'setting up project in the following directory: C:\\cellpy_data\\notebooks\\my_project\\2023_01_18_experiment_001'\n",
    "created:\n",
    "2023_01_18_experiment_001/\n",
    "    00_experiment_001_notes_home.ipynb\n",
    "    01_experiment_001_loader.ipynb\n",
    "    02_experiment_001_life.ipynb\n",
    "    03_experiment_001_cycles.ipynb\n",
    "    04_experiment_001_ica.ipynb\n",
    "    05_experiment_001_plots.ipynb\n",
    "    data/\n",
    "        external/\n",
    "        interim/\n",
    "        processed/\n",
    "        raw/\n",
    "    out/\n",
    "        note.md\n",
    "```\n"
   ]
  },
  {
   "attachments": {},
   "cell_type": "markdown",
   "id": "356a339b",
   "metadata": {},
   "source": [
    "Congratulations - you have succesfully created a directory structure and several `jupyter` notebooks you can use for processing your cell data!"
   ]
  },
  {
   "attachments": {},
   "cell_type": "markdown",
   "id": "0d6349d3",
   "metadata": {},
   "source": [
    "## Run the notebooks\n",
    "\n",
    "Start `jupyter` (either jupyter notebook or jupyterlab). If you want, there exists a `cellpy` command for this as well. The benefit is that it starts up the `jupyter` server in the correct directory. Obviously, this will not work if you dont have `jupyter` properly installed.\n",
    "\n",
    "In a command window / shell in the python or conda environment where `cellpy` is installed, write:\n",
    "\n",
    "```bash\n",
    "> cellpy serve -l  ⏎\n",
    "```"
   ]
  },
  {
   "attachments": {},
   "cell_type": "markdown",
   "id": "ef114b70",
   "metadata": {},
   "source": [
    "The `-l` option means that you want to run `jupyterlab`. You can also tell `cellpy` to automatically start `jupyter` after it has finished populating stuff from the template by issuing the `-s` option when you run the `new` sub-command."
   ]
  },
  {
   "attachments": {},
   "cell_type": "markdown",
   "id": "358af28b",
   "metadata": {},
   "source": [
    "Hopefully you will see something like this:"
   ]
  },
  {
   "attachments": {},
   "cell_type": "markdown",
   "id": "02826e0b",
   "metadata": {},
   "source": [
    "![Notebook example](./images/templates_jupyterlab_001.png \"Notebooks made from the template\")"
   ]
  },
  {
   "attachments": {},
   "cell_type": "markdown",
   "id": "b2940aa5",
   "metadata": {},
   "source": [
    "## More in-depth on the templating system"
   ]
  },
  {
   "attachments": {},
   "cell_type": "markdown",
   "id": "86c653de-8321-4ba8-854f-be9b10f91b54",
   "metadata": {},
   "source": [
    "Get some help:\n",
    "\n",
    "```bash\n",
    "\n",
    "> cellpy new --help  ⏎\n",
    "\n",
    "\n",
    "\n",
    "Usage: cellpy new [OPTIONS]\n",
    "\n",
    "  Set up a batch experiment (might need git installed).\n",
    "\n",
    "Options:\n",
    "  -t, --template TEXT        Provide template name.\n",
    "  -d, --directory TEXT       Create in custom directory.\n",
    "  -p, --project TEXT         Provide project name (i.e. sub-directory name).\n",
    "  -e, --experiment TEXT      Provide experiment name (i.e. lookup-value).\n",
    "  -u, --local-user-template  Use local template from the templates directory.\n",
    "  -s, --serve                Run Jupyter.\n",
    "  -r, --run                  Use PaperMill to run the notebook(s) from the\n",
    "                             template (will only work properly if the\n",
    "                             notebooks can be sorted in correct run-order by\n",
    "                             'sorted'.\n",
    "  -j, --lab                  Use Jupyter Lab instead of Notebook when serving.\n",
    "  -l, --list                 List available templates and exit.\n",
    "  --help                     Show this message and exit.\n",
    "  \n",
    "```"
   ]
  },
  {
   "attachments": {},
   "cell_type": "markdown",
   "id": "f96f49c6-9bc1-478e-9a52-27d701ac1458",
   "metadata": {},
   "source": [
    "Assume you have the following inside your templates folder (cellpy_data\\templates):\n",
    "\n",
    "```bash\n",
    "\n",
    "> ls  ⏎\n",
    "cellpy_cookie_advanced.zip  cellpy_cookie_easy.zip  cellpy_cookie_pytorch.zip  just_a_regular_zipped_folder.zip\n",
    "\n",
    "```\n",
    "\n",
    "You can list the available templates using the `--list` option:\n",
    "\n",
    "```bash\n",
    "\n",
    "> cellpy new --list\n",
    "\n",
    "[cellpy] batch templates\n",
    "[cellpy] - default: standard\n",
    "[cellpy] - registered templates (on github):\n",
    "                standard           ('https://github.com/jepegit/cellpy_cookies.git', 'standard')\n",
    "                ife                ('https://github.com/jepegit/cellpy_cookies.git', 'ife')\n",
    "[cellpy] - local templates (C:\\cellpy_data\\templates):\n",
    "                advanced           ('C:\\\\cellpy_data\\\\templates\\\\cellpy_cookie_advanced.zip', None)\n",
    "                easy               ('C:\\\\cellpy_data\\\\templates\\\\cellpy_cookie_easy.zip', None)\n",
    "                pytorch            ('C:\\\\cellpy_data\\\\templates\\\\cellpy_cookie_pytorch.zip', None)\n",
    "\n",
    "```"
   ]
  },
  {
   "attachments": {},
   "cell_type": "markdown",
   "id": "73308a5f-c1e2-4cd5-8391-69cfdc9c8a1b",
   "metadata": {},
   "source": [
    "Your local templates needs to adhere to the following structure:\n",
    "\n",
    "- it must be in a zipped file (.zip)\n",
    "- the zip-file needs to start with \"cellpy_cookie\" and contain one top level folder with the same name\n",
    "- the top folder can contain several templates\n",
    "- each \"sub-template\" must contain a cookiecutter configuration file (you can copy-paste from the github repository to get a starting point for editing)\n",
    "- you will also need the \"hooks\" folder with the \"post_gen_project.py\" and the \"pre_gen_project.py\" files (copy-paste them from the github repository and modify if needed)\n",
    "- `cookiecutter` variables are enclosed in double curly brackets\n",
    "\n",
    "\n",
    "Here is an example (content of the zip file \"cellpy_cookie_standard.zip\"):"
   ]
  },
  {
   "attachments": {},
   "cell_type": "markdown",
   "id": "bd112520-935b-446f-bf01-8fe0c80021b7",
   "metadata": {},
   "source": [
    "```bash\n",
    "└───cellpy_cookie_standard\n",
    "    └───standard\n",
    "        │   cookiecutter.json\n",
    "        │\n",
    "        ├───hooks\n",
    "        │       post_gen_project.py\n",
    "        │       pre_gen_project.py\n",
    "        │\n",
    "        └───{{cookiecutter.experiment_folder_name}}\n",
    "            │   00_{{cookiecutter.notebook_name}}_notes.ipynb\n",
    "            │   01_{{cookiecutter.notebook_name}}_loader.ipynb\n",
    "            │   02_{{cookiecutter.notebook_name}}_life.ipynb\n",
    "            │   03_{{cookiecutter.notebook_name}}_cycles.ipynb\n",
    "            │   04_{{cookiecutter.notebook_name}}_ica.ipynb\n",
    "            │   05_{{cookiecutter.notebook_name}}_plots.ipynb\n",
    "            │\n",
    "            ├───data\n",
    "            │   ├───external\n",
    "            │   │\n",
    "            │   ├───interim\n",
    "            │   │\n",
    "            │   ├───processed\n",
    "            │   │\n",
    "            │   └───raw\n",
    "            │\n",
    "            └───out\n",
    "                    note.md\n",
    " \n",
    "    \n",
    "```"
   ]
  }
 ],
 "metadata": {
  "kernelspec": {
   "display_name": "cellpy",
   "language": "python",
   "name": "cellpy"
  },
  "language_info": {
   "codemirror_mode": {
    "name": "ipython",
    "version": 3
   },
   "file_extension": ".py",
   "mimetype": "text/x-python",
   "name": "python",
   "nbconvert_exporter": "python",
   "pygments_lexer": "ipython3",
   "version": "3.10.6 | packaged by conda-forge | (main, Aug 22 2022, 20:30:19) [MSC v.1929 64 bit (AMD64)]"
  }
 },
 "nbformat": 4,
 "nbformat_minor": 5
}
