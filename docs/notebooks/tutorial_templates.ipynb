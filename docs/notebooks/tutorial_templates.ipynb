{
 "cells": [
  {
   "cell_type": "markdown",
   "id": "20e2c918-3ca5-4122-9dc7-d65144e93606",
   "metadata": {},
   "source": [
    "# `cellpy` templating system"
   ]
  },
  {
   "cell_type": "markdown",
   "id": "2f78e416-6e8a-417b-84bd-3feaf51ad17e",
   "metadata": {},
   "source": [
    "The `cellpy` templating system...\n",
    "\n",
    "\n",
    "\n",
    "```bash\n",
    "\n",
    "> cellpy new\n",
    "\n",
    "\n",
    "```"
   ]
  },
  {
   "cell_type": "markdown",
   "id": "86c653de-8321-4ba8-854f-be9b10f91b54",
   "metadata": {},
   "source": [
    "\n",
    "```bash\n",
    "\n",
    "> cellpy new\n",
    "\n",
    "\n",
    "\n",
    "Usage: cellpy new [OPTIONS]\n",
    "\n",
    "  Set up a batch experiment (might need git installed).\n",
    "\n",
    "Options:\n",
    "  -t, --template TEXT        Provide template name.\n",
    "  -d, --directory TEXT       Create in custom directory.\n",
    "  -p, --project TEXT         Provide project name (i.e. sub-directory name).\n",
    "  -e, --experiment TEXT      Provide experiment name (i.e. lookup-value).\n",
    "  -u, --local-user-template  Use local template from the templates directory.\n",
    "  -s, --serve                Run Jupyter.\n",
    "  -r, --run                  Use PaperMill to run the notebook(s) from the\n",
    "                             template (will only work properly if the\n",
    "                             notebooks can be sorted in correct run-order by\n",
    "                             'sorted'.\n",
    "  -j, --lab                  Use Jupyter Lab instead of Notebook when serving.\n",
    "  -l, --list                 List available templates and exit.\n",
    "  --help                     Show this message and exit.\n",
    "  \n",
    "```"
   ]
  },
  {
   "cell_type": "markdown",
   "id": "f96f49c6-9bc1-478e-9a52-27d701ac1458",
   "metadata": {},
   "source": [
    "```bash\n",
    "\n",
    "> cellpy new --list\n",
    "\n",
    "[cellpy] batch templates\n",
    "[cellpy] - default: standard\n",
    "[cellpy] - registered templates (on github):\n",
    "                standard           ('https://github.com/jepegit/cellpy_cookies.git', 'standard')\n",
    "                ife                ('https://github.com/jepegit/cellpy_cookies.git', 'ife')\n",
    "[cellpy] - local templates (C:\\scripting\\processing_cellpy\\templates):\n",
    "                advanced           ('C:\\\\cellpy_data\\\\templates\\\\cellpy_cookie_advanced.zip', None)\n",
    "                easy               ('C:\\\\cellpy_data\\\\templates\\\\cellpy_cookie_easy.zip', None)\n",
    "                pytorch            ('C:\\\\cellpy_data\\\\templates\\\\cellpy_cookie_pytorch.zip', None)\n",
    "\n",
    "```"
   ]
  },
  {
   "cell_type": "markdown",
   "id": "73308a5f-c1e2-4cd5-8391-69cfdc9c8a1b",
   "metadata": {},
   "source": [
    "in your templates folder\n",
    "\n",
    "```bash\n",
    "\n",
    "> ls\n",
    "cellpy_cookie_advanced.zip  cellpy_cookie_easy.zip  cellpy_cookie_pytorch.zip  just_a_regular_zipped_folder.zip\n",
    "\n"
   ]
  },
  {
   "cell_type": "markdown",
   "id": "bd112520-935b-446f-bf01-8fe0c80021b7",
   "metadata": {},
   "source": [
    "In the zip file:\n",
    "\n",
    "\n",
    "```bash\n",
    "└───cellpy_cookie_standard\n",
    "    └───standard\n",
    "        │   cookiecutter.json\n",
    "        │\n",
    "        ├───hooks\n",
    "        │       post_gen_project.py\n",
    "        │       pre_gen_project.py\n",
    "        │\n",
    "        └───{{cookiecutter.experiment_folder_name}}\n",
    "            │   00_{{cookiecutter.notebook_name}}_notes.ipynb\n",
    "            │   01_{{cookiecutter.notebook_name}}_loader.ipynb\n",
    "            │   02_{{cookiecutter.notebook_name}}_life.ipynb\n",
    "            │   03_{{cookiecutter.notebook_name}}_cycles.ipynb\n",
    "            │   04_{{cookiecutter.notebook_name}}_ica.ipynb\n",
    "            │   05_{{cookiecutter.notebook_name}}_plots.ipynb\n",
    "            │\n",
    "            ├───data\n",
    "            │   ├───external\n",
    "            │   │\n",
    "            │   ├───interim\n",
    "            │   │\n",
    "            │   ├───processed\n",
    "            │   │\n",
    "            │   └───raw\n",
    "            │\n",
    "            └───out\n",
    "                    note.md\n",
    " \n",
    "    \n",
    "```"
   ]
  },
  {
   "cell_type": "markdown",
   "id": "225c75ee-ae49-4e03-b487-ca3492995ef7",
   "metadata": {},
   "source": [
    "```bash\n",
    "\n",
    "> cellpy new\n",
    "\n",
    "\n",
    "```"
   ]
  },
  {
   "cell_type": "markdown",
   "id": "bab26f32-6914-49f9-a41f-345b0a5a5be9",
   "metadata": {},
   "source": [
    "```bash\n",
    "\n",
    "> cellpy new\n",
    "\n",
    "\n",
    "```"
   ]
  },
  {
   "cell_type": "markdown",
   "id": "d920c77c-0467-40c3-9ed1-a784b5962d25",
   "metadata": {},
   "source": [
    "```bash\n",
    "\n",
    "> cellpy new\n",
    "\n",
    "\n",
    "```"
   ]
  },
  {
   "cell_type": "markdown",
   "id": "8a8cbfb6-f41c-4037-b84a-a897efce77a3",
   "metadata": {},
   "source": [
    "```bash\n",
    "\n",
    "> cellpy new\n",
    "\n",
    "\n",
    "```"
   ]
  }
 ],
 "metadata": {
  "kernelspec": {
   "display_name": "cellpy",
   "language": "python",
   "name": "cellpy"
  },
  "language_info": {
   "codemirror_mode": {
    "name": "ipython",
    "version": 3
   },
   "file_extension": ".py",
   "mimetype": "text/x-python",
   "name": "python",
   "nbconvert_exporter": "python",
   "pygments_lexer": "ipython3",
   "version": "3.10.6"
  }
 },
 "nbformat": 4,
 "nbformat_minor": 5
}
