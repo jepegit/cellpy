{
 "cells": [
  {
   "cell_type": "markdown",
   "id": "e4aabbfa-668d-473c-a94d-66bea79fc2c0",
   "metadata": {},
   "source": [
    "# Setting additional parameters"
   ]
  },
  {
   "cell_type": "code",
   "execution_count": null,
   "id": "4e2ec189-1e03-4bbc-ab36-08d18deafde6",
   "metadata": {},
   "outputs": [],
   "source": [
    "%load_ext autoreload\n",
    "%autoreload 2"
   ]
  },
  {
   "cell_type": "code",
   "execution_count": null,
   "id": "a9f2e1a4-a138-4ab7-8f2c-be64d8d81b1e",
   "metadata": {},
   "outputs": [],
   "source": [
    "from pathlib import Path\n",
    "\n",
    "import cellpy\n",
    "from cellpy import prms, prmreader\n",
    "from cellpy.utils import batch\n"
   ]
  },
  {
   "cell_type": "code",
   "execution_count": null,
   "id": "21892456-5c30-4fdd-9ee7-173c2b69f481",
   "metadata": {},
   "outputs": [],
   "source": [
    "prmreader._read_prm_file(\"../.cellpy_prms_dev.conf\")"
   ]
  },
  {
   "cell_type": "code",
   "execution_count": null,
   "id": "537fb94c-8530-4ba0-975a-de77975235c2",
   "metadata": {},
   "outputs": [],
   "source": [
    "prmreader.info()"
   ]
  },
  {
   "cell_type": "code",
   "execution_count": null,
   "id": "0672a722-a776-4631-9667-33a5186e3083",
   "metadata": {},
   "outputs": [],
   "source": [
    "b = batch.init(name=\"double\", project=\"dev_209\", batch_col=\"b01\", default_log_level=\"CRITICAL\")\n",
    "b.experiment.export_raw = False\n",
    "b.experiment.export_cycles = True\n",
    "b.experiment.export_ica = False\n",
    "b.experiment.force_raw = True\n",
    "b.create_journal()"
   ]
  },
  {
   "cell_type": "code",
   "execution_count": null,
   "id": "db06666b-6f93-4d7d-863d-832b656a0800",
   "metadata": {},
   "outputs": [],
   "source": [
    "b.pages"
   ]
  },
  {
   "cell_type": "markdown",
   "id": "ee4cb0a7-32d8-4341-89ce-6f4bf9d4c6cb",
   "metadata": {
    "tags": []
   },
   "source": [
    "# Next\n",
    "- try cellspecs\n",
    "- test saving journal to xlsx and reaload"
   ]
  },
  {
   "cell_type": "code",
   "execution_count": null,
   "id": "fcc3b2a6-9b3c-4f51-b435-e9874aa8fde6",
   "metadata": {},
   "outputs": [],
   "source": [
    "b.update()"
   ]
  },
  {
   "cell_type": "code",
   "execution_count": null,
   "id": "c1402d3f-9561-4f4c-a147-c7aa88d5ed98",
   "metadata": {},
   "outputs": [],
   "source": [
    "b.combine_summaries()"
   ]
  },
  {
   "cell_type": "code",
   "execution_count": null,
   "id": "182a7790-60d1-42eb-b0c1-992c291e05e4",
   "metadata": {},
   "outputs": [],
   "source": [
    "b.plot_summaries()"
   ]
  },
  {
   "cell_type": "code",
   "execution_count": null,
   "id": "7f9bae37-d625-47f8-979a-ad444e735098",
   "metadata": {},
   "outputs": [],
   "source": []
  },
  {
   "cell_type": "code",
   "execution_count": null,
   "id": "2e8c28d4-3c7b-4935-8d82-e6a28e9f2e38",
   "metadata": {},
   "outputs": [],
   "source": [
    "b.update(cell_specs = {\"20220106_marte_03_cc_01\": {\"recalc\": False}})"
   ]
  },
  {
   "cell_type": "code",
   "execution_count": null,
   "id": "71c947d5-0cd4-4b5d-ade5-de3657d128eb",
   "metadata": {},
   "outputs": [],
   "source": [
    "filename03 = Path(\"../../dev_data/raw/20220106_marte_03_cc_01_Channel_30_Wb_1.xlsx\") \n",
    "filename04 = Path(\"../../dev_data/raw/20220106_marte_04_cc_01_Channel_30_Wb_1.xlsx\") \n",
    "filename03b = Path(\"../../dev_data/raw/20220106_marte_03_cc_01_Channel_30_Wb_2.xlsx\") \n",
    "filename04b = Path(\"../../dev_data/raw/20220106_marte_04_cc_01_Channel_30_Wb_2.xlsx\") "
   ]
  },
  {
   "cell_type": "code",
   "execution_count": null,
   "id": "9aa7237a-292a-4356-bf41-046a7a59df65",
   "metadata": {},
   "outputs": [],
   "source": [
    "c03 = cellpy.get(filename03, instrument=\"arbin_sql_xlsx\")"
   ]
  },
  {
   "cell_type": "code",
   "execution_count": null,
   "id": "9d3da04b-33b4-40df-81de-c0a53c3e15cf",
   "metadata": {},
   "outputs": [],
   "source": [
    "c04 = cellpy.get(filename03, instrument=\"arbin_sql_xlsx\")"
   ]
  },
  {
   "cell_type": "code",
   "execution_count": null,
   "id": "f04945bf-674f-4b7d-999e-5a572bfbc665",
   "metadata": {},
   "outputs": [],
   "source": [
    "c03b = cellpy.get(filename03b, instrument=\"arbin_sql_xlsx\")\n",
    "c04b = cellpy.get(filename03b, instrument=\"arbin_sql_xlsx\")"
   ]
  },
  {
   "cell_type": "code",
   "execution_count": null,
   "id": "740668d7-7c6a-42e1-89c3-63d3fc4a6438",
   "metadata": {},
   "outputs": [],
   "source": [
    "b.save_journal()"
   ]
  },
  {
   "cell_type": "code",
   "execution_count": null,
   "id": "2e1e1f3f-00eb-4908-8142-7b3644644ce0",
   "metadata": {},
   "outputs": [],
   "source": [
    "# b.export_journal(\"journal2\")\n",
    "b3 = batch.from_journal(\"journal2.xlsx\")"
   ]
  },
  {
   "cell_type": "code",
   "execution_count": null,
   "id": "e53ca1bb-0beb-4395-9c5f-734e14539610",
   "metadata": {},
   "outputs": [],
   "source": [
    "b3.update()"
   ]
  },
  {
   "cell_type": "code",
   "execution_count": null,
   "id": "fcf32280-a664-4f10-a8cb-a8f9f5617335",
   "metadata": {},
   "outputs": [],
   "source": []
  },
  {
   "cell_type": "code",
   "execution_count": null,
   "id": "f5740335-bf1f-4782-8b03-649e6f0296c5",
   "metadata": {},
   "outputs": [],
   "source": []
  },
  {
   "cell_type": "code",
   "execution_count": null,
   "id": "7e4a9425-9561-4065-9185-d982a2c6c6d5",
   "metadata": {},
   "outputs": [],
   "source": [
    "b2 = batch.from_journal(\"cellpy_batch_double.json\")"
   ]
  },
  {
   "cell_type": "code",
   "execution_count": null,
   "id": "92e817b3-d78a-4f81-ae44-20c3697545df",
   "metadata": {},
   "outputs": [],
   "source": [
    "b2.pages"
   ]
  },
  {
   "cell_type": "code",
   "execution_count": null,
   "id": "18457d5d-bfdd-4119-ad7b-de68b7cc1b4e",
   "metadata": {},
   "outputs": [],
   "source": [
    "b2.experiment.force_raw = True\n",
    "b2.update()"
   ]
  },
  {
   "cell_type": "code",
   "execution_count": null,
   "id": "26885027-6a63-45ef-af12-5d96ca9a9f87",
   "metadata": {},
   "outputs": [],
   "source": [
    "b2.combine_summaries()"
   ]
  },
  {
   "cell_type": "code",
   "execution_count": null,
   "id": "05280459-d844-4fac-99ba-a92513ed8949",
   "metadata": {},
   "outputs": [],
   "source": [
    "b2.plot_summaries()"
   ]
  },
  {
   "cell_type": "code",
   "execution_count": null,
   "id": "e9603408-fa2b-4f7c-8c62-cf11949e8fe5",
   "metadata": {},
   "outputs": [],
   "source": [
    "b.journal.to_file(\"journal.xlsx\", to_project_folder=True)"
   ]
  },
  {
   "cell_type": "code",
   "execution_count": null,
   "id": "0693a8d2-74b5-4029-8b4b-3830712d304e",
   "metadata": {},
   "outputs": [],
   "source": [
    "b3 = batch.from_journal(\"journal.xlsx\")"
   ]
  },
  {
   "cell_type": "code",
   "execution_count": null,
   "id": "8c091306-995a-4938-9296-6a2ecb7a933d",
   "metadata": {},
   "outputs": [],
   "source": [
    "b3.pages"
   ]
  },
  {
   "cell_type": "code",
   "execution_count": null,
   "id": "cd4ec566-a1ff-45ba-87a0-5184e4509b60",
   "metadata": {},
   "outputs": [],
   "source": [
    "b3.export_journal(\"out\")"
   ]
  },
  {
   "cell_type": "code",
   "execution_count": null,
   "id": "3ce81605-1dff-4333-b930-dbe3bbfaff35",
   "metadata": {},
   "outputs": [],
   "source": [
    "b4 = batch.from_journal(\"journal.xlsx\")"
   ]
  },
  {
   "cell_type": "code",
   "execution_count": null,
   "id": "beaca324-dc3a-4485-9698-4944699cde4a",
   "metadata": {},
   "outputs": [],
   "source": [
    "b4"
   ]
  },
  {
   "cell_type": "code",
   "execution_count": null,
   "id": "0228b2bd-ff69-49f8-93af-d575f5b9cee4",
   "metadata": {},
   "outputs": [],
   "source": [
    "b4.pages"
   ]
  },
  {
   "cell_type": "code",
   "execution_count": null,
   "id": "1abcbe3a-87dd-4dbc-9f14-56b23b54b240",
   "metadata": {},
   "outputs": [],
   "source": [
    "b4.export_journal(\"out2\")"
   ]
  },
  {
   "cell_type": "code",
   "execution_count": null,
   "id": "f9db3893-7cd8-4623-8283-f5a1d789fb64",
   "metadata": {},
   "outputs": [],
   "source": []
  }
 ],
 "metadata": {
  "kernelspec": {
   "display_name": "cellpy",
   "language": "python",
   "name": "cellpy"
  },
  "language_info": {
   "codemirror_mode": {
    "name": "ipython",
    "version": 3
   },
   "file_extension": ".py",
   "mimetype": "text/x-python",
   "name": "python",
   "nbconvert_exporter": "python",
   "pygments_lexer": "ipython3",
   "version": "3.10.4"
  }
 },
 "nbformat": 4,
 "nbformat_minor": 5
}
