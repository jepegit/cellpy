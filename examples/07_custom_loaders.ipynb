{
 "cells": [
  {
   "cell_type": "markdown",
   "id": "a8490648-f7d2-4d61-93fa-aabe7d6266d5",
   "metadata": {},
   "source": [
    "# Defining your own custom loaders"
   ]
  },
  {
   "cell_type": "code",
   "execution_count": 1,
   "id": "68afae4d-7331-46f4-b2eb-e302806cc80d",
   "metadata": {},
   "outputs": [],
   "source": [
    "from rich import print\n",
    "\n",
    "import cellpy\n",
    "from cellpy.utils import example_data, plotutils"
   ]
  },
  {
   "cell_type": "code",
   "execution_count": 2,
   "id": "059d218d-b026-4462-a827-1e13a00a0b5b",
   "metadata": {},
   "outputs": [],
   "source": [
    "# Comment out this when running the notebook locally to get interactive plots\n",
    "import plotly.io as pio\n",
    "pio.renderers.default = \"png\""
   ]
  },
  {
   "cell_type": "markdown",
   "id": "431c4642-33a6-445b-8b18-96c58819ae60",
   "metadata": {},
   "source": [
    "Defining a simple utility-function to get a peek of the file in question:"
   ]
  },
  {
   "cell_type": "code",
   "execution_count": 3,
   "id": "b87db1da-514b-4a74-b3b0-e29aaa8867a8",
   "metadata": {},
   "outputs": [],
   "source": [
    "def head(f, n=5):\n",
    "    print(f\" {f.name} \".center(80, \"=\"))\n",
    "    with open(f) as datafile:\n",
    "        if n > 1:\n",
    "            for j in range(n):\n",
    "                line = datafile.readline()\n",
    "                print(f\"[{j+1:02}] {line.rstrip()}\")\n",
    "        else:\n",
    "            for j, line in enumerate(datafile.readlines()):\n",
    "                print(f\"[{j+1:02}] {line.rstrip()}\")\n",
    "    print(f\" {f.name} \".center(80, \"=\"))"
   ]
  },
  {
   "cell_type": "markdown",
   "id": "e79f70f4-51ac-4a3d-9f02-a3c8793ffa5d",
   "metadata": {},
   "source": [
    "## Using the \"custom\" instrument\n",
    "\n",
    "This loader can be used if you have simple but unusual files. It needs an instrument file containing a description of the structure of the data file.\n",
    "You can load files in csv, xlsx, and xls format using this loader.\n",
    "\n",
    "Here is an example of a custom data file and a corresponding instrument file (yaml format)."
   ]
  },
  {
   "cell_type": "code",
   "execution_count": 4,
   "id": "b48721b9-bb60-4d79-9622-d7b50e265bfe",
   "metadata": {},
   "outputs": [],
   "source": [
    "p_csv = example_data.custom_file_path()\n",
    "instrument_file = example_data.custom_instrument_path()"
   ]
  },
  {
   "cell_type": "code",
   "execution_count": 5,
   "id": "724b3b8f-49e3-417c-9240-e1251e33cda9",
   "metadata": {},
   "outputs": [
    {
     "data": {
      "text/html": [
       "<pre style=\"white-space:pre;overflow-x:auto;line-height:normal;font-family:Menlo,'DejaVu Sans Mono',consolas,'Courier New',monospace\">=============================== custom_data.csv ================================\n",
       "</pre>\n"
      ],
      "text/plain": [
       "=============================== custom_data.csv ================================\n"
      ]
     },
     "metadata": {},
     "output_type": "display_data"
    },
    {
     "data": {
      "text/html": [
       "<pre style=\"white-space:pre;overflow-x:auto;line-height:normal;font-family:Menlo,'DejaVu Sans Mono',consolas,'Courier New',monospace\"><span style=\"font-weight: bold\">[</span><span style=\"color: #008080; text-decoration-color: #008080; font-weight: bold\">01</span><span style=\"font-weight: bold\">]</span> # PRIME INSTRUMENT FILE --- M12X---!! HEAD !!---M13B---;;;;;;;;;\n",
       "</pre>\n"
      ],
      "text/plain": [
       "\u001b[1m[\u001b[0m\u001b[1;36m01\u001b[0m\u001b[1m]\u001b[0m # PRIME INSTRUMENT FILE --- M12X---!! HEAD !!---M13B---;;;;;;;;;\n"
      ]
     },
     "metadata": {},
     "output_type": "display_data"
    },
    {
     "data": {
      "text/html": [
       "<pre style=\"white-space:pre;overflow-x:auto;line-height:normal;font-family:Menlo,'DejaVu Sans Mono',consolas,'Courier New',monospace\"><span style=\"font-weight: bold\">[</span><span style=\"color: #008080; text-decoration-color: #008080; font-weight: bold\">02</span><span style=\"font-weight: bold\">]</span> number of headers ;<span style=\"color: #008080; text-decoration-color: #008080; font-weight: bold\">19</span>;;;;;;;;\n",
       "</pre>\n"
      ],
      "text/plain": [
       "\u001b[1m[\u001b[0m\u001b[1;36m02\u001b[0m\u001b[1m]\u001b[0m number of headers ;\u001b[1;36m19\u001b[0m;;;;;;;;\n"
      ]
     },
     "metadata": {},
     "output_type": "display_data"
    },
    {
     "data": {
      "text/html": [
       "<pre style=\"white-space:pre;overflow-x:auto;line-height:normal;font-family:Menlo,'DejaVu Sans Mono',consolas,'Courier New',monospace\"><span style=\"font-weight: bold\">[</span><span style=\"color: #008080; text-decoration-color: #008080; font-weight: bold\">03</span><span style=\"font-weight: bold\">]</span> operator;Jan Petter Maehlen;;;;;;;;\n",
       "</pre>\n"
      ],
      "text/plain": [
       "\u001b[1m[\u001b[0m\u001b[1;36m03\u001b[0m\u001b[1m]\u001b[0m operator;Jan Petter Maehlen;;;;;;;;\n"
      ]
     },
     "metadata": {},
     "output_type": "display_data"
    },
    {
     "data": {
      "text/html": [
       "<pre style=\"white-space:pre;overflow-x:auto;line-height:normal;font-family:Menlo,'DejaVu Sans Mono',consolas,'Courier New',monospace\"><span style=\"font-weight: bold\">[</span><span style=\"color: #008080; text-decoration-color: #008080; font-weight: bold\">04</span><span style=\"font-weight: bold\">]</span> date;<span style=\"color: #008080; text-decoration-color: #008080; font-weight: bold\">01.01</span>.<span style=\"color: #008080; text-decoration-color: #008080; font-weight: bold\">2016</span>;;;;;;;;\n",
       "</pre>\n"
      ],
      "text/plain": [
       "\u001b[1m[\u001b[0m\u001b[1;36m04\u001b[0m\u001b[1m]\u001b[0m date;\u001b[1;36m01.01\u001b[0m.\u001b[1;36m2016\u001b[0m;;;;;;;;\n"
      ]
     },
     "metadata": {},
     "output_type": "display_data"
    },
    {
     "data": {
      "text/html": [
       "<pre style=\"white-space:pre;overflow-x:auto;line-height:normal;font-family:Menlo,'DejaVu Sans Mono',consolas,'Courier New',monospace\"><span style=\"font-weight: bold\">[</span><span style=\"color: #008080; text-decoration-color: #008080; font-weight: bold\">05</span><span style=\"font-weight: bold\">]</span> instrument;bobby;;;;;;;;\n",
       "</pre>\n"
      ],
      "text/plain": [
       "\u001b[1m[\u001b[0m\u001b[1;36m05\u001b[0m\u001b[1m]\u001b[0m instrument;bobby;;;;;;;;\n"
      ]
     },
     "metadata": {},
     "output_type": "display_data"
    },
    {
     "data": {
      "text/html": [
       "<pre style=\"white-space:pre;overflow-x:auto;line-height:normal;font-family:Menlo,'DejaVu Sans Mono',consolas,'Courier New',monospace\"><span style=\"font-weight: bold\">[</span><span style=\"color: #008080; text-decoration-color: #008080; font-weight: bold\">06</span><span style=\"font-weight: bold\">]</span> schedule;galvanic;;;;;;;;\n",
       "</pre>\n"
      ],
      "text/plain": [
       "\u001b[1m[\u001b[0m\u001b[1;36m06\u001b[0m\u001b[1m]\u001b[0m schedule;galvanic;;;;;;;;\n"
      ]
     },
     "metadata": {},
     "output_type": "display_data"
    },
    {
     "data": {
      "text/html": [
       "<pre style=\"white-space:pre;overflow-x:auto;line-height:normal;font-family:Menlo,'DejaVu Sans Mono',consolas,'Courier New',monospace\"><span style=\"font-weight: bold\">[</span><span style=\"color: #008080; text-decoration-color: #008080; font-weight: bold\">07</span><span style=\"font-weight: bold\">]</span> cell;ee002;;;;;;;;\n",
       "</pre>\n"
      ],
      "text/plain": [
       "\u001b[1m[\u001b[0m\u001b[1;36m07\u001b[0m\u001b[1m]\u001b[0m cell;ee002;;;;;;;;\n"
      ]
     },
     "metadata": {},
     "output_type": "display_data"
    },
    {
     "data": {
      "text/html": [
       "<pre style=\"white-space:pre;overflow-x:auto;line-height:normal;font-family:Menlo,'DejaVu Sans Mono',consolas,'Courier New',monospace\"><span style=\"font-weight: bold\">[</span><span style=\"color: #008080; text-decoration-color: #008080; font-weight: bold\">08</span><span style=\"font-weight: bold\">]</span> geometry;half-cell;;;;;;;;\n",
       "</pre>\n"
      ],
      "text/plain": [
       "\u001b[1m[\u001b[0m\u001b[1;36m08\u001b[0m\u001b[1m]\u001b[0m geometry;half-cell;;;;;;;;\n"
      ]
     },
     "metadata": {},
     "output_type": "display_data"
    },
    {
     "data": {
      "text/html": [
       "<pre style=\"white-space:pre;overflow-x:auto;line-height:normal;font-family:Menlo,'DejaVu Sans Mono',consolas,'Courier New',monospace\"><span style=\"font-weight: bold\">[</span><span style=\"color: #008080; text-decoration-color: #008080; font-weight: bold\">09</span><span style=\"font-weight: bold\">]</span> counter;Li-metal;;;;;;;;\n",
       "</pre>\n"
      ],
      "text/plain": [
       "\u001b[1m[\u001b[0m\u001b[1;36m09\u001b[0m\u001b[1m]\u001b[0m counter;Li-metal;;;;;;;;\n"
      ]
     },
     "metadata": {},
     "output_type": "display_data"
    },
    {
     "data": {
      "text/html": [
       "<pre style=\"white-space:pre;overflow-x:auto;line-height:normal;font-family:Menlo,'DejaVu Sans Mono',consolas,'Courier New',monospace\"><span style=\"font-weight: bold\">[</span><span style=\"color: #008080; text-decoration-color: #008080; font-weight: bold\">10</span><span style=\"font-weight: bold\">]</span> material;si-based;;;;;;;;\n",
       "</pre>\n"
      ],
      "text/plain": [
       "\u001b[1m[\u001b[0m\u001b[1;36m10\u001b[0m\u001b[1m]\u001b[0m material;si-based;;;;;;;;\n"
      ]
     },
     "metadata": {},
     "output_type": "display_data"
    },
    {
     "data": {
      "text/html": [
       "<pre style=\"white-space:pre;overflow-x:auto;line-height:normal;font-family:Menlo,'DejaVu Sans Mono',consolas,'Courier New',monospace\"><span style=\"font-weight: bold\">[</span><span style=\"color: #008080; text-decoration-color: #008080; font-weight: bold\">11</span><span style=\"font-weight: bold\">]</span> mass;<span style=\"color: #008080; text-decoration-color: #008080; font-weight: bold\">0.0012</span>;;;;;;;;\n",
       "</pre>\n"
      ],
      "text/plain": [
       "\u001b[1m[\u001b[0m\u001b[1;36m11\u001b[0m\u001b[1m]\u001b[0m mass;\u001b[1;36m0.0012\u001b[0m;;;;;;;;\n"
      ]
     },
     "metadata": {},
     "output_type": "display_data"
    },
    {
     "data": {
      "text/html": [
       "<pre style=\"white-space:pre;overflow-x:auto;line-height:normal;font-family:Menlo,'DejaVu Sans Mono',consolas,'Courier New',monospace\"><span style=\"font-weight: bold\">[</span><span style=\"color: #008080; text-decoration-color: #008080; font-weight: bold\">12</span><span style=\"font-weight: bold\">]</span> # PRIME INSTRUMENT FILE ---L01---<span style=\"color: #008000; text-decoration-color: #008000\">''</span>LOG'' --<span style=\"color: #008080; text-decoration-color: #008080; font-weight: bold\">-0000000</span>-;;;;;;;;;\n",
       "</pre>\n"
      ],
      "text/plain": [
       "\u001b[1m[\u001b[0m\u001b[1;36m12\u001b[0m\u001b[1m]\u001b[0m # PRIME INSTRUMENT FILE ---L01---\u001b[32m''\u001b[0mLOG'' --\u001b[1;36m-0000000\u001b[0m-;;;;;;;;;\n"
      ]
     },
     "metadata": {},
     "output_type": "display_data"
    },
    {
     "data": {
      "text/html": [
       "<pre style=\"white-space:pre;overflow-x:auto;line-height:normal;font-family:Menlo,'DejaVu Sans Mono',consolas,'Courier New',monospace\"><span style=\"font-weight: bold\">[</span><span style=\"color: #008080; text-decoration-color: #008080; font-weight: bold\">13</span><span style=\"font-weight: bold\">]</span> <span style=\"color: #008080; text-decoration-color: #008080; font-weight: bold\">15</span>;Started collecting auxilary data <span style=\"font-weight: bold\">(</span>saved to output.log<span style=\"font-weight: bold\">)</span>;;;;;;;;\n",
       "</pre>\n"
      ],
      "text/plain": [
       "\u001b[1m[\u001b[0m\u001b[1;36m13\u001b[0m\u001b[1m]\u001b[0m \u001b[1;36m15\u001b[0m;Started collecting auxilary data \u001b[1m(\u001b[0msaved to output.log\u001b[1m)\u001b[0m;;;;;;;;\n"
      ]
     },
     "metadata": {},
     "output_type": "display_data"
    },
    {
     "data": {
      "text/html": [
       "<pre style=\"white-space:pre;overflow-x:auto;line-height:normal;font-family:Menlo,'DejaVu Sans Mono',consolas,'Courier New',monospace\"><span style=\"font-weight: bold\">[</span><span style=\"color: #008080; text-decoration-color: #008080; font-weight: bold\">14</span><span style=\"font-weight: bold\">]</span> <span style=\"color: #008080; text-decoration-color: #008080; font-weight: bold\">773</span>;Problem encountered - reloading config;;;;;;;;\n",
       "</pre>\n"
      ],
      "text/plain": [
       "\u001b[1m[\u001b[0m\u001b[1;36m14\u001b[0m\u001b[1m]\u001b[0m \u001b[1;36m773\u001b[0m;Problem encountered - reloading config;;;;;;;;\n"
      ]
     },
     "metadata": {},
     "output_type": "display_data"
    },
    {
     "data": {
      "text/html": [
       "<pre style=\"white-space:pre;overflow-x:auto;line-height:normal;font-family:Menlo,'DejaVu Sans Mono',consolas,'Courier New',monospace\"><span style=\"font-weight: bold\">[</span><span style=\"color: #008080; text-decoration-color: #008080; font-weight: bold\">15</span><span style=\"font-weight: bold\">]</span> <span style=\"color: #008080; text-decoration-color: #008080; font-weight: bold\">1111</span>;R12;;;;;;;;\n",
       "</pre>\n"
      ],
      "text/plain": [
       "\u001b[1m[\u001b[0m\u001b[1;36m15\u001b[0m\u001b[1m]\u001b[0m \u001b[1;36m1111\u001b[0m;R12;;;;;;;;\n"
      ]
     },
     "metadata": {},
     "output_type": "display_data"
    },
    {
     "data": {
      "text/html": [
       "<pre style=\"white-space:pre;overflow-x:auto;line-height:normal;font-family:Menlo,'DejaVu Sans Mono',consolas,'Courier New',monospace\"><span style=\"font-weight: bold\">[</span><span style=\"color: #008080; text-decoration-color: #008080; font-weight: bold\">16</span><span style=\"font-weight: bold\">]</span> <span style=\"color: #008080; text-decoration-color: #008080; font-weight: bold\">6588</span>;R12;;;;;;;;\n",
       "</pre>\n"
      ],
      "text/plain": [
       "\u001b[1m[\u001b[0m\u001b[1;36m16\u001b[0m\u001b[1m]\u001b[0m \u001b[1;36m6588\u001b[0m;R12;;;;;;;;\n"
      ]
     },
     "metadata": {},
     "output_type": "display_data"
    },
    {
     "data": {
      "text/html": [
       "<pre style=\"white-space:pre;overflow-x:auto;line-height:normal;font-family:Menlo,'DejaVu Sans Mono',consolas,'Courier New',monospace\"><span style=\"font-weight: bold\">[</span><span style=\"color: #008080; text-decoration-color: #008080; font-weight: bold\">17</span><span style=\"font-weight: bold\">]</span> <span style=\"color: #008080; text-decoration-color: #008080; font-weight: bold\">7712</span>;Problem encountered - reloading config;;;;;;;;\n",
       "</pre>\n"
      ],
      "text/plain": [
       "\u001b[1m[\u001b[0m\u001b[1;36m17\u001b[0m\u001b[1m]\u001b[0m \u001b[1;36m7712\u001b[0m;Problem encountered - reloading config;;;;;;;;\n"
      ]
     },
     "metadata": {},
     "output_type": "display_data"
    },
    {
     "data": {
      "text/html": [
       "<pre style=\"white-space:pre;overflow-x:auto;line-height:normal;font-family:Menlo,'DejaVu Sans Mono',consolas,'Courier New',monospace\"><span style=\"font-weight: bold\">[</span><span style=\"color: #008080; text-decoration-color: #008080; font-weight: bold\">18</span><span style=\"font-weight: bold\">]</span> <span style=\"color: #008080; text-decoration-color: #008080; font-weight: bold\">78999</span>;R0;;;;;;;;\n",
       "</pre>\n"
      ],
      "text/plain": [
       "\u001b[1m[\u001b[0m\u001b[1;36m18\u001b[0m\u001b[1m]\u001b[0m \u001b[1;36m78999\u001b[0m;R0;;;;;;;;\n"
      ]
     },
     "metadata": {},
     "output_type": "display_data"
    },
    {
     "data": {
      "text/html": [
       "<pre style=\"white-space:pre;overflow-x:auto;line-height:normal;font-family:Menlo,'DejaVu Sans Mono',consolas,'Courier New',monospace\"><span style=\"font-weight: bold\">[</span><span style=\"color: #008080; text-decoration-color: #008080; font-weight: bold\">19</span><span style=\"font-weight: bold\">]</span> # PRIME INSTRUMENT FILE --<span style=\"color: #008080; text-decoration-color: #008080; font-weight: bold\">-268876</span>-;;;;;;;;;\n",
       "</pre>\n"
      ],
      "text/plain": [
       "\u001b[1m[\u001b[0m\u001b[1;36m19\u001b[0m\u001b[1m]\u001b[0m # PRIME INSTRUMENT FILE --\u001b[1;36m-268876\u001b[0m-;;;;;;;;;\n"
      ]
     },
     "metadata": {},
     "output_type": "display_data"
    },
    {
     "data": {
      "text/html": [
       "<pre style=\"white-space:pre;overflow-x:auto;line-height:normal;font-family:Menlo,'DejaVu Sans Mono',consolas,'Courier New',monospace\"><span style=\"font-weight: bold\">[</span><span style=\"color: #008080; text-decoration-color: #008080; font-weight: bold\">20</span><span style=\"font-weight: bold\">]</span> index;test_time;step_time;date_stamp;step;cycle;current;voltage;charge_capacity;discharge_Capacity\n",
       "</pre>\n"
      ],
      "text/plain": [
       "\u001b[1m[\u001b[0m\u001b[1;36m20\u001b[0m\u001b[1m]\u001b[0m index;test_time;step_time;date_stamp;step;cycle;current;voltage;charge_capacity;discharge_Capacity\n"
      ]
     },
     "metadata": {},
     "output_type": "display_data"
    },
    {
     "data": {
      "text/html": [
       "<pre style=\"white-space:pre;overflow-x:auto;line-height:normal;font-family:Menlo,'DejaVu Sans Mono',consolas,'Courier New',monospace\"><span style=\"font-weight: bold\">[</span><span style=\"color: #008080; text-decoration-color: #008080; font-weight: bold\">21</span><span style=\"font-weight: bold\">]</span> <span style=\"color: #008080; text-decoration-color: #008080; font-weight: bold\">0</span>;<span style=\"color: #008080; text-decoration-color: #008080; font-weight: bold\">120.00</span>;<span style=\"color: #008080; text-decoration-color: #008080; font-weight: bold\">120.00</span>;<span style=\"color: #008080; text-decoration-color: #008080; font-weight: bold\">43374.42</span>;<span style=\"color: #008080; text-decoration-color: #008080; font-weight: bold\">1</span>;<span style=\"color: #008080; text-decoration-color: #008080; font-weight: bold\">1</span>;<span style=\"color: #008080; text-decoration-color: #008080; font-weight: bold\">0.00</span>;<span style=\"color: #008080; text-decoration-color: #008080; font-weight: bold\">1.14</span>;<span style=\"color: #008080; text-decoration-color: #008080; font-weight: bold\">0.00</span>;<span style=\"color: #008080; text-decoration-color: #008080; font-weight: bold\">0.00</span>\n",
       "</pre>\n"
      ],
      "text/plain": [
       "\u001b[1m[\u001b[0m\u001b[1;36m21\u001b[0m\u001b[1m]\u001b[0m \u001b[1;36m0\u001b[0m;\u001b[1;36m120.00\u001b[0m;\u001b[1;36m120.00\u001b[0m;\u001b[1;36m43374.42\u001b[0m;\u001b[1;36m1\u001b[0m;\u001b[1;36m1\u001b[0m;\u001b[1;36m0.00\u001b[0m;\u001b[1;36m1.14\u001b[0m;\u001b[1;36m0.00\u001b[0m;\u001b[1;36m0.00\u001b[0m\n"
      ]
     },
     "metadata": {},
     "output_type": "display_data"
    },
    {
     "data": {
      "text/html": [
       "<pre style=\"white-space:pre;overflow-x:auto;line-height:normal;font-family:Menlo,'DejaVu Sans Mono',consolas,'Courier New',monospace\"><span style=\"font-weight: bold\">[</span><span style=\"color: #008080; text-decoration-color: #008080; font-weight: bold\">22</span><span style=\"font-weight: bold\">]</span> <span style=\"color: #008080; text-decoration-color: #008080; font-weight: bold\">1</span>;<span style=\"color: #008080; text-decoration-color: #008080; font-weight: bold\">240.00</span>;<span style=\"color: #008080; text-decoration-color: #008080; font-weight: bold\">240.00</span>;<span style=\"color: #008080; text-decoration-color: #008080; font-weight: bold\">43374.42</span>;<span style=\"color: #008080; text-decoration-color: #008080; font-weight: bold\">1</span>;<span style=\"color: #008080; text-decoration-color: #008080; font-weight: bold\">1</span>;<span style=\"color: #008080; text-decoration-color: #008080; font-weight: bold\">0.00</span>;<span style=\"color: #008080; text-decoration-color: #008080; font-weight: bold\">1.14</span>;<span style=\"color: #008080; text-decoration-color: #008080; font-weight: bold\">0.00</span>;<span style=\"color: #008080; text-decoration-color: #008080; font-weight: bold\">0.00</span>\n",
       "</pre>\n"
      ],
      "text/plain": [
       "\u001b[1m[\u001b[0m\u001b[1;36m22\u001b[0m\u001b[1m]\u001b[0m \u001b[1;36m1\u001b[0m;\u001b[1;36m240.00\u001b[0m;\u001b[1;36m240.00\u001b[0m;\u001b[1;36m43374.42\u001b[0m;\u001b[1;36m1\u001b[0m;\u001b[1;36m1\u001b[0m;\u001b[1;36m0.00\u001b[0m;\u001b[1;36m1.14\u001b[0m;\u001b[1;36m0.00\u001b[0m;\u001b[1;36m0.00\u001b[0m\n"
      ]
     },
     "metadata": {},
     "output_type": "display_data"
    },
    {
     "data": {
      "text/html": [
       "<pre style=\"white-space:pre;overflow-x:auto;line-height:normal;font-family:Menlo,'DejaVu Sans Mono',consolas,'Courier New',monospace\"><span style=\"font-weight: bold\">[</span><span style=\"color: #008080; text-decoration-color: #008080; font-weight: bold\">23</span><span style=\"font-weight: bold\">]</span> <span style=\"color: #008080; text-decoration-color: #008080; font-weight: bold\">2</span>;<span style=\"color: #008080; text-decoration-color: #008080; font-weight: bold\">360.00</span>;<span style=\"color: #008080; text-decoration-color: #008080; font-weight: bold\">360.00</span>;<span style=\"color: #008080; text-decoration-color: #008080; font-weight: bold\">43374.42</span>;<span style=\"color: #008080; text-decoration-color: #008080; font-weight: bold\">1</span>;<span style=\"color: #008080; text-decoration-color: #008080; font-weight: bold\">1</span>;<span style=\"color: #008080; text-decoration-color: #008080; font-weight: bold\">0.00</span>;<span style=\"color: #008080; text-decoration-color: #008080; font-weight: bold\">1.14</span>;<span style=\"color: #008080; text-decoration-color: #008080; font-weight: bold\">0.00</span>;<span style=\"color: #008080; text-decoration-color: #008080; font-weight: bold\">0.00</span>\n",
       "</pre>\n"
      ],
      "text/plain": [
       "\u001b[1m[\u001b[0m\u001b[1;36m23\u001b[0m\u001b[1m]\u001b[0m \u001b[1;36m2\u001b[0m;\u001b[1;36m360.00\u001b[0m;\u001b[1;36m360.00\u001b[0m;\u001b[1;36m43374.42\u001b[0m;\u001b[1;36m1\u001b[0m;\u001b[1;36m1\u001b[0m;\u001b[1;36m0.00\u001b[0m;\u001b[1;36m1.14\u001b[0m;\u001b[1;36m0.00\u001b[0m;\u001b[1;36m0.00\u001b[0m\n"
      ]
     },
     "metadata": {},
     "output_type": "display_data"
    },
    {
     "data": {
      "text/html": [
       "<pre style=\"white-space:pre;overflow-x:auto;line-height:normal;font-family:Menlo,'DejaVu Sans Mono',consolas,'Courier New',monospace\"><span style=\"font-weight: bold\">[</span><span style=\"color: #008080; text-decoration-color: #008080; font-weight: bold\">24</span><span style=\"font-weight: bold\">]</span> <span style=\"color: #008080; text-decoration-color: #008080; font-weight: bold\">3</span>;<span style=\"color: #008080; text-decoration-color: #008080; font-weight: bold\">480.00</span>;<span style=\"color: #008080; text-decoration-color: #008080; font-weight: bold\">480.00</span>;<span style=\"color: #008080; text-decoration-color: #008080; font-weight: bold\">43374.42</span>;<span style=\"color: #008080; text-decoration-color: #008080; font-weight: bold\">1</span>;<span style=\"color: #008080; text-decoration-color: #008080; font-weight: bold\">1</span>;<span style=\"color: #008080; text-decoration-color: #008080; font-weight: bold\">0.00</span>;<span style=\"color: #008080; text-decoration-color: #008080; font-weight: bold\">1.14</span>;<span style=\"color: #008080; text-decoration-color: #008080; font-weight: bold\">0.00</span>;<span style=\"color: #008080; text-decoration-color: #008080; font-weight: bold\">0.00</span>\n",
       "</pre>\n"
      ],
      "text/plain": [
       "\u001b[1m[\u001b[0m\u001b[1;36m24\u001b[0m\u001b[1m]\u001b[0m \u001b[1;36m3\u001b[0m;\u001b[1;36m480.00\u001b[0m;\u001b[1;36m480.00\u001b[0m;\u001b[1;36m43374.42\u001b[0m;\u001b[1;36m1\u001b[0m;\u001b[1;36m1\u001b[0m;\u001b[1;36m0.00\u001b[0m;\u001b[1;36m1.14\u001b[0m;\u001b[1;36m0.00\u001b[0m;\u001b[1;36m0.00\u001b[0m\n"
      ]
     },
     "metadata": {},
     "output_type": "display_data"
    },
    {
     "data": {
      "text/html": [
       "<pre style=\"white-space:pre;overflow-x:auto;line-height:normal;font-family:Menlo,'DejaVu Sans Mono',consolas,'Courier New',monospace\"><span style=\"font-weight: bold\">[</span><span style=\"color: #008080; text-decoration-color: #008080; font-weight: bold\">25</span><span style=\"font-weight: bold\">]</span> <span style=\"color: #008080; text-decoration-color: #008080; font-weight: bold\">4</span>;<span style=\"color: #008080; text-decoration-color: #008080; font-weight: bold\">600.01</span>;<span style=\"color: #008080; text-decoration-color: #008080; font-weight: bold\">600.01</span>;<span style=\"color: #008080; text-decoration-color: #008080; font-weight: bold\">43374.42</span>;<span style=\"color: #008080; text-decoration-color: #008080; font-weight: bold\">1</span>;<span style=\"color: #008080; text-decoration-color: #008080; font-weight: bold\">1</span>;<span style=\"color: #008080; text-decoration-color: #008080; font-weight: bold\">0.00</span>;<span style=\"color: #008080; text-decoration-color: #008080; font-weight: bold\">1.14</span>;<span style=\"color: #008080; text-decoration-color: #008080; font-weight: bold\">0.00</span>;<span style=\"color: #008080; text-decoration-color: #008080; font-weight: bold\">0.00</span>\n",
       "</pre>\n"
      ],
      "text/plain": [
       "\u001b[1m[\u001b[0m\u001b[1;36m25\u001b[0m\u001b[1m]\u001b[0m \u001b[1;36m4\u001b[0m;\u001b[1;36m600.01\u001b[0m;\u001b[1;36m600.01\u001b[0m;\u001b[1;36m43374.42\u001b[0m;\u001b[1;36m1\u001b[0m;\u001b[1;36m1\u001b[0m;\u001b[1;36m0.00\u001b[0m;\u001b[1;36m1.14\u001b[0m;\u001b[1;36m0.00\u001b[0m;\u001b[1;36m0.00\u001b[0m\n"
      ]
     },
     "metadata": {},
     "output_type": "display_data"
    },
    {
     "data": {
      "text/html": [
       "<pre style=\"white-space:pre;overflow-x:auto;line-height:normal;font-family:Menlo,'DejaVu Sans Mono',consolas,'Courier New',monospace\"><span style=\"font-weight: bold\">[</span><span style=\"color: #008080; text-decoration-color: #008080; font-weight: bold\">26</span><span style=\"font-weight: bold\">]</span> <span style=\"color: #008080; text-decoration-color: #008080; font-weight: bold\">5</span>;<span style=\"color: #008080; text-decoration-color: #008080; font-weight: bold\">720.01</span>;<span style=\"color: #008080; text-decoration-color: #008080; font-weight: bold\">720.01</span>;<span style=\"color: #008080; text-decoration-color: #008080; font-weight: bold\">43374.42</span>;<span style=\"color: #008080; text-decoration-color: #008080; font-weight: bold\">1</span>;<span style=\"color: #008080; text-decoration-color: #008080; font-weight: bold\">1</span>;<span style=\"color: #008080; text-decoration-color: #008080; font-weight: bold\">0.00</span>;<span style=\"color: #008080; text-decoration-color: #008080; font-weight: bold\">1.14</span>;<span style=\"color: #008080; text-decoration-color: #008080; font-weight: bold\">0.00</span>;<span style=\"color: #008080; text-decoration-color: #008080; font-weight: bold\">0.00</span>\n",
       "</pre>\n"
      ],
      "text/plain": [
       "\u001b[1m[\u001b[0m\u001b[1;36m26\u001b[0m\u001b[1m]\u001b[0m \u001b[1;36m5\u001b[0m;\u001b[1;36m720.01\u001b[0m;\u001b[1;36m720.01\u001b[0m;\u001b[1;36m43374.42\u001b[0m;\u001b[1;36m1\u001b[0m;\u001b[1;36m1\u001b[0m;\u001b[1;36m0.00\u001b[0m;\u001b[1;36m1.14\u001b[0m;\u001b[1;36m0.00\u001b[0m;\u001b[1;36m0.00\u001b[0m\n"
      ]
     },
     "metadata": {},
     "output_type": "display_data"
    },
    {
     "data": {
      "text/html": [
       "<pre style=\"white-space:pre;overflow-x:auto;line-height:normal;font-family:Menlo,'DejaVu Sans Mono',consolas,'Courier New',monospace\"><span style=\"font-weight: bold\">[</span><span style=\"color: #008080; text-decoration-color: #008080; font-weight: bold\">27</span><span style=\"font-weight: bold\">]</span> <span style=\"color: #008080; text-decoration-color: #008080; font-weight: bold\">6</span>;<span style=\"color: #008080; text-decoration-color: #008080; font-weight: bold\">840.01</span>;<span style=\"color: #008080; text-decoration-color: #008080; font-weight: bold\">840.01</span>;<span style=\"color: #008080; text-decoration-color: #008080; font-weight: bold\">43374.42</span>;<span style=\"color: #008080; text-decoration-color: #008080; font-weight: bold\">1</span>;<span style=\"color: #008080; text-decoration-color: #008080; font-weight: bold\">1</span>;<span style=\"color: #008080; text-decoration-color: #008080; font-weight: bold\">0.00</span>;<span style=\"color: #008080; text-decoration-color: #008080; font-weight: bold\">1.14</span>;<span style=\"color: #008080; text-decoration-color: #008080; font-weight: bold\">0.00</span>;<span style=\"color: #008080; text-decoration-color: #008080; font-weight: bold\">0.00</span>\n",
       "</pre>\n"
      ],
      "text/plain": [
       "\u001b[1m[\u001b[0m\u001b[1;36m27\u001b[0m\u001b[1m]\u001b[0m \u001b[1;36m6\u001b[0m;\u001b[1;36m840.01\u001b[0m;\u001b[1;36m840.01\u001b[0m;\u001b[1;36m43374.42\u001b[0m;\u001b[1;36m1\u001b[0m;\u001b[1;36m1\u001b[0m;\u001b[1;36m0.00\u001b[0m;\u001b[1;36m1.14\u001b[0m;\u001b[1;36m0.00\u001b[0m;\u001b[1;36m0.00\u001b[0m\n"
      ]
     },
     "metadata": {},
     "output_type": "display_data"
    },
    {
     "data": {
      "text/html": [
       "<pre style=\"white-space:pre;overflow-x:auto;line-height:normal;font-family:Menlo,'DejaVu Sans Mono',consolas,'Courier New',monospace\"><span style=\"font-weight: bold\">[</span><span style=\"color: #008080; text-decoration-color: #008080; font-weight: bold\">28</span><span style=\"font-weight: bold\">]</span> <span style=\"color: #008080; text-decoration-color: #008080; font-weight: bold\">7</span>;<span style=\"color: #008080; text-decoration-color: #008080; font-weight: bold\">960.01</span>;<span style=\"color: #008080; text-decoration-color: #008080; font-weight: bold\">960.01</span>;<span style=\"color: #008080; text-decoration-color: #008080; font-weight: bold\">43374.43</span>;<span style=\"color: #008080; text-decoration-color: #008080; font-weight: bold\">1</span>;<span style=\"color: #008080; text-decoration-color: #008080; font-weight: bold\">1</span>;<span style=\"color: #008080; text-decoration-color: #008080; font-weight: bold\">0.00</span>;<span style=\"color: #008080; text-decoration-color: #008080; font-weight: bold\">1.14</span>;<span style=\"color: #008080; text-decoration-color: #008080; font-weight: bold\">0.00</span>;<span style=\"color: #008080; text-decoration-color: #008080; font-weight: bold\">0.00</span>\n",
       "</pre>\n"
      ],
      "text/plain": [
       "\u001b[1m[\u001b[0m\u001b[1;36m28\u001b[0m\u001b[1m]\u001b[0m \u001b[1;36m7\u001b[0m;\u001b[1;36m960.01\u001b[0m;\u001b[1;36m960.01\u001b[0m;\u001b[1;36m43374.43\u001b[0m;\u001b[1;36m1\u001b[0m;\u001b[1;36m1\u001b[0m;\u001b[1;36m0.00\u001b[0m;\u001b[1;36m1.14\u001b[0m;\u001b[1;36m0.00\u001b[0m;\u001b[1;36m0.00\u001b[0m\n"
      ]
     },
     "metadata": {},
     "output_type": "display_data"
    },
    {
     "data": {
      "text/html": [
       "<pre style=\"white-space:pre;overflow-x:auto;line-height:normal;font-family:Menlo,'DejaVu Sans Mono',consolas,'Courier New',monospace\"><span style=\"font-weight: bold\">[</span><span style=\"color: #008080; text-decoration-color: #008080; font-weight: bold\">29</span><span style=\"font-weight: bold\">]</span> <span style=\"color: #008080; text-decoration-color: #008080; font-weight: bold\">8</span>;<span style=\"color: #008080; text-decoration-color: #008080; font-weight: bold\">1080.01</span>;<span style=\"color: #008080; text-decoration-color: #008080; font-weight: bold\">1080.01</span>;<span style=\"color: #008080; text-decoration-color: #008080; font-weight: bold\">43374.43</span>;<span style=\"color: #008080; text-decoration-color: #008080; font-weight: bold\">1</span>;<span style=\"color: #008080; text-decoration-color: #008080; font-weight: bold\">1</span>;<span style=\"color: #008080; text-decoration-color: #008080; font-weight: bold\">0.00</span>;<span style=\"color: #008080; text-decoration-color: #008080; font-weight: bold\">1.14</span>;<span style=\"color: #008080; text-decoration-color: #008080; font-weight: bold\">0.00</span>;<span style=\"color: #008080; text-decoration-color: #008080; font-weight: bold\">0.00</span>\n",
       "</pre>\n"
      ],
      "text/plain": [
       "\u001b[1m[\u001b[0m\u001b[1;36m29\u001b[0m\u001b[1m]\u001b[0m \u001b[1;36m8\u001b[0m;\u001b[1;36m1080.01\u001b[0m;\u001b[1;36m1080.01\u001b[0m;\u001b[1;36m43374.43\u001b[0m;\u001b[1;36m1\u001b[0m;\u001b[1;36m1\u001b[0m;\u001b[1;36m0.00\u001b[0m;\u001b[1;36m1.14\u001b[0m;\u001b[1;36m0.00\u001b[0m;\u001b[1;36m0.00\u001b[0m\n"
      ]
     },
     "metadata": {},
     "output_type": "display_data"
    },
    {
     "data": {
      "text/html": [
       "<pre style=\"white-space:pre;overflow-x:auto;line-height:normal;font-family:Menlo,'DejaVu Sans Mono',consolas,'Courier New',monospace\"><span style=\"font-weight: bold\">[</span><span style=\"color: #008080; text-decoration-color: #008080; font-weight: bold\">30</span><span style=\"font-weight: bold\">]</span> <span style=\"color: #008080; text-decoration-color: #008080; font-weight: bold\">9</span>;<span style=\"color: #008080; text-decoration-color: #008080; font-weight: bold\">1200.01</span>;<span style=\"color: #008080; text-decoration-color: #008080; font-weight: bold\">1200.01</span>;<span style=\"color: #008080; text-decoration-color: #008080; font-weight: bold\">43374.43</span>;<span style=\"color: #008080; text-decoration-color: #008080; font-weight: bold\">1</span>;<span style=\"color: #008080; text-decoration-color: #008080; font-weight: bold\">1</span>;<span style=\"color: #008080; text-decoration-color: #008080; font-weight: bold\">0.00</span>;<span style=\"color: #008080; text-decoration-color: #008080; font-weight: bold\">1.14</span>;<span style=\"color: #008080; text-decoration-color: #008080; font-weight: bold\">0.00</span>;<span style=\"color: #008080; text-decoration-color: #008080; font-weight: bold\">0.00</span>\n",
       "</pre>\n"
      ],
      "text/plain": [
       "\u001b[1m[\u001b[0m\u001b[1;36m30\u001b[0m\u001b[1m]\u001b[0m \u001b[1;36m9\u001b[0m;\u001b[1;36m1200.01\u001b[0m;\u001b[1;36m1200.01\u001b[0m;\u001b[1;36m43374.43\u001b[0m;\u001b[1;36m1\u001b[0m;\u001b[1;36m1\u001b[0m;\u001b[1;36m0.00\u001b[0m;\u001b[1;36m1.14\u001b[0m;\u001b[1;36m0.00\u001b[0m;\u001b[1;36m0.00\u001b[0m\n"
      ]
     },
     "metadata": {},
     "output_type": "display_data"
    },
    {
     "data": {
      "text/html": [
       "<pre style=\"white-space:pre;overflow-x:auto;line-height:normal;font-family:Menlo,'DejaVu Sans Mono',consolas,'Courier New',monospace\">=============================== custom_data.csv ================================\n",
       "</pre>\n"
      ],
      "text/plain": [
       "=============================== custom_data.csv ================================\n"
      ]
     },
     "metadata": {},
     "output_type": "display_data"
    }
   ],
   "source": [
    "head(p_csv, 30)"
   ]
  },
  {
   "cell_type": "code",
   "execution_count": 6,
   "id": "1b64e7e2-4f9a-48da-b32a-416a4c752333",
   "metadata": {},
   "outputs": [
    {
     "data": {
      "text/html": [
       "<pre style=\"white-space:pre;overflow-x:auto;line-height:normal;font-family:Menlo,'DejaVu Sans Mono',consolas,'Courier New',monospace\">============================ custom_instrument.yml =============================\n",
       "</pre>\n"
      ],
      "text/plain": [
       "============================ custom_instrument.yml =============================\n"
      ]
     },
     "metadata": {},
     "output_type": "display_data"
    },
    {
     "data": {
      "text/html": [
       "<pre style=\"white-space:pre;overflow-x:auto;line-height:normal;font-family:Menlo,'DejaVu Sans Mono',consolas,'Courier New',monospace\"><span style=\"font-weight: bold\">[</span><span style=\"color: #008080; text-decoration-color: #008080; font-weight: bold\">01</span><span style=\"font-weight: bold\">]</span> ---\n",
       "</pre>\n"
      ],
      "text/plain": [
       "\u001b[1m[\u001b[0m\u001b[1;36m01\u001b[0m\u001b[1m]\u001b[0m ---\n"
      ]
     },
     "metadata": {},
     "output_type": "display_data"
    },
    {
     "data": {
      "text/html": [
       "<pre style=\"white-space:pre;overflow-x:auto;line-height:normal;font-family:Menlo,'DejaVu Sans Mono',consolas,'Courier New',monospace\"><span style=\"font-weight: bold\">[</span><span style=\"color: #008080; text-decoration-color: #008080; font-weight: bold\">02</span><span style=\"font-weight: bold\">]</span> formatters:\n",
       "</pre>\n"
      ],
      "text/plain": [
       "\u001b[1m[\u001b[0m\u001b[1;36m02\u001b[0m\u001b[1m]\u001b[0m formatters:\n"
      ]
     },
     "metadata": {},
     "output_type": "display_data"
    },
    {
     "data": {
      "text/html": [
       "<pre style=\"white-space:pre;overflow-x:auto;line-height:normal;font-family:Menlo,'DejaVu Sans Mono',consolas,'Courier New',monospace\"><span style=\"font-weight: bold\">[</span><span style=\"color: #008080; text-decoration-color: #008080; font-weight: bold\">03</span><span style=\"font-weight: bold\">]</span>     skiprows: <span style=\"color: #008080; text-decoration-color: #008080; font-weight: bold\">19</span>\n",
       "</pre>\n"
      ],
      "text/plain": [
       "\u001b[1m[\u001b[0m\u001b[1;36m03\u001b[0m\u001b[1m]\u001b[0m     skiprows: \u001b[1;36m19\u001b[0m\n"
      ]
     },
     "metadata": {},
     "output_type": "display_data"
    },
    {
     "data": {
      "text/html": [
       "<pre style=\"white-space:pre;overflow-x:auto;line-height:normal;font-family:Menlo,'DejaVu Sans Mono',consolas,'Courier New',monospace\"><span style=\"font-weight: bold\">[</span><span style=\"color: #008080; text-decoration-color: #008080; font-weight: bold\">04</span><span style=\"font-weight: bold\">]</span>     sep: <span style=\"color: #008000; text-decoration-color: #008000\">\";\"</span>\n",
       "</pre>\n"
      ],
      "text/plain": [
       "\u001b[1m[\u001b[0m\u001b[1;36m04\u001b[0m\u001b[1m]\u001b[0m     sep: \u001b[32m\";\"\u001b[0m\n"
      ]
     },
     "metadata": {},
     "output_type": "display_data"
    },
    {
     "data": {
      "text/html": [
       "<pre style=\"white-space:pre;overflow-x:auto;line-height:normal;font-family:Menlo,'DejaVu Sans Mono',consolas,'Courier New',monospace\"><span style=\"font-weight: bold\">[</span><span style=\"color: #008080; text-decoration-color: #008080; font-weight: bold\">05</span><span style=\"font-weight: bold\">]</span>     header: <span style=\"color: #008080; text-decoration-color: #008080; font-weight: bold\">0</span>\n",
       "</pre>\n"
      ],
      "text/plain": [
       "\u001b[1m[\u001b[0m\u001b[1;36m05\u001b[0m\u001b[1m]\u001b[0m     header: \u001b[1;36m0\u001b[0m\n"
      ]
     },
     "metadata": {},
     "output_type": "display_data"
    },
    {
     "data": {
      "text/html": [
       "<pre style=\"white-space:pre;overflow-x:auto;line-height:normal;font-family:Menlo,'DejaVu Sans Mono',consolas,'Courier New',monospace\"><span style=\"font-weight: bold\">[</span><span style=\"color: #008080; text-decoration-color: #008080; font-weight: bold\">06</span><span style=\"font-weight: bold\">]</span>     encoding: ISO-<span style=\"color: #008080; text-decoration-color: #008080; font-weight: bold\">8859</span>-<span style=\"color: #008080; text-decoration-color: #008080; font-weight: bold\">1</span>  # options: ISO-<span style=\"color: #008080; text-decoration-color: #008080; font-weight: bold\">8859</span>-<span style=\"color: #008080; text-decoration-color: #008080; font-weight: bold\">1</span> utf-<span style=\"color: #008080; text-decoration-color: #008080; font-weight: bold\">8</span> cp1252\n",
       "</pre>\n"
      ],
      "text/plain": [
       "\u001b[1m[\u001b[0m\u001b[1;36m06\u001b[0m\u001b[1m]\u001b[0m     encoding: ISO-\u001b[1;36m8859\u001b[0m-\u001b[1;36m1\u001b[0m  # options: ISO-\u001b[1;36m8859\u001b[0m-\u001b[1;36m1\u001b[0m utf-\u001b[1;36m8\u001b[0m cp1252\n"
      ]
     },
     "metadata": {},
     "output_type": "display_data"
    },
    {
     "data": {
      "text/html": [
       "<pre style=\"white-space:pre;overflow-x:auto;line-height:normal;font-family:Menlo,'DejaVu Sans Mono',consolas,'Courier New',monospace\"><span style=\"font-weight: bold\">[</span><span style=\"color: #008080; text-decoration-color: #008080; font-weight: bold\">07</span><span style=\"font-weight: bold\">]</span>     decimal: .\n",
       "</pre>\n"
      ],
      "text/plain": [
       "\u001b[1m[\u001b[0m\u001b[1;36m07\u001b[0m\u001b[1m]\u001b[0m     decimal: .\n"
      ]
     },
     "metadata": {},
     "output_type": "display_data"
    },
    {
     "data": {
      "text/html": [
       "<pre style=\"white-space:pre;overflow-x:auto;line-height:normal;font-family:Menlo,'DejaVu Sans Mono',consolas,'Courier New',monospace\"><span style=\"font-weight: bold\">[</span><span style=\"color: #008080; text-decoration-color: #008080; font-weight: bold\">08</span><span style=\"font-weight: bold\">]</span>     thousands:\n",
       "</pre>\n"
      ],
      "text/plain": [
       "\u001b[1m[\u001b[0m\u001b[1;36m08\u001b[0m\u001b[1m]\u001b[0m     thousands:\n"
      ]
     },
     "metadata": {},
     "output_type": "display_data"
    },
    {
     "data": {
      "text/html": [
       "<pre style=\"white-space:pre;overflow-x:auto;line-height:normal;font-family:Menlo,'DejaVu Sans Mono',consolas,'Courier New',monospace\"><span style=\"font-weight: bold\">[</span><span style=\"color: #008080; text-decoration-color: #008080; font-weight: bold\">09</span><span style=\"font-weight: bold\">]</span>     comment_chars:\n",
       "</pre>\n"
      ],
      "text/plain": [
       "\u001b[1m[\u001b[0m\u001b[1;36m09\u001b[0m\u001b[1m]\u001b[0m     comment_chars:\n"
      ]
     },
     "metadata": {},
     "output_type": "display_data"
    },
    {
     "data": {
      "text/html": [
       "<pre style=\"white-space:pre;overflow-x:auto;line-height:normal;font-family:Menlo,'DejaVu Sans Mono',consolas,'Courier New',monospace\"><span style=\"font-weight: bold\">[</span><span style=\"color: #008080; text-decoration-color: #008080; font-weight: bold\">10</span><span style=\"font-weight: bold\">]</span>         - <span style=\"color: #008000; text-decoration-color: #008000\">'#'</span>\n",
       "</pre>\n"
      ],
      "text/plain": [
       "\u001b[1m[\u001b[0m\u001b[1;36m10\u001b[0m\u001b[1m]\u001b[0m         - \u001b[32m'#'\u001b[0m\n"
      ]
     },
     "metadata": {},
     "output_type": "display_data"
    },
    {
     "data": {
      "text/html": [
       "<pre style=\"white-space:pre;overflow-x:auto;line-height:normal;font-family:Menlo,'DejaVu Sans Mono',consolas,'Courier New',monospace\"><span style=\"font-weight: bold\">[</span><span style=\"color: #008080; text-decoration-color: #008080; font-weight: bold\">11</span><span style=\"font-weight: bold\">]</span>         - <span style=\"color: #008000; text-decoration-color: #008000\">'!'</span>\n",
       "</pre>\n"
      ],
      "text/plain": [
       "\u001b[1m[\u001b[0m\u001b[1;36m11\u001b[0m\u001b[1m]\u001b[0m         - \u001b[32m'!'\u001b[0m\n"
      ]
     },
     "metadata": {},
     "output_type": "display_data"
    },
    {
     "data": {
      "text/html": [
       "<pre style=\"white-space:pre;overflow-x:auto;line-height:normal;font-family:Menlo,'DejaVu Sans Mono',consolas,'Courier New',monospace\"><span style=\"font-weight: bold\">[</span><span style=\"color: #008080; text-decoration-color: #008080; font-weight: bold\">12</span><span style=\"font-weight: bold\">]</span> post_processors:\n",
       "</pre>\n"
      ],
      "text/plain": [
       "\u001b[1m[\u001b[0m\u001b[1;36m12\u001b[0m\u001b[1m]\u001b[0m post_processors:\n"
      ]
     },
     "metadata": {},
     "output_type": "display_data"
    },
    {
     "data": {
      "text/html": [
       "<pre style=\"white-space:pre;overflow-x:auto;line-height:normal;font-family:Menlo,'DejaVu Sans Mono',consolas,'Courier New',monospace\"><span style=\"font-weight: bold\">[</span><span style=\"color: #008080; text-decoration-color: #008080; font-weight: bold\">13</span><span style=\"font-weight: bold\">]</span>     split_capacity: false\n",
       "</pre>\n"
      ],
      "text/plain": [
       "\u001b[1m[\u001b[0m\u001b[1;36m13\u001b[0m\u001b[1m]\u001b[0m     split_capacity: false\n"
      ]
     },
     "metadata": {},
     "output_type": "display_data"
    },
    {
     "data": {
      "text/html": [
       "<pre style=\"white-space:pre;overflow-x:auto;line-height:normal;font-family:Menlo,'DejaVu Sans Mono',consolas,'Courier New',monospace\"><span style=\"font-weight: bold\">[</span><span style=\"color: #008080; text-decoration-color: #008080; font-weight: bold\">14</span><span style=\"font-weight: bold\">]</span>     split_current: false\n",
       "</pre>\n"
      ],
      "text/plain": [
       "\u001b[1m[\u001b[0m\u001b[1;36m14\u001b[0m\u001b[1m]\u001b[0m     split_current: false\n"
      ]
     },
     "metadata": {},
     "output_type": "display_data"
    },
    {
     "data": {
      "text/html": [
       "<pre style=\"white-space:pre;overflow-x:auto;line-height:normal;font-family:Menlo,'DejaVu Sans Mono',consolas,'Courier New',monospace\"><span style=\"font-weight: bold\">[</span><span style=\"color: #008080; text-decoration-color: #008080; font-weight: bold\">15</span><span style=\"font-weight: bold\">]</span>     set_index: false\n",
       "</pre>\n"
      ],
      "text/plain": [
       "\u001b[1m[\u001b[0m\u001b[1;36m15\u001b[0m\u001b[1m]\u001b[0m     set_index: false\n"
      ]
     },
     "metadata": {},
     "output_type": "display_data"
    },
    {
     "data": {
      "text/html": [
       "<pre style=\"white-space:pre;overflow-x:auto;line-height:normal;font-family:Menlo,'DejaVu Sans Mono',consolas,'Courier New',monospace\"><span style=\"font-weight: bold\">[</span><span style=\"color: #008080; text-decoration-color: #008080; font-weight: bold\">16</span><span style=\"font-weight: bold\">]</span>     rename_headers: true\n",
       "</pre>\n"
      ],
      "text/plain": [
       "\u001b[1m[\u001b[0m\u001b[1;36m16\u001b[0m\u001b[1m]\u001b[0m     rename_headers: true\n"
      ]
     },
     "metadata": {},
     "output_type": "display_data"
    },
    {
     "data": {
      "text/html": [
       "<pre style=\"white-space:pre;overflow-x:auto;line-height:normal;font-family:Menlo,'DejaVu Sans Mono',consolas,'Courier New',monospace\"><span style=\"font-weight: bold\">[</span><span style=\"color: #008080; text-decoration-color: #008080; font-weight: bold\">17</span><span style=\"font-weight: bold\">]</span>     set_cycle_number_not_zero: false\n",
       "</pre>\n"
      ],
      "text/plain": [
       "\u001b[1m[\u001b[0m\u001b[1;36m17\u001b[0m\u001b[1m]\u001b[0m     set_cycle_number_not_zero: false\n"
      ]
     },
     "metadata": {},
     "output_type": "display_data"
    },
    {
     "data": {
      "text/html": [
       "<pre style=\"white-space:pre;overflow-x:auto;line-height:normal;font-family:Menlo,'DejaVu Sans Mono',consolas,'Courier New',monospace\"><span style=\"font-weight: bold\">[</span><span style=\"color: #008080; text-decoration-color: #008080; font-weight: bold\">18</span><span style=\"font-weight: bold\">]</span>     convert_date_time_to_datetime: true\n",
       "</pre>\n"
      ],
      "text/plain": [
       "\u001b[1m[\u001b[0m\u001b[1;36m18\u001b[0m\u001b[1m]\u001b[0m     convert_date_time_to_datetime: true\n"
      ]
     },
     "metadata": {},
     "output_type": "display_data"
    },
    {
     "data": {
      "text/html": [
       "<pre style=\"white-space:pre;overflow-x:auto;line-height:normal;font-family:Menlo,'DejaVu Sans Mono',consolas,'Courier New',monospace\"><span style=\"font-weight: bold\">[</span><span style=\"color: #008080; text-decoration-color: #008080; font-weight: bold\">19</span><span style=\"font-weight: bold\">]</span>     convert_step_time_to_timedelta: false\n",
       "</pre>\n"
      ],
      "text/plain": [
       "\u001b[1m[\u001b[0m\u001b[1;36m19\u001b[0m\u001b[1m]\u001b[0m     convert_step_time_to_timedelta: false\n"
      ]
     },
     "metadata": {},
     "output_type": "display_data"
    },
    {
     "data": {
      "text/html": [
       "<pre style=\"white-space:pre;overflow-x:auto;line-height:normal;font-family:Menlo,'DejaVu Sans Mono',consolas,'Courier New',monospace\"><span style=\"font-weight: bold\">[</span><span style=\"color: #008080; text-decoration-color: #008080; font-weight: bold\">20</span><span style=\"font-weight: bold\">]</span>     convert_test_time_to_timedelta: false\n",
       "</pre>\n"
      ],
      "text/plain": [
       "\u001b[1m[\u001b[0m\u001b[1;36m20\u001b[0m\u001b[1m]\u001b[0m     convert_test_time_to_timedelta: false\n"
      ]
     },
     "metadata": {},
     "output_type": "display_data"
    },
    {
     "data": {
      "text/html": [
       "<pre style=\"white-space:pre;overflow-x:auto;line-height:normal;font-family:Menlo,'DejaVu Sans Mono',consolas,'Courier New',monospace\"><span style=\"font-weight: bold\">[</span><span style=\"color: #008080; text-decoration-color: #008080; font-weight: bold\">21</span><span style=\"font-weight: bold\">]</span> normal_headers_renaming_dict:\n",
       "</pre>\n"
      ],
      "text/plain": [
       "\u001b[1m[\u001b[0m\u001b[1;36m21\u001b[0m\u001b[1m]\u001b[0m normal_headers_renaming_dict:\n"
      ]
     },
     "metadata": {},
     "output_type": "display_data"
    },
    {
     "data": {
      "text/html": [
       "<pre style=\"white-space:pre;overflow-x:auto;line-height:normal;font-family:Menlo,'DejaVu Sans Mono',consolas,'Courier New',monospace\"><span style=\"font-weight: bold\">[</span><span style=\"color: #008080; text-decoration-color: #008080; font-weight: bold\">22</span><span style=\"font-weight: bold\">]</span>     data_point_txt: <span style=\"color: #008000; text-decoration-color: #008000\">\"index\"</span>\n",
       "</pre>\n"
      ],
      "text/plain": [
       "\u001b[1m[\u001b[0m\u001b[1;36m22\u001b[0m\u001b[1m]\u001b[0m     data_point_txt: \u001b[32m\"index\"\u001b[0m\n"
      ]
     },
     "metadata": {},
     "output_type": "display_data"
    },
    {
     "data": {
      "text/html": [
       "<pre style=\"white-space:pre;overflow-x:auto;line-height:normal;font-family:Menlo,'DejaVu Sans Mono',consolas,'Courier New',monospace\"><span style=\"font-weight: bold\">[</span><span style=\"color: #008080; text-decoration-color: #008080; font-weight: bold\">23</span><span style=\"font-weight: bold\">]</span>     datetime_txt: <span style=\"color: #008000; text-decoration-color: #008000\">\"date_stamp\"</span>\n",
       "</pre>\n"
      ],
      "text/plain": [
       "\u001b[1m[\u001b[0m\u001b[1;36m23\u001b[0m\u001b[1m]\u001b[0m     datetime_txt: \u001b[32m\"date_stamp\"\u001b[0m\n"
      ]
     },
     "metadata": {},
     "output_type": "display_data"
    },
    {
     "data": {
      "text/html": [
       "<pre style=\"white-space:pre;overflow-x:auto;line-height:normal;font-family:Menlo,'DejaVu Sans Mono',consolas,'Courier New',monospace\"><span style=\"font-weight: bold\">[</span><span style=\"color: #008080; text-decoration-color: #008080; font-weight: bold\">24</span><span style=\"font-weight: bold\">]</span>     test_time_txt: <span style=\"color: #008000; text-decoration-color: #008000\">\"test_time\"</span>\n",
       "</pre>\n"
      ],
      "text/plain": [
       "\u001b[1m[\u001b[0m\u001b[1;36m24\u001b[0m\u001b[1m]\u001b[0m     test_time_txt: \u001b[32m\"test_time\"\u001b[0m\n"
      ]
     },
     "metadata": {},
     "output_type": "display_data"
    },
    {
     "data": {
      "text/html": [
       "<pre style=\"white-space:pre;overflow-x:auto;line-height:normal;font-family:Menlo,'DejaVu Sans Mono',consolas,'Courier New',monospace\"><span style=\"font-weight: bold\">[</span><span style=\"color: #008080; text-decoration-color: #008080; font-weight: bold\">25</span><span style=\"font-weight: bold\">]</span>     step_time_txt: <span style=\"color: #008000; text-decoration-color: #008000\">\"step_time\"</span>\n",
       "</pre>\n"
      ],
      "text/plain": [
       "\u001b[1m[\u001b[0m\u001b[1;36m25\u001b[0m\u001b[1m]\u001b[0m     step_time_txt: \u001b[32m\"step_time\"\u001b[0m\n"
      ]
     },
     "metadata": {},
     "output_type": "display_data"
    },
    {
     "data": {
      "text/html": [
       "<pre style=\"white-space:pre;overflow-x:auto;line-height:normal;font-family:Menlo,'DejaVu Sans Mono',consolas,'Courier New',monospace\"><span style=\"font-weight: bold\">[</span><span style=\"color: #008080; text-decoration-color: #008080; font-weight: bold\">26</span><span style=\"font-weight: bold\">]</span>     cycle_index_txt: <span style=\"color: #008000; text-decoration-color: #008000\">\"cycle\"</span>\n",
       "</pre>\n"
      ],
      "text/plain": [
       "\u001b[1m[\u001b[0m\u001b[1;36m26\u001b[0m\u001b[1m]\u001b[0m     cycle_index_txt: \u001b[32m\"cycle\"\u001b[0m\n"
      ]
     },
     "metadata": {},
     "output_type": "display_data"
    },
    {
     "data": {
      "text/html": [
       "<pre style=\"white-space:pre;overflow-x:auto;line-height:normal;font-family:Menlo,'DejaVu Sans Mono',consolas,'Courier New',monospace\"><span style=\"font-weight: bold\">[</span><span style=\"color: #008080; text-decoration-color: #008080; font-weight: bold\">27</span><span style=\"font-weight: bold\">]</span>     step_index_txt: <span style=\"color: #008000; text-decoration-color: #008000\">\"step\"</span>\n",
       "</pre>\n"
      ],
      "text/plain": [
       "\u001b[1m[\u001b[0m\u001b[1;36m27\u001b[0m\u001b[1m]\u001b[0m     step_index_txt: \u001b[32m\"step\"\u001b[0m\n"
      ]
     },
     "metadata": {},
     "output_type": "display_data"
    },
    {
     "data": {
      "text/html": [
       "<pre style=\"white-space:pre;overflow-x:auto;line-height:normal;font-family:Menlo,'DejaVu Sans Mono',consolas,'Courier New',monospace\"><span style=\"font-weight: bold\">[</span><span style=\"color: #008080; text-decoration-color: #008080; font-weight: bold\">28</span><span style=\"font-weight: bold\">]</span>     current_txt: <span style=\"color: #008000; text-decoration-color: #008000\">\"current\"</span>\n",
       "</pre>\n"
      ],
      "text/plain": [
       "\u001b[1m[\u001b[0m\u001b[1;36m28\u001b[0m\u001b[1m]\u001b[0m     current_txt: \u001b[32m\"current\"\u001b[0m\n"
      ]
     },
     "metadata": {},
     "output_type": "display_data"
    },
    {
     "data": {
      "text/html": [
       "<pre style=\"white-space:pre;overflow-x:auto;line-height:normal;font-family:Menlo,'DejaVu Sans Mono',consolas,'Courier New',monospace\"><span style=\"font-weight: bold\">[</span><span style=\"color: #008080; text-decoration-color: #008080; font-weight: bold\">29</span><span style=\"font-weight: bold\">]</span>     voltage_txt: <span style=\"color: #008000; text-decoration-color: #008000\">\"voltage\"</span>\n",
       "</pre>\n"
      ],
      "text/plain": [
       "\u001b[1m[\u001b[0m\u001b[1;36m29\u001b[0m\u001b[1m]\u001b[0m     voltage_txt: \u001b[32m\"voltage\"\u001b[0m\n"
      ]
     },
     "metadata": {},
     "output_type": "display_data"
    },
    {
     "data": {
      "text/html": [
       "<pre style=\"white-space:pre;overflow-x:auto;line-height:normal;font-family:Menlo,'DejaVu Sans Mono',consolas,'Courier New',monospace\"><span style=\"font-weight: bold\">[</span><span style=\"color: #008080; text-decoration-color: #008080; font-weight: bold\">30</span><span style=\"font-weight: bold\">]</span>     charge_capacity_txt: <span style=\"color: #008000; text-decoration-color: #008000\">\"charge_capacity\"</span>\n",
       "</pre>\n"
      ],
      "text/plain": [
       "\u001b[1m[\u001b[0m\u001b[1;36m30\u001b[0m\u001b[1m]\u001b[0m     charge_capacity_txt: \u001b[32m\"charge_capacity\"\u001b[0m\n"
      ]
     },
     "metadata": {},
     "output_type": "display_data"
    },
    {
     "data": {
      "text/html": [
       "<pre style=\"white-space:pre;overflow-x:auto;line-height:normal;font-family:Menlo,'DejaVu Sans Mono',consolas,'Courier New',monospace\"><span style=\"font-weight: bold\">[</span><span style=\"color: #008080; text-decoration-color: #008080; font-weight: bold\">31</span><span style=\"font-weight: bold\">]</span>     discharge_capacity_txt: <span style=\"color: #008000; text-decoration-color: #008000\">\"discharge_Capacity\"</span>\n",
       "</pre>\n"
      ],
      "text/plain": [
       "\u001b[1m[\u001b[0m\u001b[1;36m31\u001b[0m\u001b[1m]\u001b[0m     discharge_capacity_txt: \u001b[32m\"discharge_Capacity\"\u001b[0m\n"
      ]
     },
     "metadata": {},
     "output_type": "display_data"
    },
    {
     "data": {
      "text/html": [
       "<pre style=\"white-space:pre;overflow-x:auto;line-height:normal;font-family:Menlo,'DejaVu Sans Mono',consolas,'Courier New',monospace\"><span style=\"font-weight: bold\">[</span><span style=\"color: #008080; text-decoration-color: #008080; font-weight: bold\">32</span><span style=\"font-weight: bold\">]</span> unit_labels:\n",
       "</pre>\n"
      ],
      "text/plain": [
       "\u001b[1m[\u001b[0m\u001b[1;36m32\u001b[0m\u001b[1m]\u001b[0m unit_labels:\n"
      ]
     },
     "metadata": {},
     "output_type": "display_data"
    },
    {
     "data": {
      "text/html": [
       "<pre style=\"white-space:pre;overflow-x:auto;line-height:normal;font-family:Menlo,'DejaVu Sans Mono',consolas,'Courier New',monospace\"><span style=\"font-weight: bold\">[</span><span style=\"color: #008080; text-decoration-color: #008080; font-weight: bold\">33</span><span style=\"font-weight: bold\">]</span>     resistance: Ohms\n",
       "</pre>\n"
      ],
      "text/plain": [
       "\u001b[1m[\u001b[0m\u001b[1;36m33\u001b[0m\u001b[1m]\u001b[0m     resistance: Ohms\n"
      ]
     },
     "metadata": {},
     "output_type": "display_data"
    },
    {
     "data": {
      "text/html": [
       "<pre style=\"white-space:pre;overflow-x:auto;line-height:normal;font-family:Menlo,'DejaVu Sans Mono',consolas,'Courier New',monospace\"><span style=\"font-weight: bold\">[</span><span style=\"color: #008080; text-decoration-color: #008080; font-weight: bold\">34</span><span style=\"font-weight: bold\">]</span>     time: s\n",
       "</pre>\n"
      ],
      "text/plain": [
       "\u001b[1m[\u001b[0m\u001b[1;36m34\u001b[0m\u001b[1m]\u001b[0m     time: s\n"
      ]
     },
     "metadata": {},
     "output_type": "display_data"
    },
    {
     "data": {
      "text/html": [
       "<pre style=\"white-space:pre;overflow-x:auto;line-height:normal;font-family:Menlo,'DejaVu Sans Mono',consolas,'Courier New',monospace\"><span style=\"font-weight: bold\">[</span><span style=\"color: #008080; text-decoration-color: #008080; font-weight: bold\">35</span><span style=\"font-weight: bold\">]</span>     current: mA\n",
       "</pre>\n"
      ],
      "text/plain": [
       "\u001b[1m[\u001b[0m\u001b[1;36m35\u001b[0m\u001b[1m]\u001b[0m     current: mA\n"
      ]
     },
     "metadata": {},
     "output_type": "display_data"
    },
    {
     "data": {
      "text/html": [
       "<pre style=\"white-space:pre;overflow-x:auto;line-height:normal;font-family:Menlo,'DejaVu Sans Mono',consolas,'Courier New',monospace\"><span style=\"font-weight: bold\">[</span><span style=\"color: #008080; text-decoration-color: #008080; font-weight: bold\">36</span><span style=\"font-weight: bold\">]</span>     voltage: V\n",
       "</pre>\n"
      ],
      "text/plain": [
       "\u001b[1m[\u001b[0m\u001b[1;36m36\u001b[0m\u001b[1m]\u001b[0m     voltage: V\n"
      ]
     },
     "metadata": {},
     "output_type": "display_data"
    },
    {
     "data": {
      "text/html": [
       "<pre style=\"white-space:pre;overflow-x:auto;line-height:normal;font-family:Menlo,'DejaVu Sans Mono',consolas,'Courier New',monospace\"><span style=\"font-weight: bold\">[</span><span style=\"color: #008080; text-decoration-color: #008080; font-weight: bold\">37</span><span style=\"font-weight: bold\">]</span>     power: W\n",
       "</pre>\n"
      ],
      "text/plain": [
       "\u001b[1m[\u001b[0m\u001b[1;36m37\u001b[0m\u001b[1m]\u001b[0m     power: W\n"
      ]
     },
     "metadata": {},
     "output_type": "display_data"
    },
    {
     "data": {
      "text/html": [
       "<pre style=\"white-space:pre;overflow-x:auto;line-height:normal;font-family:Menlo,'DejaVu Sans Mono',consolas,'Courier New',monospace\"><span style=\"font-weight: bold\">[</span><span style=\"color: #008080; text-decoration-color: #008080; font-weight: bold\">38</span><span style=\"font-weight: bold\">]</span>     capacity: mAh\n",
       "</pre>\n"
      ],
      "text/plain": [
       "\u001b[1m[\u001b[0m\u001b[1;36m38\u001b[0m\u001b[1m]\u001b[0m     capacity: mAh\n"
      ]
     },
     "metadata": {},
     "output_type": "display_data"
    },
    {
     "data": {
      "text/html": [
       "<pre style=\"white-space:pre;overflow-x:auto;line-height:normal;font-family:Menlo,'DejaVu Sans Mono',consolas,'Courier New',monospace\"><span style=\"font-weight: bold\">[</span><span style=\"color: #008080; text-decoration-color: #008080; font-weight: bold\">39</span><span style=\"font-weight: bold\">]</span>     energy: Wh\n",
       "</pre>\n"
      ],
      "text/plain": [
       "\u001b[1m[\u001b[0m\u001b[1;36m39\u001b[0m\u001b[1m]\u001b[0m     energy: Wh\n"
      ]
     },
     "metadata": {},
     "output_type": "display_data"
    },
    {
     "data": {
      "text/html": [
       "<pre style=\"white-space:pre;overflow-x:auto;line-height:normal;font-family:Menlo,'DejaVu Sans Mono',consolas,'Courier New',monospace\"><span style=\"font-weight: bold\">[</span><span style=\"color: #008080; text-decoration-color: #008080; font-weight: bold\">40</span><span style=\"font-weight: bold\">]</span>     temperature: C\n",
       "</pre>\n"
      ],
      "text/plain": [
       "\u001b[1m[\u001b[0m\u001b[1;36m40\u001b[0m\u001b[1m]\u001b[0m     temperature: C\n"
      ]
     },
     "metadata": {},
     "output_type": "display_data"
    },
    {
     "data": {
      "text/html": [
       "<pre style=\"white-space:pre;overflow-x:auto;line-height:normal;font-family:Menlo,'DejaVu Sans Mono',consolas,'Courier New',monospace\"><span style=\"font-weight: bold\">[</span><span style=\"color: #008080; text-decoration-color: #008080; font-weight: bold\">41</span><span style=\"font-weight: bold\">]</span> raw_units:\n",
       "</pre>\n"
      ],
      "text/plain": [
       "\u001b[1m[\u001b[0m\u001b[1;36m41\u001b[0m\u001b[1m]\u001b[0m raw_units:\n"
      ]
     },
     "metadata": {},
     "output_type": "display_data"
    },
    {
     "data": {
      "text/html": [
       "<pre style=\"white-space:pre;overflow-x:auto;line-height:normal;font-family:Menlo,'DejaVu Sans Mono',consolas,'Courier New',monospace\"><span style=\"font-weight: bold\">[</span><span style=\"color: #008080; text-decoration-color: #008080; font-weight: bold\">42</span><span style=\"font-weight: bold\">]</span>     current: A\n",
       "</pre>\n"
      ],
      "text/plain": [
       "\u001b[1m[\u001b[0m\u001b[1;36m42\u001b[0m\u001b[1m]\u001b[0m     current: A\n"
      ]
     },
     "metadata": {},
     "output_type": "display_data"
    },
    {
     "data": {
      "text/html": [
       "<pre style=\"white-space:pre;overflow-x:auto;line-height:normal;font-family:Menlo,'DejaVu Sans Mono',consolas,'Courier New',monospace\"><span style=\"font-weight: bold\">[</span><span style=\"color: #008080; text-decoration-color: #008080; font-weight: bold\">43</span><span style=\"font-weight: bold\">]</span>     charge: Ah\n",
       "</pre>\n"
      ],
      "text/plain": [
       "\u001b[1m[\u001b[0m\u001b[1;36m43\u001b[0m\u001b[1m]\u001b[0m     charge: Ah\n"
      ]
     },
     "metadata": {},
     "output_type": "display_data"
    },
    {
     "data": {
      "text/html": [
       "<pre style=\"white-space:pre;overflow-x:auto;line-height:normal;font-family:Menlo,'DejaVu Sans Mono',consolas,'Courier New',monospace\"><span style=\"font-weight: bold\">[</span><span style=\"color: #008080; text-decoration-color: #008080; font-weight: bold\">44</span><span style=\"font-weight: bold\">]</span>     mass: mg\n",
       "</pre>\n"
      ],
      "text/plain": [
       "\u001b[1m[\u001b[0m\u001b[1;36m44\u001b[0m\u001b[1m]\u001b[0m     mass: mg\n"
      ]
     },
     "metadata": {},
     "output_type": "display_data"
    },
    {
     "data": {
      "text/html": [
       "<pre style=\"white-space:pre;overflow-x:auto;line-height:normal;font-family:Menlo,'DejaVu Sans Mono',consolas,'Courier New',monospace\"><span style=\"font-weight: bold\">[</span><span style=\"color: #008080; text-decoration-color: #008080; font-weight: bold\">45</span><span style=\"font-weight: bold\">]</span>     time: s\n",
       "</pre>\n"
      ],
      "text/plain": [
       "\u001b[1m[\u001b[0m\u001b[1;36m45\u001b[0m\u001b[1m]\u001b[0m     time: s\n"
      ]
     },
     "metadata": {},
     "output_type": "display_data"
    },
    {
     "data": {
      "text/html": [
       "<pre style=\"white-space:pre;overflow-x:auto;line-height:normal;font-family:Menlo,'DejaVu Sans Mono',consolas,'Courier New',monospace\"><span style=\"font-weight: bold\">[</span><span style=\"color: #008080; text-decoration-color: #008080; font-weight: bold\">46</span><span style=\"font-weight: bold\">]</span> raw_limits:\n",
       "</pre>\n"
      ],
      "text/plain": [
       "\u001b[1m[\u001b[0m\u001b[1;36m46\u001b[0m\u001b[1m]\u001b[0m raw_limits:\n"
      ]
     },
     "metadata": {},
     "output_type": "display_data"
    },
    {
     "data": {
      "text/html": [
       "<pre style=\"white-space:pre;overflow-x:auto;line-height:normal;font-family:Menlo,'DejaVu Sans Mono',consolas,'Courier New',monospace\"><span style=\"font-weight: bold\">[</span><span style=\"color: #008080; text-decoration-color: #008080; font-weight: bold\">47</span><span style=\"font-weight: bold\">]</span>     current_hard: <span style=\"color: #008080; text-decoration-color: #008080; font-weight: bold\">1.0e-13</span>\n",
       "</pre>\n"
      ],
      "text/plain": [
       "\u001b[1m[\u001b[0m\u001b[1;36m47\u001b[0m\u001b[1m]\u001b[0m     current_hard: \u001b[1;36m1.0e-13\u001b[0m\n"
      ]
     },
     "metadata": {},
     "output_type": "display_data"
    },
    {
     "data": {
      "text/html": [
       "<pre style=\"white-space:pre;overflow-x:auto;line-height:normal;font-family:Menlo,'DejaVu Sans Mono',consolas,'Courier New',monospace\"><span style=\"font-weight: bold\">[</span><span style=\"color: #008080; text-decoration-color: #008080; font-weight: bold\">48</span><span style=\"font-weight: bold\">]</span>     current_soft: <span style=\"color: #008080; text-decoration-color: #008080; font-weight: bold\">1.0e-05</span>\n",
       "</pre>\n"
      ],
      "text/plain": [
       "\u001b[1m[\u001b[0m\u001b[1;36m48\u001b[0m\u001b[1m]\u001b[0m     current_soft: \u001b[1;36m1.0e-05\u001b[0m\n"
      ]
     },
     "metadata": {},
     "output_type": "display_data"
    },
    {
     "data": {
      "text/html": [
       "<pre style=\"white-space:pre;overflow-x:auto;line-height:normal;font-family:Menlo,'DejaVu Sans Mono',consolas,'Courier New',monospace\"><span style=\"font-weight: bold\">[</span><span style=\"color: #008080; text-decoration-color: #008080; font-weight: bold\">49</span><span style=\"font-weight: bold\">]</span>     ir_change: <span style=\"color: #008080; text-decoration-color: #008080; font-weight: bold\">1.0e-05</span>\n",
       "</pre>\n"
      ],
      "text/plain": [
       "\u001b[1m[\u001b[0m\u001b[1;36m49\u001b[0m\u001b[1m]\u001b[0m     ir_change: \u001b[1;36m1.0e-05\u001b[0m\n"
      ]
     },
     "metadata": {},
     "output_type": "display_data"
    },
    {
     "data": {
      "text/html": [
       "<pre style=\"white-space:pre;overflow-x:auto;line-height:normal;font-family:Menlo,'DejaVu Sans Mono',consolas,'Courier New',monospace\"><span style=\"font-weight: bold\">[</span><span style=\"color: #008080; text-decoration-color: #008080; font-weight: bold\">50</span><span style=\"font-weight: bold\">]</span>     stable_charge_hard: <span style=\"color: #008080; text-decoration-color: #008080; font-weight: bold\">0.9</span>\n",
       "</pre>\n"
      ],
      "text/plain": [
       "\u001b[1m[\u001b[0m\u001b[1;36m50\u001b[0m\u001b[1m]\u001b[0m     stable_charge_hard: \u001b[1;36m0.9\u001b[0m\n"
      ]
     },
     "metadata": {},
     "output_type": "display_data"
    },
    {
     "data": {
      "text/html": [
       "<pre style=\"white-space:pre;overflow-x:auto;line-height:normal;font-family:Menlo,'DejaVu Sans Mono',consolas,'Courier New',monospace\"><span style=\"font-weight: bold\">[</span><span style=\"color: #008080; text-decoration-color: #008080; font-weight: bold\">51</span><span style=\"font-weight: bold\">]</span>     stable_charge_soft: <span style=\"color: #008080; text-decoration-color: #008080; font-weight: bold\">5.0</span>\n",
       "</pre>\n"
      ],
      "text/plain": [
       "\u001b[1m[\u001b[0m\u001b[1;36m51\u001b[0m\u001b[1m]\u001b[0m     stable_charge_soft: \u001b[1;36m5.0\u001b[0m\n"
      ]
     },
     "metadata": {},
     "output_type": "display_data"
    },
    {
     "data": {
      "text/html": [
       "<pre style=\"white-space:pre;overflow-x:auto;line-height:normal;font-family:Menlo,'DejaVu Sans Mono',consolas,'Courier New',monospace\"><span style=\"font-weight: bold\">[</span><span style=\"color: #008080; text-decoration-color: #008080; font-weight: bold\">52</span><span style=\"font-weight: bold\">]</span>     stable_current_hard: <span style=\"color: #008080; text-decoration-color: #008080; font-weight: bold\">2.0</span>\n",
       "</pre>\n"
      ],
      "text/plain": [
       "\u001b[1m[\u001b[0m\u001b[1;36m52\u001b[0m\u001b[1m]\u001b[0m     stable_current_hard: \u001b[1;36m2.0\u001b[0m\n"
      ]
     },
     "metadata": {},
     "output_type": "display_data"
    },
    {
     "data": {
      "text/html": [
       "<pre style=\"white-space:pre;overflow-x:auto;line-height:normal;font-family:Menlo,'DejaVu Sans Mono',consolas,'Courier New',monospace\"><span style=\"font-weight: bold\">[</span><span style=\"color: #008080; text-decoration-color: #008080; font-weight: bold\">53</span><span style=\"font-weight: bold\">]</span>     stable_current_soft: <span style=\"color: #008080; text-decoration-color: #008080; font-weight: bold\">4.0</span>\n",
       "</pre>\n"
      ],
      "text/plain": [
       "\u001b[1m[\u001b[0m\u001b[1;36m53\u001b[0m\u001b[1m]\u001b[0m     stable_current_soft: \u001b[1;36m4.0\u001b[0m\n"
      ]
     },
     "metadata": {},
     "output_type": "display_data"
    },
    {
     "data": {
      "text/html": [
       "<pre style=\"white-space:pre;overflow-x:auto;line-height:normal;font-family:Menlo,'DejaVu Sans Mono',consolas,'Courier New',monospace\"><span style=\"font-weight: bold\">[</span><span style=\"color: #008080; text-decoration-color: #008080; font-weight: bold\">54</span><span style=\"font-weight: bold\">]</span>     stable_voltage_hard: <span style=\"color: #008080; text-decoration-color: #008080; font-weight: bold\">2.0</span>\n",
       "</pre>\n"
      ],
      "text/plain": [
       "\u001b[1m[\u001b[0m\u001b[1;36m54\u001b[0m\u001b[1m]\u001b[0m     stable_voltage_hard: \u001b[1;36m2.0\u001b[0m\n"
      ]
     },
     "metadata": {},
     "output_type": "display_data"
    },
    {
     "data": {
      "text/html": [
       "<pre style=\"white-space:pre;overflow-x:auto;line-height:normal;font-family:Menlo,'DejaVu Sans Mono',consolas,'Courier New',monospace\"><span style=\"font-weight: bold\">[</span><span style=\"color: #008080; text-decoration-color: #008080; font-weight: bold\">55</span><span style=\"font-weight: bold\">]</span>     stable_voltage_soft: <span style=\"color: #008080; text-decoration-color: #008080; font-weight: bold\">4.0</span>\n",
       "</pre>\n"
      ],
      "text/plain": [
       "\u001b[1m[\u001b[0m\u001b[1;36m55\u001b[0m\u001b[1m]\u001b[0m     stable_voltage_soft: \u001b[1;36m4.0\u001b[0m\n"
      ]
     },
     "metadata": {},
     "output_type": "display_data"
    },
    {
     "data": {
      "text/html": [
       "<pre style=\"white-space:pre;overflow-x:auto;line-height:normal;font-family:Menlo,'DejaVu Sans Mono',consolas,'Courier New',monospace\">============================ custom_instrument.yml =============================\n",
       "</pre>\n"
      ],
      "text/plain": [
       "============================ custom_instrument.yml =============================\n"
      ]
     },
     "metadata": {},
     "output_type": "display_data"
    }
   ],
   "source": [
    "head(instrument_file, -1)"
   ]
  },
  {
   "cell_type": "code",
   "execution_count": 7,
   "id": "f0e2fbfd-3272-4f4d-be46-7c86fcbba42a",
   "metadata": {},
   "outputs": [
    {
     "name": "stdout",
     "output_type": "stream",
     "text": [
      "(cellpy) - self.sep=';', self.skiprows=19, self.header=0, self.encoding='ISO-8859-1', self.decimal='.'\n",
      "(cellpy) - running post-processor: rename_headers\n",
      "Index(['index', 'test_time', 'step_time', 'date_stamp', 'step', 'cycle',\n",
      "       'current', 'voltage', 'charge_capacity', 'discharge_Capacity'],\n",
      "      dtype='object')\n",
      "(cellpy) - running post-processor: convert_date_time_to_datetime\n"
     ]
    }
   ],
   "source": [
    "c = cellpy.get(p_csv, instrument=\"custom\", instrument_file=instrument_file)"
   ]
  },
  {
   "cell_type": "code",
   "execution_count": 8,
   "id": "dc998f42-feee-4d5e-8e37-88791b52bca4",
   "metadata": {},
   "outputs": [
    {
     "data": {
      "image/png": "[encoded data removed]"
     },
     "metadata": {},
     "output_type": "display_data"
    }
   ],
   "source": [
    "plotutils.raw_plot(c, width=1200, height=400)"
   ]
  },
  {
   "cell_type": "markdown",
   "id": "1710a53b-38f4-4baf-827a-148deb8e7986",
   "metadata": {},
   "source": [
    "## Using the \"local_instrument\" loader\n",
    "\n",
    "This loader is used for loading data using the corresponding local yaml file with definitions on how the data should be loaded. This loader\n",
    "is based on the ``TxtLoader`` and can only be used to load csv-type files.\n",
    "As a \"short-cut\", this loader will be used if you set the ``instrument`` to the name of the instrument file (with the ``.yml`` extension) e.g.\n",
    "``c = cellpy.get(rawfile, instrument=\"instrumentfile.yml\")``.\n",
    "The default instrument file is defined in your cellpy configuration file:\n",
    "```\n",
    "Instruments:\n",
    "  custom_instrument_definitions_file: my_local_instrument.yml\n",
    "```"
   ]
  },
  {
   "cell_type": "markdown",
   "id": "1014ab24-fb9d-4260-af2b-3fa0cfc467cd",
   "metadata": {},
   "source": [
    "As an example, let us see how we could load one of the example Maccor files using a local instrument definition file instead of the implemented \"maccor_txt\" loader."
   ]
  },
  {
   "cell_type": "code",
   "execution_count": 9,
   "id": "90b51c90-244f-48e4-93d2-9f4cd1bd720a",
   "metadata": {},
   "outputs": [
    {
     "data": {
      "text/html": [
       "<pre style=\"white-space:pre;overflow-x:auto;line-height:normal;font-family:Menlo,'DejaVu Sans Mono',consolas,'Courier New',monospace\">p.<span style=\"color: #808000; text-decoration-color: #808000\">name</span>=<span style=\"color: #008000; text-decoration-color: #008000\">'maccor_three.txt'</span>\n",
       "</pre>\n"
      ],
      "text/plain": [
       "p.\u001b[33mname\u001b[0m=\u001b[32m'maccor_three.txt'\u001b[0m\n"
      ]
     },
     "metadata": {},
     "output_type": "display_data"
    }
   ],
   "source": [
    "p = example_data.maccor_file_path()\n",
    "print(f\"{p.name=}\")"
   ]
  },
  {
   "cell_type": "code",
   "execution_count": 10,
   "id": "34df9128-9a12-4a8d-b6ce-d03e820e8390",
   "metadata": {},
   "outputs": [
    {
     "data": {
      "text/html": [
       "<pre style=\"white-space:pre;overflow-x:auto;line-height:normal;font-family:Menlo,'DejaVu Sans Mono',consolas,'Courier New',monospace\">local_instrument.<span style=\"color: #808000; text-decoration-color: #808000\">name</span>=<span style=\"color: #008000; text-decoration-color: #008000\">'local_instrument.yml'</span>\n",
       "</pre>\n"
      ],
      "text/plain": [
       "local_instrument.\u001b[33mname\u001b[0m=\u001b[32m'local_instrument.yml'\u001b[0m\n"
      ]
     },
     "metadata": {},
     "output_type": "display_data"
    }
   ],
   "source": [
    "local_instrument = example_data.local_instrument_path()\n",
    "print(f\"{local_instrument.name=}\")"
   ]
  },
  {
   "cell_type": "code",
   "execution_count": 11,
   "id": "3a284255-dc99-46fd-afe9-71863a4b4c04",
   "metadata": {},
   "outputs": [
    {
     "data": {
      "text/html": [
       "<pre style=\"white-space:pre;overflow-x:auto;line-height:normal;font-family:Menlo,'DejaVu Sans Mono',consolas,'Courier New',monospace\">============================= local_instrument.yml =============================\n",
       "</pre>\n"
      ],
      "text/plain": [
       "============================= local_instrument.yml =============================\n"
      ]
     },
     "metadata": {},
     "output_type": "display_data"
    },
    {
     "data": {
      "text/html": [
       "<pre style=\"white-space:pre;overflow-x:auto;line-height:normal;font-family:Menlo,'DejaVu Sans Mono',consolas,'Courier New',monospace\"><span style=\"font-weight: bold\">[</span><span style=\"color: #008080; text-decoration-color: #008080; font-weight: bold\">01</span><span style=\"font-weight: bold\">]</span> ---\n",
       "</pre>\n"
      ],
      "text/plain": [
       "\u001b[1m[\u001b[0m\u001b[1;36m01\u001b[0m\u001b[1m]\u001b[0m ---\n"
      ]
     },
     "metadata": {},
     "output_type": "display_data"
    },
    {
     "data": {
      "text/html": [
       "<pre style=\"white-space:pre;overflow-x:auto;line-height:normal;font-family:Menlo,'DejaVu Sans Mono',consolas,'Courier New',monospace\"><span style=\"font-weight: bold\">[</span><span style=\"color: #008080; text-decoration-color: #008080; font-weight: bold\">02</span><span style=\"font-weight: bold\">]</span> formatters:\n",
       "</pre>\n"
      ],
      "text/plain": [
       "\u001b[1m[\u001b[0m\u001b[1;36m02\u001b[0m\u001b[1m]\u001b[0m formatters:\n"
      ]
     },
     "metadata": {},
     "output_type": "display_data"
    },
    {
     "data": {
      "text/html": [
       "<pre style=\"white-space:pre;overflow-x:auto;line-height:normal;font-family:Menlo,'DejaVu Sans Mono',consolas,'Courier New',monospace\"><span style=\"font-weight: bold\">[</span><span style=\"color: #008080; text-decoration-color: #008080; font-weight: bold\">03</span><span style=\"font-weight: bold\">]</span>     skiprows: <span style=\"color: #008080; text-decoration-color: #008080; font-weight: bold\">2</span>\n",
       "</pre>\n"
      ],
      "text/plain": [
       "\u001b[1m[\u001b[0m\u001b[1;36m03\u001b[0m\u001b[1m]\u001b[0m     skiprows: \u001b[1;36m2\u001b[0m\n"
      ]
     },
     "metadata": {},
     "output_type": "display_data"
    },
    {
     "data": {
      "text/html": [
       "<pre style=\"white-space:pre;overflow-x:auto;line-height:normal;font-family:Menlo,'DejaVu Sans Mono',consolas,'Courier New',monospace\"><span style=\"font-weight: bold\">[</span><span style=\"color: #008080; text-decoration-color: #008080; font-weight: bold\">04</span><span style=\"font-weight: bold\">]</span>     sep: <span style=\"color: #008000; text-decoration-color: #008000\">\"\\t\"</span>\n",
       "</pre>\n"
      ],
      "text/plain": [
       "\u001b[1m[\u001b[0m\u001b[1;36m04\u001b[0m\u001b[1m]\u001b[0m     sep: \u001b[32m\"\\t\"\u001b[0m\n"
      ]
     },
     "metadata": {},
     "output_type": "display_data"
    },
    {
     "data": {
      "text/html": [
       "<pre style=\"white-space:pre;overflow-x:auto;line-height:normal;font-family:Menlo,'DejaVu Sans Mono',consolas,'Courier New',monospace\"><span style=\"font-weight: bold\">[</span><span style=\"color: #008080; text-decoration-color: #008080; font-weight: bold\">05</span><span style=\"font-weight: bold\">]</span>     header: <span style=\"color: #008080; text-decoration-color: #008080; font-weight: bold\">0</span>\n",
       "</pre>\n"
      ],
      "text/plain": [
       "\u001b[1m[\u001b[0m\u001b[1;36m05\u001b[0m\u001b[1m]\u001b[0m     header: \u001b[1;36m0\u001b[0m\n"
      ]
     },
     "metadata": {},
     "output_type": "display_data"
    },
    {
     "data": {
      "text/html": [
       "<pre style=\"white-space:pre;overflow-x:auto;line-height:normal;font-family:Menlo,'DejaVu Sans Mono',consolas,'Courier New',monospace\"><span style=\"font-weight: bold\">[</span><span style=\"color: #008080; text-decoration-color: #008080; font-weight: bold\">06</span><span style=\"font-weight: bold\">]</span>     encoding: ISO-<span style=\"color: #008080; text-decoration-color: #008080; font-weight: bold\">8859</span>-<span style=\"color: #008080; text-decoration-color: #008080; font-weight: bold\">1</span>\n",
       "</pre>\n"
      ],
      "text/plain": [
       "\u001b[1m[\u001b[0m\u001b[1;36m06\u001b[0m\u001b[1m]\u001b[0m     encoding: ISO-\u001b[1;36m8859\u001b[0m-\u001b[1;36m1\u001b[0m\n"
      ]
     },
     "metadata": {},
     "output_type": "display_data"
    },
    {
     "data": {
      "text/html": [
       "<pre style=\"white-space:pre;overflow-x:auto;line-height:normal;font-family:Menlo,'DejaVu Sans Mono',consolas,'Courier New',monospace\"><span style=\"font-weight: bold\">[</span><span style=\"color: #008080; text-decoration-color: #008080; font-weight: bold\">07</span><span style=\"font-weight: bold\">]</span>     decimal: .\n",
       "</pre>\n"
      ],
      "text/plain": [
       "\u001b[1m[\u001b[0m\u001b[1;36m07\u001b[0m\u001b[1m]\u001b[0m     decimal: .\n"
      ]
     },
     "metadata": {},
     "output_type": "display_data"
    },
    {
     "data": {
      "text/html": [
       "<pre style=\"white-space:pre;overflow-x:auto;line-height:normal;font-family:Menlo,'DejaVu Sans Mono',consolas,'Courier New',monospace\"><span style=\"font-weight: bold\">[</span><span style=\"color: #008080; text-decoration-color: #008080; font-weight: bold\">08</span><span style=\"font-weight: bold\">]</span>     thousands:\n",
       "</pre>\n"
      ],
      "text/plain": [
       "\u001b[1m[\u001b[0m\u001b[1;36m08\u001b[0m\u001b[1m]\u001b[0m     thousands:\n"
      ]
     },
     "metadata": {},
     "output_type": "display_data"
    },
    {
     "data": {
      "text/html": [
       "<pre style=\"white-space:pre;overflow-x:auto;line-height:normal;font-family:Menlo,'DejaVu Sans Mono',consolas,'Courier New',monospace\"><span style=\"font-weight: bold\">[</span><span style=\"color: #008080; text-decoration-color: #008080; font-weight: bold\">09</span><span style=\"font-weight: bold\">]</span>     comment_chars:\n",
       "</pre>\n"
      ],
      "text/plain": [
       "\u001b[1m[\u001b[0m\u001b[1;36m09\u001b[0m\u001b[1m]\u001b[0m     comment_chars:\n"
      ]
     },
     "metadata": {},
     "output_type": "display_data"
    },
    {
     "data": {
      "text/html": [
       "<pre style=\"white-space:pre;overflow-x:auto;line-height:normal;font-family:Menlo,'DejaVu Sans Mono',consolas,'Courier New',monospace\"><span style=\"font-weight: bold\">[</span><span style=\"color: #008080; text-decoration-color: #008080; font-weight: bold\">10</span><span style=\"font-weight: bold\">]</span>         - <span style=\"color: #008000; text-decoration-color: #008000\">'#'</span>\n",
       "</pre>\n"
      ],
      "text/plain": [
       "\u001b[1m[\u001b[0m\u001b[1;36m10\u001b[0m\u001b[1m]\u001b[0m         - \u001b[32m'#'\u001b[0m\n"
      ]
     },
     "metadata": {},
     "output_type": "display_data"
    },
    {
     "data": {
      "text/html": [
       "<pre style=\"white-space:pre;overflow-x:auto;line-height:normal;font-family:Menlo,'DejaVu Sans Mono',consolas,'Courier New',monospace\"><span style=\"font-weight: bold\">[</span><span style=\"color: #008080; text-decoration-color: #008080; font-weight: bold\">11</span><span style=\"font-weight: bold\">]</span>         - <span style=\"color: #008000; text-decoration-color: #008000\">'!'</span>\n",
       "</pre>\n"
      ],
      "text/plain": [
       "\u001b[1m[\u001b[0m\u001b[1;36m11\u001b[0m\u001b[1m]\u001b[0m         - \u001b[32m'!'\u001b[0m\n"
      ]
     },
     "metadata": {},
     "output_type": "display_data"
    },
    {
     "data": {
      "text/html": [
       "<pre style=\"white-space:pre;overflow-x:auto;line-height:normal;font-family:Menlo,'DejaVu Sans Mono',consolas,'Courier New',monospace\"><span style=\"font-weight: bold\">[</span><span style=\"color: #008080; text-decoration-color: #008080; font-weight: bold\">12</span><span style=\"font-weight: bold\">]</span> pre_processors:\n",
       "</pre>\n"
      ],
      "text/plain": [
       "\u001b[1m[\u001b[0m\u001b[1;36m12\u001b[0m\u001b[1m]\u001b[0m pre_processors:\n"
      ]
     },
     "metadata": {},
     "output_type": "display_data"
    },
    {
     "data": {
      "text/html": [
       "<pre style=\"white-space:pre;overflow-x:auto;line-height:normal;font-family:Menlo,'DejaVu Sans Mono',consolas,'Courier New',monospace\"><span style=\"font-weight: bold\">[</span><span style=\"color: #008080; text-decoration-color: #008080; font-weight: bold\">13</span><span style=\"font-weight: bold\">]</span>     remove_empty_lines: true\n",
       "</pre>\n"
      ],
      "text/plain": [
       "\u001b[1m[\u001b[0m\u001b[1;36m13\u001b[0m\u001b[1m]\u001b[0m     remove_empty_lines: true\n"
      ]
     },
     "metadata": {},
     "output_type": "display_data"
    },
    {
     "data": {
      "text/html": [
       "<pre style=\"white-space:pre;overflow-x:auto;line-height:normal;font-family:Menlo,'DejaVu Sans Mono',consolas,'Courier New',monospace\"><span style=\"font-weight: bold\">[</span><span style=\"color: #008080; text-decoration-color: #008080; font-weight: bold\">14</span><span style=\"font-weight: bold\">]</span> post_processors:\n",
       "</pre>\n"
      ],
      "text/plain": [
       "\u001b[1m[\u001b[0m\u001b[1;36m14\u001b[0m\u001b[1m]\u001b[0m post_processors:\n"
      ]
     },
     "metadata": {},
     "output_type": "display_data"
    },
    {
     "data": {
      "text/html": [
       "<pre style=\"white-space:pre;overflow-x:auto;line-height:normal;font-family:Menlo,'DejaVu Sans Mono',consolas,'Courier New',monospace\"><span style=\"font-weight: bold\">[</span><span style=\"color: #008080; text-decoration-color: #008080; font-weight: bold\">15</span><span style=\"font-weight: bold\">]</span>     split_capacity: true\n",
       "</pre>\n"
      ],
      "text/plain": [
       "\u001b[1m[\u001b[0m\u001b[1;36m15\u001b[0m\u001b[1m]\u001b[0m     split_capacity: true\n"
      ]
     },
     "metadata": {},
     "output_type": "display_data"
    },
    {
     "data": {
      "text/html": [
       "<pre style=\"white-space:pre;overflow-x:auto;line-height:normal;font-family:Menlo,'DejaVu Sans Mono',consolas,'Courier New',monospace\"><span style=\"font-weight: bold\">[</span><span style=\"color: #008080; text-decoration-color: #008080; font-weight: bold\">16</span><span style=\"font-weight: bold\">]</span>     split_current: true\n",
       "</pre>\n"
      ],
      "text/plain": [
       "\u001b[1m[\u001b[0m\u001b[1;36m16\u001b[0m\u001b[1m]\u001b[0m     split_current: true\n"
      ]
     },
     "metadata": {},
     "output_type": "display_data"
    },
    {
     "data": {
      "text/html": [
       "<pre style=\"white-space:pre;overflow-x:auto;line-height:normal;font-family:Menlo,'DejaVu Sans Mono',consolas,'Courier New',monospace\"><span style=\"font-weight: bold\">[</span><span style=\"color: #008080; text-decoration-color: #008080; font-weight: bold\">17</span><span style=\"font-weight: bold\">]</span>     set_index: true\n",
       "</pre>\n"
      ],
      "text/plain": [
       "\u001b[1m[\u001b[0m\u001b[1;36m17\u001b[0m\u001b[1m]\u001b[0m     set_index: true\n"
      ]
     },
     "metadata": {},
     "output_type": "display_data"
    },
    {
     "data": {
      "text/html": [
       "<pre style=\"white-space:pre;overflow-x:auto;line-height:normal;font-family:Menlo,'DejaVu Sans Mono',consolas,'Courier New',monospace\"><span style=\"font-weight: bold\">[</span><span style=\"color: #008080; text-decoration-color: #008080; font-weight: bold\">18</span><span style=\"font-weight: bold\">]</span>     rename_headers: true\n",
       "</pre>\n"
      ],
      "text/plain": [
       "\u001b[1m[\u001b[0m\u001b[1;36m18\u001b[0m\u001b[1m]\u001b[0m     rename_headers: true\n"
      ]
     },
     "metadata": {},
     "output_type": "display_data"
    },
    {
     "data": {
      "text/html": [
       "<pre style=\"white-space:pre;overflow-x:auto;line-height:normal;font-family:Menlo,'DejaVu Sans Mono',consolas,'Courier New',monospace\"><span style=\"font-weight: bold\">[</span><span style=\"color: #008080; text-decoration-color: #008080; font-weight: bold\">19</span><span style=\"font-weight: bold\">]</span>     set_cycle_number_not_zero: true\n",
       "</pre>\n"
      ],
      "text/plain": [
       "\u001b[1m[\u001b[0m\u001b[1;36m19\u001b[0m\u001b[1m]\u001b[0m     set_cycle_number_not_zero: true\n"
      ]
     },
     "metadata": {},
     "output_type": "display_data"
    },
    {
     "data": {
      "text/html": [
       "<pre style=\"white-space:pre;overflow-x:auto;line-height:normal;font-family:Menlo,'DejaVu Sans Mono',consolas,'Courier New',monospace\"><span style=\"font-weight: bold\">[</span><span style=\"color: #008080; text-decoration-color: #008080; font-weight: bold\">20</span><span style=\"font-weight: bold\">]</span>     remove_last_if_bad: true\n",
       "</pre>\n"
      ],
      "text/plain": [
       "\u001b[1m[\u001b[0m\u001b[1;36m20\u001b[0m\u001b[1m]\u001b[0m     remove_last_if_bad: true\n"
      ]
     },
     "metadata": {},
     "output_type": "display_data"
    },
    {
     "data": {
      "text/html": [
       "<pre style=\"white-space:pre;overflow-x:auto;line-height:normal;font-family:Menlo,'DejaVu Sans Mono',consolas,'Courier New',monospace\"><span style=\"font-weight: bold\">[</span><span style=\"color: #008080; text-decoration-color: #008080; font-weight: bold\">21</span><span style=\"font-weight: bold\">]</span>     convert_date_time_to_datetime: true\n",
       "</pre>\n"
      ],
      "text/plain": [
       "\u001b[1m[\u001b[0m\u001b[1;36m21\u001b[0m\u001b[1m]\u001b[0m     convert_date_time_to_datetime: true\n"
      ]
     },
     "metadata": {},
     "output_type": "display_data"
    },
    {
     "data": {
      "text/html": [
       "<pre style=\"white-space:pre;overflow-x:auto;line-height:normal;font-family:Menlo,'DejaVu Sans Mono',consolas,'Courier New',monospace\"><span style=\"font-weight: bold\">[</span><span style=\"color: #008080; text-decoration-color: #008080; font-weight: bold\">22</span><span style=\"font-weight: bold\">]</span>     convert_step_time_to_timedelta: true\n",
       "</pre>\n"
      ],
      "text/plain": [
       "\u001b[1m[\u001b[0m\u001b[1;36m22\u001b[0m\u001b[1m]\u001b[0m     convert_step_time_to_timedelta: true\n"
      ]
     },
     "metadata": {},
     "output_type": "display_data"
    },
    {
     "data": {
      "text/html": [
       "<pre style=\"white-space:pre;overflow-x:auto;line-height:normal;font-family:Menlo,'DejaVu Sans Mono',consolas,'Courier New',monospace\"><span style=\"font-weight: bold\">[</span><span style=\"color: #008080; text-decoration-color: #008080; font-weight: bold\">23</span><span style=\"font-weight: bold\">]</span>     convert_test_time_to_timedelta: true\n",
       "</pre>\n"
      ],
      "text/plain": [
       "\u001b[1m[\u001b[0m\u001b[1;36m23\u001b[0m\u001b[1m]\u001b[0m     convert_test_time_to_timedelta: true\n"
      ]
     },
     "metadata": {},
     "output_type": "display_data"
    },
    {
     "data": {
      "text/html": [
       "<pre style=\"white-space:pre;overflow-x:auto;line-height:normal;font-family:Menlo,'DejaVu Sans Mono',consolas,'Courier New',monospace\"><span style=\"font-weight: bold\">[</span><span style=\"color: #008080; text-decoration-color: #008080; font-weight: bold\">24</span><span style=\"font-weight: bold\">]</span> normal_headers_renaming_dict:\n",
       "</pre>\n"
      ],
      "text/plain": [
       "\u001b[1m[\u001b[0m\u001b[1;36m24\u001b[0m\u001b[1m]\u001b[0m normal_headers_renaming_dict:\n"
      ]
     },
     "metadata": {},
     "output_type": "display_data"
    },
    {
     "data": {
      "text/html": [
       "<pre style=\"white-space:pre;overflow-x:auto;line-height:normal;font-family:Menlo,'DejaVu Sans Mono',consolas,'Courier New',monospace\"><span style=\"font-weight: bold\">[</span><span style=\"color: #008080; text-decoration-color: #008080; font-weight: bold\">25</span><span style=\"font-weight: bold\">]</span>     data_point_txt: <span style=\"color: #008000; text-decoration-color: #008000\">\"Rec#\"</span>\n",
       "</pre>\n"
      ],
      "text/plain": [
       "\u001b[1m[\u001b[0m\u001b[1;36m25\u001b[0m\u001b[1m]\u001b[0m     data_point_txt: \u001b[32m\"Rec#\"\u001b[0m\n"
      ]
     },
     "metadata": {},
     "output_type": "display_data"
    },
    {
     "data": {
      "text/html": [
       "<pre style=\"white-space:pre;overflow-x:auto;line-height:normal;font-family:Menlo,'DejaVu Sans Mono',consolas,'Courier New',monospace\"><span style=\"font-weight: bold\">[</span><span style=\"color: #008080; text-decoration-color: #008080; font-weight: bold\">26</span><span style=\"font-weight: bold\">]</span>     datetime_txt: <span style=\"color: #008000; text-decoration-color: #008000\">\"DPt Time\"</span>\n",
       "</pre>\n"
      ],
      "text/plain": [
       "\u001b[1m[\u001b[0m\u001b[1;36m26\u001b[0m\u001b[1m]\u001b[0m     datetime_txt: \u001b[32m\"DPt Time\"\u001b[0m\n"
      ]
     },
     "metadata": {},
     "output_type": "display_data"
    },
    {
     "data": {
      "text/html": [
       "<pre style=\"white-space:pre;overflow-x:auto;line-height:normal;font-family:Menlo,'DejaVu Sans Mono',consolas,'Courier New',monospace\"><span style=\"font-weight: bold\">[</span><span style=\"color: #008080; text-decoration-color: #008080; font-weight: bold\">27</span><span style=\"font-weight: bold\">]</span>     test_time_txt: <span style=\"color: #008000; text-decoration-color: #008000\">\"TestTime\"</span>\n",
       "</pre>\n"
      ],
      "text/plain": [
       "\u001b[1m[\u001b[0m\u001b[1;36m27\u001b[0m\u001b[1m]\u001b[0m     test_time_txt: \u001b[32m\"TestTime\"\u001b[0m\n"
      ]
     },
     "metadata": {},
     "output_type": "display_data"
    },
    {
     "data": {
      "text/html": [
       "<pre style=\"white-space:pre;overflow-x:auto;line-height:normal;font-family:Menlo,'DejaVu Sans Mono',consolas,'Courier New',monospace\"><span style=\"font-weight: bold\">[</span><span style=\"color: #008080; text-decoration-color: #008080; font-weight: bold\">28</span><span style=\"font-weight: bold\">]</span>     step_time_txt: <span style=\"color: #008000; text-decoration-color: #008000\">\"StepTime\"</span>\n",
       "</pre>\n"
      ],
      "text/plain": [
       "\u001b[1m[\u001b[0m\u001b[1;36m28\u001b[0m\u001b[1m]\u001b[0m     step_time_txt: \u001b[32m\"StepTime\"\u001b[0m\n"
      ]
     },
     "metadata": {},
     "output_type": "display_data"
    },
    {
     "data": {
      "text/html": [
       "<pre style=\"white-space:pre;overflow-x:auto;line-height:normal;font-family:Menlo,'DejaVu Sans Mono',consolas,'Courier New',monospace\"><span style=\"font-weight: bold\">[</span><span style=\"color: #008080; text-decoration-color: #008080; font-weight: bold\">29</span><span style=\"font-weight: bold\">]</span>     cycle_index_txt: <span style=\"color: #008000; text-decoration-color: #008000\">\"Cyc#\"</span>\n",
       "</pre>\n"
      ],
      "text/plain": [
       "\u001b[1m[\u001b[0m\u001b[1;36m29\u001b[0m\u001b[1m]\u001b[0m     cycle_index_txt: \u001b[32m\"Cyc#\"\u001b[0m\n"
      ]
     },
     "metadata": {},
     "output_type": "display_data"
    },
    {
     "data": {
      "text/html": [
       "<pre style=\"white-space:pre;overflow-x:auto;line-height:normal;font-family:Menlo,'DejaVu Sans Mono',consolas,'Courier New',monospace\"><span style=\"font-weight: bold\">[</span><span style=\"color: #008080; text-decoration-color: #008080; font-weight: bold\">30</span><span style=\"font-weight: bold\">]</span>     step_index_txt: <span style=\"color: #008000; text-decoration-color: #008000\">\"Step\"</span>\n",
       "</pre>\n"
      ],
      "text/plain": [
       "\u001b[1m[\u001b[0m\u001b[1;36m30\u001b[0m\u001b[1m]\u001b[0m     step_index_txt: \u001b[32m\"Step\"\u001b[0m\n"
      ]
     },
     "metadata": {},
     "output_type": "display_data"
    },
    {
     "data": {
      "text/html": [
       "<pre style=\"white-space:pre;overflow-x:auto;line-height:normal;font-family:Menlo,'DejaVu Sans Mono',consolas,'Courier New',monospace\"><span style=\"font-weight: bold\">[</span><span style=\"color: #008080; text-decoration-color: #008080; font-weight: bold\">31</span><span style=\"font-weight: bold\">]</span>     current_txt: <span style=\"color: #008000; text-decoration-color: #008000\">\"mAmps\"</span>\n",
       "</pre>\n"
      ],
      "text/plain": [
       "\u001b[1m[\u001b[0m\u001b[1;36m31\u001b[0m\u001b[1m]\u001b[0m     current_txt: \u001b[32m\"mAmps\"\u001b[0m\n"
      ]
     },
     "metadata": {},
     "output_type": "display_data"
    },
    {
     "data": {
      "text/html": [
       "<pre style=\"white-space:pre;overflow-x:auto;line-height:normal;font-family:Menlo,'DejaVu Sans Mono',consolas,'Courier New',monospace\"><span style=\"font-weight: bold\">[</span><span style=\"color: #008080; text-decoration-color: #008080; font-weight: bold\">32</span><span style=\"font-weight: bold\">]</span>     voltage_txt: <span style=\"color: #008000; text-decoration-color: #008000\">\"Volts\"</span>\n",
       "</pre>\n"
      ],
      "text/plain": [
       "\u001b[1m[\u001b[0m\u001b[1;36m32\u001b[0m\u001b[1m]\u001b[0m     voltage_txt: \u001b[32m\"Volts\"\u001b[0m\n"
      ]
     },
     "metadata": {},
     "output_type": "display_data"
    },
    {
     "data": {
      "text/html": [
       "<pre style=\"white-space:pre;overflow-x:auto;line-height:normal;font-family:Menlo,'DejaVu Sans Mono',consolas,'Courier New',monospace\"><span style=\"font-weight: bold\">[</span><span style=\"color: #008080; text-decoration-color: #008080; font-weight: bold\">33</span><span style=\"font-weight: bold\">]</span> #    power_txt: <span style=\"color: #008000; text-decoration-color: #008000\">\"Watt-hr\"</span>\n",
       "</pre>\n"
      ],
      "text/plain": [
       "\u001b[1m[\u001b[0m\u001b[1;36m33\u001b[0m\u001b[1m]\u001b[0m #    power_txt: \u001b[32m\"Watt-hr\"\u001b[0m\n"
      ]
     },
     "metadata": {},
     "output_type": "display_data"
    },
    {
     "data": {
      "text/html": [
       "<pre style=\"white-space:pre;overflow-x:auto;line-height:normal;font-family:Menlo,'DejaVu Sans Mono',consolas,'Courier New',monospace\"><span style=\"font-weight: bold\">[</span><span style=\"color: #008080; text-decoration-color: #008080; font-weight: bold\">34</span><span style=\"font-weight: bold\">]</span>     charge_capacity_txt: <span style=\"color: #008000; text-decoration-color: #008000\">\"mAmp-hr\"</span>\n",
       "</pre>\n"
      ],
      "text/plain": [
       "\u001b[1m[\u001b[0m\u001b[1;36m34\u001b[0m\u001b[1m]\u001b[0m     charge_capacity_txt: \u001b[32m\"mAmp-hr\"\u001b[0m\n"
      ]
     },
     "metadata": {},
     "output_type": "display_data"
    },
    {
     "data": {
      "text/html": [
       "<pre style=\"white-space:pre;overflow-x:auto;line-height:normal;font-family:Menlo,'DejaVu Sans Mono',consolas,'Courier New',monospace\"><span style=\"font-weight: bold\">[</span><span style=\"color: #008080; text-decoration-color: #008080; font-weight: bold\">35</span><span style=\"font-weight: bold\">]</span>     charge_energy_txt: <span style=\"color: #008000; text-decoration-color: #008000\">\"mWatt-hr\"</span>\n",
       "</pre>\n"
      ],
      "text/plain": [
       "\u001b[1m[\u001b[0m\u001b[1;36m35\u001b[0m\u001b[1m]\u001b[0m     charge_energy_txt: \u001b[32m\"mWatt-hr\"\u001b[0m\n"
      ]
     },
     "metadata": {},
     "output_type": "display_data"
    },
    {
     "data": {
      "text/html": [
       "<pre style=\"white-space:pre;overflow-x:auto;line-height:normal;font-family:Menlo,'DejaVu Sans Mono',consolas,'Courier New',monospace\"><span style=\"font-weight: bold\">[</span><span style=\"color: #008080; text-decoration-color: #008080; font-weight: bold\">36</span><span style=\"font-weight: bold\">]</span> #    ac_impedance_txt: <span style=\"color: #008000; text-decoration-color: #008000\">\"ACImp/Ohms\"</span>\n",
       "</pre>\n"
      ],
      "text/plain": [
       "\u001b[1m[\u001b[0m\u001b[1;36m36\u001b[0m\u001b[1m]\u001b[0m #    ac_impedance_txt: \u001b[32m\"ACImp/Ohms\"\u001b[0m\n"
      ]
     },
     "metadata": {},
     "output_type": "display_data"
    },
    {
     "data": {
      "text/html": [
       "<pre style=\"white-space:pre;overflow-x:auto;line-height:normal;font-family:Menlo,'DejaVu Sans Mono',consolas,'Courier New',monospace\"><span style=\"font-weight: bold\">[</span><span style=\"color: #008080; text-decoration-color: #008080; font-weight: bold\">37</span><span style=\"font-weight: bold\">]</span> #    internal_resistance_txt: <span style=\"color: #008000; text-decoration-color: #008000\">\"DCIR/Ohms\"</span>\n",
       "</pre>\n"
      ],
      "text/plain": [
       "\u001b[1m[\u001b[0m\u001b[1;36m37\u001b[0m\u001b[1m]\u001b[0m #    internal_resistance_txt: \u001b[32m\"DCIR/Ohms\"\u001b[0m\n"
      ]
     },
     "metadata": {},
     "output_type": "display_data"
    },
    {
     "data": {
      "text/html": [
       "<pre style=\"white-space:pre;overflow-x:auto;line-height:normal;font-family:Menlo,'DejaVu Sans Mono',consolas,'Courier New',monospace\"><span style=\"font-weight: bold\">[</span><span style=\"color: #008080; text-decoration-color: #008080; font-weight: bold\">38</span><span style=\"font-weight: bold\">]</span> unit_labels:\n",
       "</pre>\n"
      ],
      "text/plain": [
       "\u001b[1m[\u001b[0m\u001b[1;36m38\u001b[0m\u001b[1m]\u001b[0m unit_labels:\n"
      ]
     },
     "metadata": {},
     "output_type": "display_data"
    },
    {
     "data": {
      "text/html": [
       "<pre style=\"white-space:pre;overflow-x:auto;line-height:normal;font-family:Menlo,'DejaVu Sans Mono',consolas,'Courier New',monospace\"><span style=\"font-weight: bold\">[</span><span style=\"color: #008080; text-decoration-color: #008080; font-weight: bold\">39</span><span style=\"font-weight: bold\">]</span>     resistance: Ohms\n",
       "</pre>\n"
      ],
      "text/plain": [
       "\u001b[1m[\u001b[0m\u001b[1;36m39\u001b[0m\u001b[1m]\u001b[0m     resistance: Ohms\n"
      ]
     },
     "metadata": {},
     "output_type": "display_data"
    },
    {
     "data": {
      "text/html": [
       "<pre style=\"white-space:pre;overflow-x:auto;line-height:normal;font-family:Menlo,'DejaVu Sans Mono',consolas,'Courier New',monospace\"><span style=\"font-weight: bold\">[</span><span style=\"color: #008080; text-decoration-color: #008080; font-weight: bold\">40</span><span style=\"font-weight: bold\">]</span>     time: s\n",
       "</pre>\n"
      ],
      "text/plain": [
       "\u001b[1m[\u001b[0m\u001b[1;36m40\u001b[0m\u001b[1m]\u001b[0m     time: s\n"
      ]
     },
     "metadata": {},
     "output_type": "display_data"
    },
    {
     "data": {
      "text/html": [
       "<pre style=\"white-space:pre;overflow-x:auto;line-height:normal;font-family:Menlo,'DejaVu Sans Mono',consolas,'Courier New',monospace\"><span style=\"font-weight: bold\">[</span><span style=\"color: #008080; text-decoration-color: #008080; font-weight: bold\">41</span><span style=\"font-weight: bold\">]</span>     current: mA\n",
       "</pre>\n"
      ],
      "text/plain": [
       "\u001b[1m[\u001b[0m\u001b[1;36m41\u001b[0m\u001b[1m]\u001b[0m     current: mA\n"
      ]
     },
     "metadata": {},
     "output_type": "display_data"
    },
    {
     "data": {
      "text/html": [
       "<pre style=\"white-space:pre;overflow-x:auto;line-height:normal;font-family:Menlo,'DejaVu Sans Mono',consolas,'Courier New',monospace\"><span style=\"font-weight: bold\">[</span><span style=\"color: #008080; text-decoration-color: #008080; font-weight: bold\">42</span><span style=\"font-weight: bold\">]</span>     voltage: mV\n",
       "</pre>\n"
      ],
      "text/plain": [
       "\u001b[1m[\u001b[0m\u001b[1;36m42\u001b[0m\u001b[1m]\u001b[0m     voltage: mV\n"
      ]
     },
     "metadata": {},
     "output_type": "display_data"
    },
    {
     "data": {
      "text/html": [
       "<pre style=\"white-space:pre;overflow-x:auto;line-height:normal;font-family:Menlo,'DejaVu Sans Mono',consolas,'Courier New',monospace\"><span style=\"font-weight: bold\">[</span><span style=\"color: #008080; text-decoration-color: #008080; font-weight: bold\">43</span><span style=\"font-weight: bold\">]</span>     power: mW\n",
       "</pre>\n"
      ],
      "text/plain": [
       "\u001b[1m[\u001b[0m\u001b[1;36m43\u001b[0m\u001b[1m]\u001b[0m     power: mW\n"
      ]
     },
     "metadata": {},
     "output_type": "display_data"
    },
    {
     "data": {
      "text/html": [
       "<pre style=\"white-space:pre;overflow-x:auto;line-height:normal;font-family:Menlo,'DejaVu Sans Mono',consolas,'Courier New',monospace\"><span style=\"font-weight: bold\">[</span><span style=\"color: #008080; text-decoration-color: #008080; font-weight: bold\">44</span><span style=\"font-weight: bold\">]</span>     capacity: mAh\n",
       "</pre>\n"
      ],
      "text/plain": [
       "\u001b[1m[\u001b[0m\u001b[1;36m44\u001b[0m\u001b[1m]\u001b[0m     capacity: mAh\n"
      ]
     },
     "metadata": {},
     "output_type": "display_data"
    },
    {
     "data": {
      "text/html": [
       "<pre style=\"white-space:pre;overflow-x:auto;line-height:normal;font-family:Menlo,'DejaVu Sans Mono',consolas,'Courier New',monospace\"><span style=\"font-weight: bold\">[</span><span style=\"color: #008080; text-decoration-color: #008080; font-weight: bold\">45</span><span style=\"font-weight: bold\">]</span>     energy: mWh\n",
       "</pre>\n"
      ],
      "text/plain": [
       "\u001b[1m[\u001b[0m\u001b[1;36m45\u001b[0m\u001b[1m]\u001b[0m     energy: mWh\n"
      ]
     },
     "metadata": {},
     "output_type": "display_data"
    },
    {
     "data": {
      "text/html": [
       "<pre style=\"white-space:pre;overflow-x:auto;line-height:normal;font-family:Menlo,'DejaVu Sans Mono',consolas,'Courier New',monospace\"><span style=\"font-weight: bold\">[</span><span style=\"color: #008080; text-decoration-color: #008080; font-weight: bold\">46</span><span style=\"font-weight: bold\">]</span>     temperature: C\n",
       "</pre>\n"
      ],
      "text/plain": [
       "\u001b[1m[\u001b[0m\u001b[1;36m46\u001b[0m\u001b[1m]\u001b[0m     temperature: C\n"
      ]
     },
     "metadata": {},
     "output_type": "display_data"
    },
    {
     "data": {
      "text/html": [
       "<pre style=\"white-space:pre;overflow-x:auto;line-height:normal;font-family:Menlo,'DejaVu Sans Mono',consolas,'Courier New',monospace\"><span style=\"font-weight: bold\">[</span><span style=\"color: #008080; text-decoration-color: #008080; font-weight: bold\">47</span><span style=\"font-weight: bold\">]</span> states:\n",
       "</pre>\n"
      ],
      "text/plain": [
       "\u001b[1m[\u001b[0m\u001b[1;36m47\u001b[0m\u001b[1m]\u001b[0m states:\n"
      ]
     },
     "metadata": {},
     "output_type": "display_data"
    },
    {
     "data": {
      "text/html": [
       "<pre style=\"white-space:pre;overflow-x:auto;line-height:normal;font-family:Menlo,'DejaVu Sans Mono',consolas,'Courier New',monospace\"><span style=\"font-weight: bold\">[</span><span style=\"color: #008080; text-decoration-color: #008080; font-weight: bold\">48</span><span style=\"font-weight: bold\">]</span>     column_name: State\n",
       "</pre>\n"
      ],
      "text/plain": [
       "\u001b[1m[\u001b[0m\u001b[1;36m48\u001b[0m\u001b[1m]\u001b[0m     column_name: State\n"
      ]
     },
     "metadata": {},
     "output_type": "display_data"
    },
    {
     "data": {
      "text/html": [
       "<pre style=\"white-space:pre;overflow-x:auto;line-height:normal;font-family:Menlo,'DejaVu Sans Mono',consolas,'Courier New',monospace\"><span style=\"font-weight: bold\">[</span><span style=\"color: #008080; text-decoration-color: #008080; font-weight: bold\">49</span><span style=\"font-weight: bold\">]</span>     charge_keys:\n",
       "</pre>\n"
      ],
      "text/plain": [
       "\u001b[1m[\u001b[0m\u001b[1;36m49\u001b[0m\u001b[1m]\u001b[0m     charge_keys:\n"
      ]
     },
     "metadata": {},
     "output_type": "display_data"
    },
    {
     "data": {
      "text/html": [
       "<pre style=\"white-space:pre;overflow-x:auto;line-height:normal;font-family:Menlo,'DejaVu Sans Mono',consolas,'Courier New',monospace\"><span style=\"font-weight: bold\">[</span><span style=\"color: #008080; text-decoration-color: #008080; font-weight: bold\">50</span><span style=\"font-weight: bold\">]</span>         - C\n",
       "</pre>\n"
      ],
      "text/plain": [
       "\u001b[1m[\u001b[0m\u001b[1;36m50\u001b[0m\u001b[1m]\u001b[0m         - C\n"
      ]
     },
     "metadata": {},
     "output_type": "display_data"
    },
    {
     "data": {
      "text/html": [
       "<pre style=\"white-space:pre;overflow-x:auto;line-height:normal;font-family:Menlo,'DejaVu Sans Mono',consolas,'Courier New',monospace\"><span style=\"font-weight: bold\">[</span><span style=\"color: #008080; text-decoration-color: #008080; font-weight: bold\">51</span><span style=\"font-weight: bold\">]</span>     discharge_keys:\n",
       "</pre>\n"
      ],
      "text/plain": [
       "\u001b[1m[\u001b[0m\u001b[1;36m51\u001b[0m\u001b[1m]\u001b[0m     discharge_keys:\n"
      ]
     },
     "metadata": {},
     "output_type": "display_data"
    },
    {
     "data": {
      "text/html": [
       "<pre style=\"white-space:pre;overflow-x:auto;line-height:normal;font-family:Menlo,'DejaVu Sans Mono',consolas,'Courier New',monospace\"><span style=\"font-weight: bold\">[</span><span style=\"color: #008080; text-decoration-color: #008080; font-weight: bold\">52</span><span style=\"font-weight: bold\">]</span>         - D\n",
       "</pre>\n"
      ],
      "text/plain": [
       "\u001b[1m[\u001b[0m\u001b[1;36m52\u001b[0m\u001b[1m]\u001b[0m         - D\n"
      ]
     },
     "metadata": {},
     "output_type": "display_data"
    },
    {
     "data": {
      "text/html": [
       "<pre style=\"white-space:pre;overflow-x:auto;line-height:normal;font-family:Menlo,'DejaVu Sans Mono',consolas,'Courier New',monospace\"><span style=\"font-weight: bold\">[</span><span style=\"color: #008080; text-decoration-color: #008080; font-weight: bold\">53</span><span style=\"font-weight: bold\">]</span>     rest_keys:\n",
       "</pre>\n"
      ],
      "text/plain": [
       "\u001b[1m[\u001b[0m\u001b[1;36m53\u001b[0m\u001b[1m]\u001b[0m     rest_keys:\n"
      ]
     },
     "metadata": {},
     "output_type": "display_data"
    },
    {
     "data": {
      "text/html": [
       "<pre style=\"white-space:pre;overflow-x:auto;line-height:normal;font-family:Menlo,'DejaVu Sans Mono',consolas,'Courier New',monospace\"><span style=\"font-weight: bold\">[</span><span style=\"color: #008080; text-decoration-color: #008080; font-weight: bold\">54</span><span style=\"font-weight: bold\">]</span>         - R\n",
       "</pre>\n"
      ],
      "text/plain": [
       "\u001b[1m[\u001b[0m\u001b[1;36m54\u001b[0m\u001b[1m]\u001b[0m         - R\n"
      ]
     },
     "metadata": {},
     "output_type": "display_data"
    },
    {
     "data": {
      "text/html": [
       "<pre style=\"white-space:pre;overflow-x:auto;line-height:normal;font-family:Menlo,'DejaVu Sans Mono',consolas,'Courier New',monospace\"><span style=\"font-weight: bold\">[</span><span style=\"color: #008080; text-decoration-color: #008080; font-weight: bold\">55</span><span style=\"font-weight: bold\">]</span> raw_units:\n",
       "</pre>\n"
      ],
      "text/plain": [
       "\u001b[1m[\u001b[0m\u001b[1;36m55\u001b[0m\u001b[1m]\u001b[0m raw_units:\n"
      ]
     },
     "metadata": {},
     "output_type": "display_data"
    },
    {
     "data": {
      "text/html": [
       "<pre style=\"white-space:pre;overflow-x:auto;line-height:normal;font-family:Menlo,'DejaVu Sans Mono',consolas,'Courier New',monospace\"><span style=\"font-weight: bold\">[</span><span style=\"color: #008080; text-decoration-color: #008080; font-weight: bold\">56</span><span style=\"font-weight: bold\">]</span>     current: <span style=\"color: #008000; text-decoration-color: #008000\">\"mA\"</span>\n",
       "</pre>\n"
      ],
      "text/plain": [
       "\u001b[1m[\u001b[0m\u001b[1;36m56\u001b[0m\u001b[1m]\u001b[0m     current: \u001b[32m\"mA\"\u001b[0m\n"
      ]
     },
     "metadata": {},
     "output_type": "display_data"
    },
    {
     "data": {
      "text/html": [
       "<pre style=\"white-space:pre;overflow-x:auto;line-height:normal;font-family:Menlo,'DejaVu Sans Mono',consolas,'Courier New',monospace\"><span style=\"font-weight: bold\">[</span><span style=\"color: #008080; text-decoration-color: #008080; font-weight: bold\">57</span><span style=\"font-weight: bold\">]</span>     charge: <span style=\"color: #008000; text-decoration-color: #008000\">\"mAh\"</span>\n",
       "</pre>\n"
      ],
      "text/plain": [
       "\u001b[1m[\u001b[0m\u001b[1;36m57\u001b[0m\u001b[1m]\u001b[0m     charge: \u001b[32m\"mAh\"\u001b[0m\n"
      ]
     },
     "metadata": {},
     "output_type": "display_data"
    },
    {
     "data": {
      "text/html": [
       "<pre style=\"white-space:pre;overflow-x:auto;line-height:normal;font-family:Menlo,'DejaVu Sans Mono',consolas,'Courier New',monospace\"><span style=\"font-weight: bold\">[</span><span style=\"color: #008080; text-decoration-color: #008080; font-weight: bold\">58</span><span style=\"font-weight: bold\">]</span>     mass: <span style=\"color: #008000; text-decoration-color: #008000\">\"g\"</span>\n",
       "</pre>\n"
      ],
      "text/plain": [
       "\u001b[1m[\u001b[0m\u001b[1;36m58\u001b[0m\u001b[1m]\u001b[0m     mass: \u001b[32m\"g\"\u001b[0m\n"
      ]
     },
     "metadata": {},
     "output_type": "display_data"
    },
    {
     "data": {
      "text/html": [
       "<pre style=\"white-space:pre;overflow-x:auto;line-height:normal;font-family:Menlo,'DejaVu Sans Mono',consolas,'Courier New',monospace\"><span style=\"font-weight: bold\">[</span><span style=\"color: #008080; text-decoration-color: #008080; font-weight: bold\">59</span><span style=\"font-weight: bold\">]</span>     voltage: <span style=\"color: #008000; text-decoration-color: #008000\">\"mV\"</span>\n",
       "</pre>\n"
      ],
      "text/plain": [
       "\u001b[1m[\u001b[0m\u001b[1;36m59\u001b[0m\u001b[1m]\u001b[0m     voltage: \u001b[32m\"mV\"\u001b[0m\n"
      ]
     },
     "metadata": {},
     "output_type": "display_data"
    },
    {
     "data": {
      "text/html": [
       "<pre style=\"white-space:pre;overflow-x:auto;line-height:normal;font-family:Menlo,'DejaVu Sans Mono',consolas,'Courier New',monospace\"><span style=\"font-weight: bold\">[</span><span style=\"color: #008080; text-decoration-color: #008080; font-weight: bold\">60</span><span style=\"font-weight: bold\">]</span> raw_limits:\n",
       "</pre>\n"
      ],
      "text/plain": [
       "\u001b[1m[\u001b[0m\u001b[1;36m60\u001b[0m\u001b[1m]\u001b[0m raw_limits:\n"
      ]
     },
     "metadata": {},
     "output_type": "display_data"
    },
    {
     "data": {
      "text/html": [
       "<pre style=\"white-space:pre;overflow-x:auto;line-height:normal;font-family:Menlo,'DejaVu Sans Mono',consolas,'Courier New',monospace\"><span style=\"font-weight: bold\">[</span><span style=\"color: #008080; text-decoration-color: #008080; font-weight: bold\">61</span><span style=\"font-weight: bold\">]</span>     current_hard: <span style=\"color: #008080; text-decoration-color: #008080; font-weight: bold\">1.0e-13</span>\n",
       "</pre>\n"
      ],
      "text/plain": [
       "\u001b[1m[\u001b[0m\u001b[1;36m61\u001b[0m\u001b[1m]\u001b[0m     current_hard: \u001b[1;36m1.0e-13\u001b[0m\n"
      ]
     },
     "metadata": {},
     "output_type": "display_data"
    },
    {
     "data": {
      "text/html": [
       "<pre style=\"white-space:pre;overflow-x:auto;line-height:normal;font-family:Menlo,'DejaVu Sans Mono',consolas,'Courier New',monospace\"><span style=\"font-weight: bold\">[</span><span style=\"color: #008080; text-decoration-color: #008080; font-weight: bold\">62</span><span style=\"font-weight: bold\">]</span>     current_soft: <span style=\"color: #008080; text-decoration-color: #008080; font-weight: bold\">1.0e-05</span>\n",
       "</pre>\n"
      ],
      "text/plain": [
       "\u001b[1m[\u001b[0m\u001b[1;36m62\u001b[0m\u001b[1m]\u001b[0m     current_soft: \u001b[1;36m1.0e-05\u001b[0m\n"
      ]
     },
     "metadata": {},
     "output_type": "display_data"
    },
    {
     "data": {
      "text/html": [
       "<pre style=\"white-space:pre;overflow-x:auto;line-height:normal;font-family:Menlo,'DejaVu Sans Mono',consolas,'Courier New',monospace\"><span style=\"font-weight: bold\">[</span><span style=\"color: #008080; text-decoration-color: #008080; font-weight: bold\">63</span><span style=\"font-weight: bold\">]</span>     ir_change: <span style=\"color: #008080; text-decoration-color: #008080; font-weight: bold\">1.0e-05</span>\n",
       "</pre>\n"
      ],
      "text/plain": [
       "\u001b[1m[\u001b[0m\u001b[1;36m63\u001b[0m\u001b[1m]\u001b[0m     ir_change: \u001b[1;36m1.0e-05\u001b[0m\n"
      ]
     },
     "metadata": {},
     "output_type": "display_data"
    },
    {
     "data": {
      "text/html": [
       "<pre style=\"white-space:pre;overflow-x:auto;line-height:normal;font-family:Menlo,'DejaVu Sans Mono',consolas,'Courier New',monospace\"><span style=\"font-weight: bold\">[</span><span style=\"color: #008080; text-decoration-color: #008080; font-weight: bold\">64</span><span style=\"font-weight: bold\">]</span>     stable_charge_hard: <span style=\"color: #008080; text-decoration-color: #008080; font-weight: bold\">0.9</span>\n",
       "</pre>\n"
      ],
      "text/plain": [
       "\u001b[1m[\u001b[0m\u001b[1;36m64\u001b[0m\u001b[1m]\u001b[0m     stable_charge_hard: \u001b[1;36m0.9\u001b[0m\n"
      ]
     },
     "metadata": {},
     "output_type": "display_data"
    },
    {
     "data": {
      "text/html": [
       "<pre style=\"white-space:pre;overflow-x:auto;line-height:normal;font-family:Menlo,'DejaVu Sans Mono',consolas,'Courier New',monospace\"><span style=\"font-weight: bold\">[</span><span style=\"color: #008080; text-decoration-color: #008080; font-weight: bold\">65</span><span style=\"font-weight: bold\">]</span>     stable_charge_soft: <span style=\"color: #008080; text-decoration-color: #008080; font-weight: bold\">5.0</span>\n",
       "</pre>\n"
      ],
      "text/plain": [
       "\u001b[1m[\u001b[0m\u001b[1;36m65\u001b[0m\u001b[1m]\u001b[0m     stable_charge_soft: \u001b[1;36m5.0\u001b[0m\n"
      ]
     },
     "metadata": {},
     "output_type": "display_data"
    },
    {
     "data": {
      "text/html": [
       "<pre style=\"white-space:pre;overflow-x:auto;line-height:normal;font-family:Menlo,'DejaVu Sans Mono',consolas,'Courier New',monospace\"><span style=\"font-weight: bold\">[</span><span style=\"color: #008080; text-decoration-color: #008080; font-weight: bold\">66</span><span style=\"font-weight: bold\">]</span>     stable_current_hard: <span style=\"color: #008080; text-decoration-color: #008080; font-weight: bold\">2.0</span>\n",
       "</pre>\n"
      ],
      "text/plain": [
       "\u001b[1m[\u001b[0m\u001b[1;36m66\u001b[0m\u001b[1m]\u001b[0m     stable_current_hard: \u001b[1;36m2.0\u001b[0m\n"
      ]
     },
     "metadata": {},
     "output_type": "display_data"
    },
    {
     "data": {
      "text/html": [
       "<pre style=\"white-space:pre;overflow-x:auto;line-height:normal;font-family:Menlo,'DejaVu Sans Mono',consolas,'Courier New',monospace\"><span style=\"font-weight: bold\">[</span><span style=\"color: #008080; text-decoration-color: #008080; font-weight: bold\">67</span><span style=\"font-weight: bold\">]</span>     stable_current_soft: <span style=\"color: #008080; text-decoration-color: #008080; font-weight: bold\">4.0</span>\n",
       "</pre>\n"
      ],
      "text/plain": [
       "\u001b[1m[\u001b[0m\u001b[1;36m67\u001b[0m\u001b[1m]\u001b[0m     stable_current_soft: \u001b[1;36m4.0\u001b[0m\n"
      ]
     },
     "metadata": {},
     "output_type": "display_data"
    },
    {
     "data": {
      "text/html": [
       "<pre style=\"white-space:pre;overflow-x:auto;line-height:normal;font-family:Menlo,'DejaVu Sans Mono',consolas,'Courier New',monospace\"><span style=\"font-weight: bold\">[</span><span style=\"color: #008080; text-decoration-color: #008080; font-weight: bold\">68</span><span style=\"font-weight: bold\">]</span>     stable_voltage_hard: <span style=\"color: #008080; text-decoration-color: #008080; font-weight: bold\">2.0</span>\n",
       "</pre>\n"
      ],
      "text/plain": [
       "\u001b[1m[\u001b[0m\u001b[1;36m68\u001b[0m\u001b[1m]\u001b[0m     stable_voltage_hard: \u001b[1;36m2.0\u001b[0m\n"
      ]
     },
     "metadata": {},
     "output_type": "display_data"
    },
    {
     "data": {
      "text/html": [
       "<pre style=\"white-space:pre;overflow-x:auto;line-height:normal;font-family:Menlo,'DejaVu Sans Mono',consolas,'Courier New',monospace\"><span style=\"font-weight: bold\">[</span><span style=\"color: #008080; text-decoration-color: #008080; font-weight: bold\">69</span><span style=\"font-weight: bold\">]</span>     stable_voltage_soft: <span style=\"color: #008080; text-decoration-color: #008080; font-weight: bold\">4.0</span>\n",
       "</pre>\n"
      ],
      "text/plain": [
       "\u001b[1m[\u001b[0m\u001b[1;36m69\u001b[0m\u001b[1m]\u001b[0m     stable_voltage_soft: \u001b[1;36m4.0\u001b[0m\n"
      ]
     },
     "metadata": {},
     "output_type": "display_data"
    },
    {
     "data": {
      "text/html": [
       "<pre style=\"white-space:pre;overflow-x:auto;line-height:normal;font-family:Menlo,'DejaVu Sans Mono',consolas,'Courier New',monospace\">============================= local_instrument.yml =============================\n",
       "</pre>\n"
      ],
      "text/plain": [
       "============================= local_instrument.yml =============================\n"
      ]
     },
     "metadata": {},
     "output_type": "display_data"
    }
   ],
   "source": [
    "head(local_instrument, -1)"
   ]
  },
  {
   "cell_type": "code",
   "execution_count": 12,
   "id": "ad3f03ae-9e1c-4dec-92dd-40219abc370d",
   "metadata": {},
   "outputs": [
    {
     "data": {
      "text/html": [
       "<pre style=\"white-space:pre;overflow-x:auto;line-height:normal;font-family:Menlo,'DejaVu Sans Mono',consolas,'Courier New',monospace\">=============================== maccor_three.txt ===============================\n",
       "</pre>\n"
      ],
      "text/plain": [
       "=============================== maccor_three.txt ===============================\n"
      ]
     },
     "metadata": {},
     "output_type": "display_data"
    },
    {
     "data": {
      "text/html": [
       "<pre style=\"white-space:pre;overflow-x:auto;line-height:normal;font-family:Menlo,'DejaVu Sans Mono',consolas,'Courier New',monospace\"><span style=\"font-weight: bold\">[</span><span style=\"color: #008080; text-decoration-color: #008080; font-weight: bold\">01</span><span style=\"font-weight: bold\">]</span> Today''s Date      <span style=\"color: #008080; text-decoration-color: #008080; font-weight: bold\">03</span>/<span style=\"color: #008080; text-decoration-color: #008080; font-weight: bold\">28</span>/<span style=\"color: #008080; text-decoration-color: #008080; font-weight: bold\">2022</span> <span style=\"color: #00ff00; text-decoration-color: #00ff00; font-weight: bold\">12:50:27</span> PM\n",
       "</pre>\n"
      ],
      "text/plain": [
       "\u001b[1m[\u001b[0m\u001b[1;36m01\u001b[0m\u001b[1m]\u001b[0m Today''s Date      \u001b[1;36m03\u001b[0m/\u001b[1;36m28\u001b[0m/\u001b[1;36m2022\u001b[0m \u001b[1;92m12:50:27\u001b[0m PM\n"
      ]
     },
     "metadata": {},
     "output_type": "display_data"
    },
    {
     "data": {
      "text/html": [
       "<pre style=\"white-space:pre;overflow-x:auto;line-height:normal;font-family:Menlo,'DejaVu Sans Mono',consolas,'Courier New',monospace\"><span style=\"font-weight: bold\">[</span><span style=\"color: #008080; text-decoration-color: #008080; font-weight: bold\">02</span><span style=\"font-weight: bold\">]</span> \n",
       "</pre>\n"
      ],
      "text/plain": [
       "\u001b[1m[\u001b[0m\u001b[1;36m02\u001b[0m\u001b[1m]\u001b[0m \n"
      ]
     },
     "metadata": {},
     "output_type": "display_data"
    },
    {
     "data": {
      "text/html": [
       "<pre style=\"white-space:pre;overflow-x:auto;line-height:normal;font-family:Menlo,'DejaVu Sans Mono',consolas,'Courier New',monospace\"><span style=\"font-weight: bold\">[</span><span style=\"color: #008080; text-decoration-color: #008080; font-weight: bold\">03</span><span style=\"font-weight: bold\">]</span> Date of Test:      <span style=\"color: #008080; text-decoration-color: #008080; font-weight: bold\">08</span>/<span style=\"color: #008080; text-decoration-color: #008080; font-weight: bold\">23</span>/<span style=\"color: #008080; text-decoration-color: #008080; font-weight: bold\">2021</span> <span style=\"color: #00ff00; text-decoration-color: #00ff00; font-weight: bold\">6:04:18</span> PM\n",
       "</pre>\n"
      ],
      "text/plain": [
       "\u001b[1m[\u001b[0m\u001b[1;36m03\u001b[0m\u001b[1m]\u001b[0m Date of Test:      \u001b[1;36m08\u001b[0m/\u001b[1;36m23\u001b[0m/\u001b[1;36m2021\u001b[0m \u001b[1;92m6:04:18\u001b[0m PM\n"
      ]
     },
     "metadata": {},
     "output_type": "display_data"
    },
    {
     "data": {
      "text/html": [
       "<pre style=\"white-space:pre;overflow-x:auto;line-height:normal;font-family:Menlo,'DejaVu Sans Mono',consolas,'Courier New',monospace\"><span style=\"font-weight: bold\">[</span><span style=\"color: #008080; text-decoration-color: #008080; font-weight: bold\">04</span><span style=\"font-weight: bold\">]</span> \n",
       "</pre>\n"
      ],
      "text/plain": [
       "\u001b[1m[\u001b[0m\u001b[1;36m04\u001b[0m\u001b[1m]\u001b[0m \n"
      ]
     },
     "metadata": {},
     "output_type": "display_data"
    },
    {
     "data": {
      "text/html": [
       "<pre style=\"white-space:pre;overflow-x:auto;line-height:normal;font-family:Menlo,'DejaVu Sans Mono',consolas,'Courier New',monospace\"><span style=\"font-weight: bold\">[</span><span style=\"color: #008080; text-decoration-color: #008080; font-weight: bold\">05</span><span style=\"font-weight: bold\">]</span> Rec#       Cyc#    Step    TestTime        StepTime        mAmp-hr mWatt-hr        mAmps   Volts   State   ES \n",
       "DPt Time        Unnamed: <span style=\"color: #008080; text-decoration-color: #008080; font-weight: bold\">12</span>\n",
       "</pre>\n"
      ],
      "text/plain": [
       "\u001b[1m[\u001b[0m\u001b[1;36m05\u001b[0m\u001b[1m]\u001b[0m Rec#       Cyc#    Step    TestTime        StepTime        mAmp-hr mWatt-hr        mAmps   Volts   State   ES \n",
       "DPt Time        Unnamed: \u001b[1;36m12\u001b[0m\n"
      ]
     },
     "metadata": {},
     "output_type": "display_data"
    },
    {
     "data": {
      "text/html": [
       "<pre style=\"white-space:pre;overflow-x:auto;line-height:normal;font-family:Menlo,'DejaVu Sans Mono',consolas,'Courier New',monospace\"><span style=\"font-weight: bold\">[</span><span style=\"color: #008080; text-decoration-color: #008080; font-weight: bold\">06</span><span style=\"font-weight: bold\">]</span> <span style=\"color: #008080; text-decoration-color: #008080; font-weight: bold\">1</span>  <span style=\"color: #008080; text-decoration-color: #008080; font-weight: bold\">0</span>       <span style=\"color: #008080; text-decoration-color: #008080; font-weight: bold\">1</span>         0d <span style=\"color: #00ff00; text-decoration-color: #00ff00; font-weight: bold\">00:00:00</span>.<span style=\"color: #008080; text-decoration-color: #008080; font-weight: bold\">00</span>          0d <span style=\"color: #00ff00; text-decoration-color: #00ff00; font-weight: bold\">00:00:00</span>.<span style=\"color: #008080; text-decoration-color: #008080; font-weight: bold\">00</span>        <span style=\"color: #008080; text-decoration-color: #008080; font-weight: bold\">0.0</span>     <span style=\"color: #008080; text-decoration-color: #008080; font-weight: bold\">0.0</span>     <span style=\"color: #008080; text-decoration-color: #008080; font-weight: bold\">0.0</span>     <span style=\"color: #008080; text-decoration-color: #008080; font-weight: bold\">1853.8186</span>       R  \n",
       "<span style=\"color: #008080; text-decoration-color: #008080; font-weight: bold\">0</span>       <span style=\"color: #008080; text-decoration-color: #008080; font-weight: bold\">08</span>/<span style=\"color: #008080; text-decoration-color: #008080; font-weight: bold\">23</span>/<span style=\"color: #008080; text-decoration-color: #008080; font-weight: bold\">2021</span> <span style=\"color: #00ff00; text-decoration-color: #00ff00; font-weight: bold\">6:04:18</span> PM\n",
       "</pre>\n"
      ],
      "text/plain": [
       "\u001b[1m[\u001b[0m\u001b[1;36m06\u001b[0m\u001b[1m]\u001b[0m \u001b[1;36m1\u001b[0m  \u001b[1;36m0\u001b[0m       \u001b[1;36m1\u001b[0m         0d \u001b[1;92m00:00:00\u001b[0m.\u001b[1;36m00\u001b[0m          0d \u001b[1;92m00:00:00\u001b[0m.\u001b[1;36m00\u001b[0m        \u001b[1;36m0.0\u001b[0m     \u001b[1;36m0.0\u001b[0m     \u001b[1;36m0.0\u001b[0m     \u001b[1;36m1853.8186\u001b[0m       R  \n",
       "\u001b[1;36m0\u001b[0m       \u001b[1;36m08\u001b[0m/\u001b[1;36m23\u001b[0m/\u001b[1;36m2021\u001b[0m \u001b[1;92m6:04:18\u001b[0m PM\n"
      ]
     },
     "metadata": {},
     "output_type": "display_data"
    },
    {
     "data": {
      "text/html": [
       "<pre style=\"white-space:pre;overflow-x:auto;line-height:normal;font-family:Menlo,'DejaVu Sans Mono',consolas,'Courier New',monospace\"><span style=\"font-weight: bold\">[</span><span style=\"color: #008080; text-decoration-color: #008080; font-weight: bold\">07</span><span style=\"font-weight: bold\">]</span> <span style=\"color: #008080; text-decoration-color: #008080; font-weight: bold\">2</span>  <span style=\"color: #008080; text-decoration-color: #008080; font-weight: bold\">0</span>       <span style=\"color: #008080; text-decoration-color: #008080; font-weight: bold\">1</span>         0d <span style=\"color: #00ff00; text-decoration-color: #00ff00; font-weight: bold\">00:01:00</span>.<span style=\"color: #008080; text-decoration-color: #008080; font-weight: bold\">00</span>          0d <span style=\"color: #00ff00; text-decoration-color: #00ff00; font-weight: bold\">00:01:00</span>.<span style=\"color: #008080; text-decoration-color: #008080; font-weight: bold\">00</span>        <span style=\"color: #008080; text-decoration-color: #008080; font-weight: bold\">0.0</span>     <span style=\"color: #008080; text-decoration-color: #008080; font-weight: bold\">0.0</span>     <span style=\"color: #008080; text-decoration-color: #008080; font-weight: bold\">0.0</span>     <span style=\"color: #008080; text-decoration-color: #008080; font-weight: bold\">1853.0556</span>       R  \n",
       "<span style=\"color: #008080; text-decoration-color: #008080; font-weight: bold\">1</span>       <span style=\"color: #008080; text-decoration-color: #008080; font-weight: bold\">08</span>/<span style=\"color: #008080; text-decoration-color: #008080; font-weight: bold\">23</span>/<span style=\"color: #008080; text-decoration-color: #008080; font-weight: bold\">2021</span> <span style=\"color: #00ff00; text-decoration-color: #00ff00; font-weight: bold\">6:05:18</span> PM\n",
       "</pre>\n"
      ],
      "text/plain": [
       "\u001b[1m[\u001b[0m\u001b[1;36m07\u001b[0m\u001b[1m]\u001b[0m \u001b[1;36m2\u001b[0m  \u001b[1;36m0\u001b[0m       \u001b[1;36m1\u001b[0m         0d \u001b[1;92m00:01:00\u001b[0m.\u001b[1;36m00\u001b[0m          0d \u001b[1;92m00:01:00\u001b[0m.\u001b[1;36m00\u001b[0m        \u001b[1;36m0.0\u001b[0m     \u001b[1;36m0.0\u001b[0m     \u001b[1;36m0.0\u001b[0m     \u001b[1;36m1853.0556\u001b[0m       R  \n",
       "\u001b[1;36m1\u001b[0m       \u001b[1;36m08\u001b[0m/\u001b[1;36m23\u001b[0m/\u001b[1;36m2021\u001b[0m \u001b[1;92m6:05:18\u001b[0m PM\n"
      ]
     },
     "metadata": {},
     "output_type": "display_data"
    },
    {
     "data": {
      "text/html": [
       "<pre style=\"white-space:pre;overflow-x:auto;line-height:normal;font-family:Menlo,'DejaVu Sans Mono',consolas,'Courier New',monospace\"><span style=\"font-weight: bold\">[</span><span style=\"color: #008080; text-decoration-color: #008080; font-weight: bold\">08</span><span style=\"font-weight: bold\">]</span> <span style=\"color: #008080; text-decoration-color: #008080; font-weight: bold\">3</span>  <span style=\"color: #008080; text-decoration-color: #008080; font-weight: bold\">0</span>       <span style=\"color: #008080; text-decoration-color: #008080; font-weight: bold\">1</span>         0d <span style=\"color: #00ff00; text-decoration-color: #00ff00; font-weight: bold\">00:02:00</span>.<span style=\"color: #008080; text-decoration-color: #008080; font-weight: bold\">00</span>          0d <span style=\"color: #00ff00; text-decoration-color: #00ff00; font-weight: bold\">00:02:00</span>.<span style=\"color: #008080; text-decoration-color: #008080; font-weight: bold\">00</span>        <span style=\"color: #008080; text-decoration-color: #008080; font-weight: bold\">0.0</span>     <span style=\"color: #008080; text-decoration-color: #008080; font-weight: bold\">0.0</span>     <span style=\"color: #008080; text-decoration-color: #008080; font-weight: bold\">0.0</span>     <span style=\"color: #008080; text-decoration-color: #008080; font-weight: bold\">1853.0556</span>       R  \n",
       "<span style=\"color: #008080; text-decoration-color: #008080; font-weight: bold\">1</span>       <span style=\"color: #008080; text-decoration-color: #008080; font-weight: bold\">08</span>/<span style=\"color: #008080; text-decoration-color: #008080; font-weight: bold\">23</span>/<span style=\"color: #008080; text-decoration-color: #008080; font-weight: bold\">2021</span> <span style=\"color: #00ff00; text-decoration-color: #00ff00; font-weight: bold\">6:06:18</span> PM\n",
       "</pre>\n"
      ],
      "text/plain": [
       "\u001b[1m[\u001b[0m\u001b[1;36m08\u001b[0m\u001b[1m]\u001b[0m \u001b[1;36m3\u001b[0m  \u001b[1;36m0\u001b[0m       \u001b[1;36m1\u001b[0m         0d \u001b[1;92m00:02:00\u001b[0m.\u001b[1;36m00\u001b[0m          0d \u001b[1;92m00:02:00\u001b[0m.\u001b[1;36m00\u001b[0m        \u001b[1;36m0.0\u001b[0m     \u001b[1;36m0.0\u001b[0m     \u001b[1;36m0.0\u001b[0m     \u001b[1;36m1853.0556\u001b[0m       R  \n",
       "\u001b[1;36m1\u001b[0m       \u001b[1;36m08\u001b[0m/\u001b[1;36m23\u001b[0m/\u001b[1;36m2021\u001b[0m \u001b[1;92m6:06:18\u001b[0m PM\n"
      ]
     },
     "metadata": {},
     "output_type": "display_data"
    },
    {
     "data": {
      "text/html": [
       "<pre style=\"white-space:pre;overflow-x:auto;line-height:normal;font-family:Menlo,'DejaVu Sans Mono',consolas,'Courier New',monospace\"><span style=\"font-weight: bold\">[</span><span style=\"color: #008080; text-decoration-color: #008080; font-weight: bold\">09</span><span style=\"font-weight: bold\">]</span> <span style=\"color: #008080; text-decoration-color: #008080; font-weight: bold\">4</span>  <span style=\"color: #008080; text-decoration-color: #008080; font-weight: bold\">0</span>       <span style=\"color: #008080; text-decoration-color: #008080; font-weight: bold\">1</span>         0d <span style=\"color: #00ff00; text-decoration-color: #00ff00; font-weight: bold\">00:03:00</span>.<span style=\"color: #008080; text-decoration-color: #008080; font-weight: bold\">00</span>          0d <span style=\"color: #00ff00; text-decoration-color: #00ff00; font-weight: bold\">00:03:00</span>.<span style=\"color: #008080; text-decoration-color: #008080; font-weight: bold\">00</span>        <span style=\"color: #008080; text-decoration-color: #008080; font-weight: bold\">0.0</span>     <span style=\"color: #008080; text-decoration-color: #008080; font-weight: bold\">0.0</span>     <span style=\"color: #008080; text-decoration-color: #008080; font-weight: bold\">0.0</span>     <span style=\"color: #008080; text-decoration-color: #008080; font-weight: bold\">1853.2082</span>       R  \n",
       "<span style=\"color: #008080; text-decoration-color: #008080; font-weight: bold\">1</span>       <span style=\"color: #008080; text-decoration-color: #008080; font-weight: bold\">08</span>/<span style=\"color: #008080; text-decoration-color: #008080; font-weight: bold\">23</span>/<span style=\"color: #008080; text-decoration-color: #008080; font-weight: bold\">2021</span> <span style=\"color: #00ff00; text-decoration-color: #00ff00; font-weight: bold\">6:07:18</span> PM\n",
       "</pre>\n"
      ],
      "text/plain": [
       "\u001b[1m[\u001b[0m\u001b[1;36m09\u001b[0m\u001b[1m]\u001b[0m \u001b[1;36m4\u001b[0m  \u001b[1;36m0\u001b[0m       \u001b[1;36m1\u001b[0m         0d \u001b[1;92m00:03:00\u001b[0m.\u001b[1;36m00\u001b[0m          0d \u001b[1;92m00:03:00\u001b[0m.\u001b[1;36m00\u001b[0m        \u001b[1;36m0.0\u001b[0m     \u001b[1;36m0.0\u001b[0m     \u001b[1;36m0.0\u001b[0m     \u001b[1;36m1853.2082\u001b[0m       R  \n",
       "\u001b[1;36m1\u001b[0m       \u001b[1;36m08\u001b[0m/\u001b[1;36m23\u001b[0m/\u001b[1;36m2021\u001b[0m \u001b[1;92m6:07:18\u001b[0m PM\n"
      ]
     },
     "metadata": {},
     "output_type": "display_data"
    },
    {
     "data": {
      "text/html": [
       "<pre style=\"white-space:pre;overflow-x:auto;line-height:normal;font-family:Menlo,'DejaVu Sans Mono',consolas,'Courier New',monospace\"><span style=\"font-weight: bold\">[</span><span style=\"color: #008080; text-decoration-color: #008080; font-weight: bold\">10</span><span style=\"font-weight: bold\">]</span> <span style=\"color: #008080; text-decoration-color: #008080; font-weight: bold\">5</span>  <span style=\"color: #008080; text-decoration-color: #008080; font-weight: bold\">0</span>       <span style=\"color: #008080; text-decoration-color: #008080; font-weight: bold\">1</span>         0d <span style=\"color: #00ff00; text-decoration-color: #00ff00; font-weight: bold\">00:04:00</span>.<span style=\"color: #008080; text-decoration-color: #008080; font-weight: bold\">00</span>          0d <span style=\"color: #00ff00; text-decoration-color: #00ff00; font-weight: bold\">00:04:00</span>.<span style=\"color: #008080; text-decoration-color: #008080; font-weight: bold\">00</span>        <span style=\"color: #008080; text-decoration-color: #008080; font-weight: bold\">0.0</span>     <span style=\"color: #008080; text-decoration-color: #008080; font-weight: bold\">0.0</span>     <span style=\"color: #008080; text-decoration-color: #008080; font-weight: bold\">0.0</span>     <span style=\"color: #008080; text-decoration-color: #008080; font-weight: bold\">1853.0556</span>       R  \n",
       "<span style=\"color: #008080; text-decoration-color: #008080; font-weight: bold\">1</span>       <span style=\"color: #008080; text-decoration-color: #008080; font-weight: bold\">08</span>/<span style=\"color: #008080; text-decoration-color: #008080; font-weight: bold\">23</span>/<span style=\"color: #008080; text-decoration-color: #008080; font-weight: bold\">2021</span> <span style=\"color: #00ff00; text-decoration-color: #00ff00; font-weight: bold\">6:08:18</span> PM\n",
       "</pre>\n"
      ],
      "text/plain": [
       "\u001b[1m[\u001b[0m\u001b[1;36m10\u001b[0m\u001b[1m]\u001b[0m \u001b[1;36m5\u001b[0m  \u001b[1;36m0\u001b[0m       \u001b[1;36m1\u001b[0m         0d \u001b[1;92m00:04:00\u001b[0m.\u001b[1;36m00\u001b[0m          0d \u001b[1;92m00:04:00\u001b[0m.\u001b[1;36m00\u001b[0m        \u001b[1;36m0.0\u001b[0m     \u001b[1;36m0.0\u001b[0m     \u001b[1;36m0.0\u001b[0m     \u001b[1;36m1853.0556\u001b[0m       R  \n",
       "\u001b[1;36m1\u001b[0m       \u001b[1;36m08\u001b[0m/\u001b[1;36m23\u001b[0m/\u001b[1;36m2021\u001b[0m \u001b[1;92m6:08:18\u001b[0m PM\n"
      ]
     },
     "metadata": {},
     "output_type": "display_data"
    },
    {
     "data": {
      "text/html": [
       "<pre style=\"white-space:pre;overflow-x:auto;line-height:normal;font-family:Menlo,'DejaVu Sans Mono',consolas,'Courier New',monospace\"><span style=\"font-weight: bold\">[</span><span style=\"color: #008080; text-decoration-color: #008080; font-weight: bold\">11</span><span style=\"font-weight: bold\">]</span> <span style=\"color: #008080; text-decoration-color: #008080; font-weight: bold\">6</span>  <span style=\"color: #008080; text-decoration-color: #008080; font-weight: bold\">0</span>       <span style=\"color: #008080; text-decoration-color: #008080; font-weight: bold\">1</span>         0d <span style=\"color: #00ff00; text-decoration-color: #00ff00; font-weight: bold\">00:05:00</span>.<span style=\"color: #008080; text-decoration-color: #008080; font-weight: bold\">00</span>          0d <span style=\"color: #00ff00; text-decoration-color: #00ff00; font-weight: bold\">00:05:00</span>.<span style=\"color: #008080; text-decoration-color: #008080; font-weight: bold\">00</span>        <span style=\"color: #008080; text-decoration-color: #008080; font-weight: bold\">0.0</span>     <span style=\"color: #008080; text-decoration-color: #008080; font-weight: bold\">0.0</span>     <span style=\"color: #008080; text-decoration-color: #008080; font-weight: bold\">0.0</span>     <span style=\"color: #008080; text-decoration-color: #008080; font-weight: bold\">1853.0556</span>       R  \n",
       "<span style=\"color: #008080; text-decoration-color: #008080; font-weight: bold\">1</span>       <span style=\"color: #008080; text-decoration-color: #008080; font-weight: bold\">08</span>/<span style=\"color: #008080; text-decoration-color: #008080; font-weight: bold\">23</span>/<span style=\"color: #008080; text-decoration-color: #008080; font-weight: bold\">2021</span> <span style=\"color: #00ff00; text-decoration-color: #00ff00; font-weight: bold\">6:09:18</span> PM\n",
       "</pre>\n"
      ],
      "text/plain": [
       "\u001b[1m[\u001b[0m\u001b[1;36m11\u001b[0m\u001b[1m]\u001b[0m \u001b[1;36m6\u001b[0m  \u001b[1;36m0\u001b[0m       \u001b[1;36m1\u001b[0m         0d \u001b[1;92m00:05:00\u001b[0m.\u001b[1;36m00\u001b[0m          0d \u001b[1;92m00:05:00\u001b[0m.\u001b[1;36m00\u001b[0m        \u001b[1;36m0.0\u001b[0m     \u001b[1;36m0.0\u001b[0m     \u001b[1;36m0.0\u001b[0m     \u001b[1;36m1853.0556\u001b[0m       R  \n",
       "\u001b[1;36m1\u001b[0m       \u001b[1;36m08\u001b[0m/\u001b[1;36m23\u001b[0m/\u001b[1;36m2021\u001b[0m \u001b[1;92m6:09:18\u001b[0m PM\n"
      ]
     },
     "metadata": {},
     "output_type": "display_data"
    },
    {
     "data": {
      "text/html": [
       "<pre style=\"white-space:pre;overflow-x:auto;line-height:normal;font-family:Menlo,'DejaVu Sans Mono',consolas,'Courier New',monospace\"><span style=\"font-weight: bold\">[</span><span style=\"color: #008080; text-decoration-color: #008080; font-weight: bold\">12</span><span style=\"font-weight: bold\">]</span> <span style=\"color: #008080; text-decoration-color: #008080; font-weight: bold\">7</span>  <span style=\"color: #008080; text-decoration-color: #008080; font-weight: bold\">0</span>       <span style=\"color: #008080; text-decoration-color: #008080; font-weight: bold\">1</span>         0d <span style=\"color: #00ff00; text-decoration-color: #00ff00; font-weight: bold\">00:06:00</span>.<span style=\"color: #008080; text-decoration-color: #008080; font-weight: bold\">00</span>          0d <span style=\"color: #00ff00; text-decoration-color: #00ff00; font-weight: bold\">00:06:00</span>.<span style=\"color: #008080; text-decoration-color: #008080; font-weight: bold\">00</span>        <span style=\"color: #008080; text-decoration-color: #008080; font-weight: bold\">0.0</span>     <span style=\"color: #008080; text-decoration-color: #008080; font-weight: bold\">0.0</span>     <span style=\"color: #008080; text-decoration-color: #008080; font-weight: bold\">0.0</span>     <span style=\"color: #008080; text-decoration-color: #008080; font-weight: bold\">1853.2082</span>       R  \n",
       "<span style=\"color: #008080; text-decoration-color: #008080; font-weight: bold\">1</span>       <span style=\"color: #008080; text-decoration-color: #008080; font-weight: bold\">08</span>/<span style=\"color: #008080; text-decoration-color: #008080; font-weight: bold\">23</span>/<span style=\"color: #008080; text-decoration-color: #008080; font-weight: bold\">2021</span> <span style=\"color: #00ff00; text-decoration-color: #00ff00; font-weight: bold\">6:10:18</span> PM\n",
       "</pre>\n"
      ],
      "text/plain": [
       "\u001b[1m[\u001b[0m\u001b[1;36m12\u001b[0m\u001b[1m]\u001b[0m \u001b[1;36m7\u001b[0m  \u001b[1;36m0\u001b[0m       \u001b[1;36m1\u001b[0m         0d \u001b[1;92m00:06:00\u001b[0m.\u001b[1;36m00\u001b[0m          0d \u001b[1;92m00:06:00\u001b[0m.\u001b[1;36m00\u001b[0m        \u001b[1;36m0.0\u001b[0m     \u001b[1;36m0.0\u001b[0m     \u001b[1;36m0.0\u001b[0m     \u001b[1;36m1853.2082\u001b[0m       R  \n",
       "\u001b[1;36m1\u001b[0m       \u001b[1;36m08\u001b[0m/\u001b[1;36m23\u001b[0m/\u001b[1;36m2021\u001b[0m \u001b[1;92m6:10:18\u001b[0m PM\n"
      ]
     },
     "metadata": {},
     "output_type": "display_data"
    },
    {
     "data": {
      "text/html": [
       "<pre style=\"white-space:pre;overflow-x:auto;line-height:normal;font-family:Menlo,'DejaVu Sans Mono',consolas,'Courier New',monospace\"><span style=\"font-weight: bold\">[</span><span style=\"color: #008080; text-decoration-color: #008080; font-weight: bold\">13</span><span style=\"font-weight: bold\">]</span> <span style=\"color: #008080; text-decoration-color: #008080; font-weight: bold\">8</span>  <span style=\"color: #008080; text-decoration-color: #008080; font-weight: bold\">0</span>       <span style=\"color: #008080; text-decoration-color: #008080; font-weight: bold\">1</span>         0d <span style=\"color: #00ff00; text-decoration-color: #00ff00; font-weight: bold\">00:07:00</span>.<span style=\"color: #008080; text-decoration-color: #008080; font-weight: bold\">00</span>          0d <span style=\"color: #00ff00; text-decoration-color: #00ff00; font-weight: bold\">00:07:00</span>.<span style=\"color: #008080; text-decoration-color: #008080; font-weight: bold\">00</span>        <span style=\"color: #008080; text-decoration-color: #008080; font-weight: bold\">0.0</span>     <span style=\"color: #008080; text-decoration-color: #008080; font-weight: bold\">0.0</span>     <span style=\"color: #008080; text-decoration-color: #008080; font-weight: bold\">0.0</span>     <span style=\"color: #008080; text-decoration-color: #008080; font-weight: bold\">1853.2082</span>       R  \n",
       "<span style=\"color: #008080; text-decoration-color: #008080; font-weight: bold\">1</span>       <span style=\"color: #008080; text-decoration-color: #008080; font-weight: bold\">08</span>/<span style=\"color: #008080; text-decoration-color: #008080; font-weight: bold\">23</span>/<span style=\"color: #008080; text-decoration-color: #008080; font-weight: bold\">2021</span> <span style=\"color: #00ff00; text-decoration-color: #00ff00; font-weight: bold\">6:11:18</span> PM\n",
       "</pre>\n"
      ],
      "text/plain": [
       "\u001b[1m[\u001b[0m\u001b[1;36m13\u001b[0m\u001b[1m]\u001b[0m \u001b[1;36m8\u001b[0m  \u001b[1;36m0\u001b[0m       \u001b[1;36m1\u001b[0m         0d \u001b[1;92m00:07:00\u001b[0m.\u001b[1;36m00\u001b[0m          0d \u001b[1;92m00:07:00\u001b[0m.\u001b[1;36m00\u001b[0m        \u001b[1;36m0.0\u001b[0m     \u001b[1;36m0.0\u001b[0m     \u001b[1;36m0.0\u001b[0m     \u001b[1;36m1853.2082\u001b[0m       R  \n",
       "\u001b[1;36m1\u001b[0m       \u001b[1;36m08\u001b[0m/\u001b[1;36m23\u001b[0m/\u001b[1;36m2021\u001b[0m \u001b[1;92m6:11:18\u001b[0m PM\n"
      ]
     },
     "metadata": {},
     "output_type": "display_data"
    },
    {
     "data": {
      "text/html": [
       "<pre style=\"white-space:pre;overflow-x:auto;line-height:normal;font-family:Menlo,'DejaVu Sans Mono',consolas,'Courier New',monospace\"><span style=\"font-weight: bold\">[</span><span style=\"color: #008080; text-decoration-color: #008080; font-weight: bold\">14</span><span style=\"font-weight: bold\">]</span> <span style=\"color: #008080; text-decoration-color: #008080; font-weight: bold\">9</span>  <span style=\"color: #008080; text-decoration-color: #008080; font-weight: bold\">0</span>       <span style=\"color: #008080; text-decoration-color: #008080; font-weight: bold\">1</span>         0d <span style=\"color: #00ff00; text-decoration-color: #00ff00; font-weight: bold\">00:08:00</span>.<span style=\"color: #008080; text-decoration-color: #008080; font-weight: bold\">00</span>          0d <span style=\"color: #00ff00; text-decoration-color: #00ff00; font-weight: bold\">00:08:00</span>.<span style=\"color: #008080; text-decoration-color: #008080; font-weight: bold\">00</span>        <span style=\"color: #008080; text-decoration-color: #008080; font-weight: bold\">0.0</span>     <span style=\"color: #008080; text-decoration-color: #008080; font-weight: bold\">0.0</span>     <span style=\"color: #008080; text-decoration-color: #008080; font-weight: bold\">0.0</span>     <span style=\"color: #008080; text-decoration-color: #008080; font-weight: bold\">1852.903</span>        R  \n",
       "<span style=\"color: #008080; text-decoration-color: #008080; font-weight: bold\">1</span>       <span style=\"color: #008080; text-decoration-color: #008080; font-weight: bold\">08</span>/<span style=\"color: #008080; text-decoration-color: #008080; font-weight: bold\">23</span>/<span style=\"color: #008080; text-decoration-color: #008080; font-weight: bold\">2021</span> <span style=\"color: #00ff00; text-decoration-color: #00ff00; font-weight: bold\">6:12:18</span> PM\n",
       "</pre>\n"
      ],
      "text/plain": [
       "\u001b[1m[\u001b[0m\u001b[1;36m14\u001b[0m\u001b[1m]\u001b[0m \u001b[1;36m9\u001b[0m  \u001b[1;36m0\u001b[0m       \u001b[1;36m1\u001b[0m         0d \u001b[1;92m00:08:00\u001b[0m.\u001b[1;36m00\u001b[0m          0d \u001b[1;92m00:08:00\u001b[0m.\u001b[1;36m00\u001b[0m        \u001b[1;36m0.0\u001b[0m     \u001b[1;36m0.0\u001b[0m     \u001b[1;36m0.0\u001b[0m     \u001b[1;36m1852.903\u001b[0m        R  \n",
       "\u001b[1;36m1\u001b[0m       \u001b[1;36m08\u001b[0m/\u001b[1;36m23\u001b[0m/\u001b[1;36m2021\u001b[0m \u001b[1;92m6:12:18\u001b[0m PM\n"
      ]
     },
     "metadata": {},
     "output_type": "display_data"
    },
    {
     "data": {
      "text/html": [
       "<pre style=\"white-space:pre;overflow-x:auto;line-height:normal;font-family:Menlo,'DejaVu Sans Mono',consolas,'Courier New',monospace\"><span style=\"font-weight: bold\">[</span><span style=\"color: #008080; text-decoration-color: #008080; font-weight: bold\">15</span><span style=\"font-weight: bold\">]</span> <span style=\"color: #008080; text-decoration-color: #008080; font-weight: bold\">10</span> <span style=\"color: #008080; text-decoration-color: #008080; font-weight: bold\">0</span>       <span style=\"color: #008080; text-decoration-color: #008080; font-weight: bold\">1</span>         0d <span style=\"color: #00ff00; text-decoration-color: #00ff00; font-weight: bold\">00:09:00</span>.<span style=\"color: #008080; text-decoration-color: #008080; font-weight: bold\">00</span>          0d <span style=\"color: #00ff00; text-decoration-color: #00ff00; font-weight: bold\">00:09:00</span>.<span style=\"color: #008080; text-decoration-color: #008080; font-weight: bold\">00</span>        <span style=\"color: #008080; text-decoration-color: #008080; font-weight: bold\">0.0</span>     <span style=\"color: #008080; text-decoration-color: #008080; font-weight: bold\">0.0</span>     <span style=\"color: #008080; text-decoration-color: #008080; font-weight: bold\">0.0</span>     <span style=\"color: #008080; text-decoration-color: #008080; font-weight: bold\">1853.2082</span>       R  \n",
       "<span style=\"color: #008080; text-decoration-color: #008080; font-weight: bold\">1</span>       <span style=\"color: #008080; text-decoration-color: #008080; font-weight: bold\">08</span>/<span style=\"color: #008080; text-decoration-color: #008080; font-weight: bold\">23</span>/<span style=\"color: #008080; text-decoration-color: #008080; font-weight: bold\">2021</span> <span style=\"color: #00ff00; text-decoration-color: #00ff00; font-weight: bold\">6:13:18</span> PM\n",
       "</pre>\n"
      ],
      "text/plain": [
       "\u001b[1m[\u001b[0m\u001b[1;36m15\u001b[0m\u001b[1m]\u001b[0m \u001b[1;36m10\u001b[0m \u001b[1;36m0\u001b[0m       \u001b[1;36m1\u001b[0m         0d \u001b[1;92m00:09:00\u001b[0m.\u001b[1;36m00\u001b[0m          0d \u001b[1;92m00:09:00\u001b[0m.\u001b[1;36m00\u001b[0m        \u001b[1;36m0.0\u001b[0m     \u001b[1;36m0.0\u001b[0m     \u001b[1;36m0.0\u001b[0m     \u001b[1;36m1853.2082\u001b[0m       R  \n",
       "\u001b[1;36m1\u001b[0m       \u001b[1;36m08\u001b[0m/\u001b[1;36m23\u001b[0m/\u001b[1;36m2021\u001b[0m \u001b[1;92m6:13:18\u001b[0m PM\n"
      ]
     },
     "metadata": {},
     "output_type": "display_data"
    },
    {
     "data": {
      "text/html": [
       "<pre style=\"white-space:pre;overflow-x:auto;line-height:normal;font-family:Menlo,'DejaVu Sans Mono',consolas,'Courier New',monospace\"><span style=\"font-weight: bold\">[</span><span style=\"color: #008080; text-decoration-color: #008080; font-weight: bold\">16</span><span style=\"font-weight: bold\">]</span> <span style=\"color: #008080; text-decoration-color: #008080; font-weight: bold\">11</span> <span style=\"color: #008080; text-decoration-color: #008080; font-weight: bold\">0</span>       <span style=\"color: #008080; text-decoration-color: #008080; font-weight: bold\">1</span>         0d <span style=\"color: #00ff00; text-decoration-color: #00ff00; font-weight: bold\">00:10:00</span>.<span style=\"color: #008080; text-decoration-color: #008080; font-weight: bold\">00</span>          0d <span style=\"color: #00ff00; text-decoration-color: #00ff00; font-weight: bold\">00:10:00</span>.<span style=\"color: #008080; text-decoration-color: #008080; font-weight: bold\">00</span>        <span style=\"color: #008080; text-decoration-color: #008080; font-weight: bold\">0.0</span>     <span style=\"color: #008080; text-decoration-color: #008080; font-weight: bold\">0.0</span>     <span style=\"color: #008080; text-decoration-color: #008080; font-weight: bold\">0.0</span>     <span style=\"color: #008080; text-decoration-color: #008080; font-weight: bold\">1853.0556</span>       R  \n",
       "<span style=\"color: #008080; text-decoration-color: #008080; font-weight: bold\">1</span>       <span style=\"color: #008080; text-decoration-color: #008080; font-weight: bold\">08</span>/<span style=\"color: #008080; text-decoration-color: #008080; font-weight: bold\">23</span>/<span style=\"color: #008080; text-decoration-color: #008080; font-weight: bold\">2021</span> <span style=\"color: #00ff00; text-decoration-color: #00ff00; font-weight: bold\">6:14:18</span> PM\n",
       "</pre>\n"
      ],
      "text/plain": [
       "\u001b[1m[\u001b[0m\u001b[1;36m16\u001b[0m\u001b[1m]\u001b[0m \u001b[1;36m11\u001b[0m \u001b[1;36m0\u001b[0m       \u001b[1;36m1\u001b[0m         0d \u001b[1;92m00:10:00\u001b[0m.\u001b[1;36m00\u001b[0m          0d \u001b[1;92m00:10:00\u001b[0m.\u001b[1;36m00\u001b[0m        \u001b[1;36m0.0\u001b[0m     \u001b[1;36m0.0\u001b[0m     \u001b[1;36m0.0\u001b[0m     \u001b[1;36m1853.0556\u001b[0m       R  \n",
       "\u001b[1;36m1\u001b[0m       \u001b[1;36m08\u001b[0m/\u001b[1;36m23\u001b[0m/\u001b[1;36m2021\u001b[0m \u001b[1;92m6:14:18\u001b[0m PM\n"
      ]
     },
     "metadata": {},
     "output_type": "display_data"
    },
    {
     "data": {
      "text/html": [
       "<pre style=\"white-space:pre;overflow-x:auto;line-height:normal;font-family:Menlo,'DejaVu Sans Mono',consolas,'Courier New',monospace\"><span style=\"font-weight: bold\">[</span><span style=\"color: #008080; text-decoration-color: #008080; font-weight: bold\">17</span><span style=\"font-weight: bold\">]</span> <span style=\"color: #008080; text-decoration-color: #008080; font-weight: bold\">12</span> <span style=\"color: #008080; text-decoration-color: #008080; font-weight: bold\">0</span>       <span style=\"color: #008080; text-decoration-color: #008080; font-weight: bold\">1</span>         0d <span style=\"color: #00ff00; text-decoration-color: #00ff00; font-weight: bold\">00:11:00</span>.<span style=\"color: #008080; text-decoration-color: #008080; font-weight: bold\">00</span>          0d <span style=\"color: #00ff00; text-decoration-color: #00ff00; font-weight: bold\">00:11:00</span>.<span style=\"color: #008080; text-decoration-color: #008080; font-weight: bold\">00</span>        <span style=\"color: #008080; text-decoration-color: #008080; font-weight: bold\">0.0</span>     <span style=\"color: #008080; text-decoration-color: #008080; font-weight: bold\">0.0</span>     <span style=\"color: #008080; text-decoration-color: #008080; font-weight: bold\">0.0</span>     <span style=\"color: #008080; text-decoration-color: #008080; font-weight: bold\">1853.2082</span>       R  \n",
       "<span style=\"color: #008080; text-decoration-color: #008080; font-weight: bold\">1</span>       <span style=\"color: #008080; text-decoration-color: #008080; font-weight: bold\">08</span>/<span style=\"color: #008080; text-decoration-color: #008080; font-weight: bold\">23</span>/<span style=\"color: #008080; text-decoration-color: #008080; font-weight: bold\">2021</span> <span style=\"color: #00ff00; text-decoration-color: #00ff00; font-weight: bold\">6:15:18</span> PM\n",
       "</pre>\n"
      ],
      "text/plain": [
       "\u001b[1m[\u001b[0m\u001b[1;36m17\u001b[0m\u001b[1m]\u001b[0m \u001b[1;36m12\u001b[0m \u001b[1;36m0\u001b[0m       \u001b[1;36m1\u001b[0m         0d \u001b[1;92m00:11:00\u001b[0m.\u001b[1;36m00\u001b[0m          0d \u001b[1;92m00:11:00\u001b[0m.\u001b[1;36m00\u001b[0m        \u001b[1;36m0.0\u001b[0m     \u001b[1;36m0.0\u001b[0m     \u001b[1;36m0.0\u001b[0m     \u001b[1;36m1853.2082\u001b[0m       R  \n",
       "\u001b[1;36m1\u001b[0m       \u001b[1;36m08\u001b[0m/\u001b[1;36m23\u001b[0m/\u001b[1;36m2021\u001b[0m \u001b[1;92m6:15:18\u001b[0m PM\n"
      ]
     },
     "metadata": {},
     "output_type": "display_data"
    },
    {
     "data": {
      "text/html": [
       "<pre style=\"white-space:pre;overflow-x:auto;line-height:normal;font-family:Menlo,'DejaVu Sans Mono',consolas,'Courier New',monospace\"><span style=\"font-weight: bold\">[</span><span style=\"color: #008080; text-decoration-color: #008080; font-weight: bold\">18</span><span style=\"font-weight: bold\">]</span> <span style=\"color: #008080; text-decoration-color: #008080; font-weight: bold\">13</span> <span style=\"color: #008080; text-decoration-color: #008080; font-weight: bold\">0</span>       <span style=\"color: #008080; text-decoration-color: #008080; font-weight: bold\">1</span>         0d <span style=\"color: #00ff00; text-decoration-color: #00ff00; font-weight: bold\">00:12:00</span>.<span style=\"color: #008080; text-decoration-color: #008080; font-weight: bold\">00</span>          0d <span style=\"color: #00ff00; text-decoration-color: #00ff00; font-weight: bold\">00:12:00</span>.<span style=\"color: #008080; text-decoration-color: #008080; font-weight: bold\">00</span>        <span style=\"color: #008080; text-decoration-color: #008080; font-weight: bold\">0.0</span>     <span style=\"color: #008080; text-decoration-color: #008080; font-weight: bold\">0.0</span>     <span style=\"color: #008080; text-decoration-color: #008080; font-weight: bold\">0.0</span>     <span style=\"color: #008080; text-decoration-color: #008080; font-weight: bold\">1853.0556</span>       R  \n",
       "<span style=\"color: #008080; text-decoration-color: #008080; font-weight: bold\">1</span>       <span style=\"color: #008080; text-decoration-color: #008080; font-weight: bold\">08</span>/<span style=\"color: #008080; text-decoration-color: #008080; font-weight: bold\">23</span>/<span style=\"color: #008080; text-decoration-color: #008080; font-weight: bold\">2021</span> <span style=\"color: #00ff00; text-decoration-color: #00ff00; font-weight: bold\">6:16:18</span> PM\n",
       "</pre>\n"
      ],
      "text/plain": [
       "\u001b[1m[\u001b[0m\u001b[1;36m18\u001b[0m\u001b[1m]\u001b[0m \u001b[1;36m13\u001b[0m \u001b[1;36m0\u001b[0m       \u001b[1;36m1\u001b[0m         0d \u001b[1;92m00:12:00\u001b[0m.\u001b[1;36m00\u001b[0m          0d \u001b[1;92m00:12:00\u001b[0m.\u001b[1;36m00\u001b[0m        \u001b[1;36m0.0\u001b[0m     \u001b[1;36m0.0\u001b[0m     \u001b[1;36m0.0\u001b[0m     \u001b[1;36m1853.0556\u001b[0m       R  \n",
       "\u001b[1;36m1\u001b[0m       \u001b[1;36m08\u001b[0m/\u001b[1;36m23\u001b[0m/\u001b[1;36m2021\u001b[0m \u001b[1;92m6:16:18\u001b[0m PM\n"
      ]
     },
     "metadata": {},
     "output_type": "display_data"
    },
    {
     "data": {
      "text/html": [
       "<pre style=\"white-space:pre;overflow-x:auto;line-height:normal;font-family:Menlo,'DejaVu Sans Mono',consolas,'Courier New',monospace\"><span style=\"font-weight: bold\">[</span><span style=\"color: #008080; text-decoration-color: #008080; font-weight: bold\">19</span><span style=\"font-weight: bold\">]</span> <span style=\"color: #008080; text-decoration-color: #008080; font-weight: bold\">14</span> <span style=\"color: #008080; text-decoration-color: #008080; font-weight: bold\">0</span>       <span style=\"color: #008080; text-decoration-color: #008080; font-weight: bold\">1</span>         0d <span style=\"color: #00ff00; text-decoration-color: #00ff00; font-weight: bold\">00:13:00</span>.<span style=\"color: #008080; text-decoration-color: #008080; font-weight: bold\">00</span>          0d <span style=\"color: #00ff00; text-decoration-color: #00ff00; font-weight: bold\">00:13:00</span>.<span style=\"color: #008080; text-decoration-color: #008080; font-weight: bold\">00</span>        <span style=\"color: #008080; text-decoration-color: #008080; font-weight: bold\">0.0</span>     <span style=\"color: #008080; text-decoration-color: #008080; font-weight: bold\">0.0</span>     <span style=\"color: #008080; text-decoration-color: #008080; font-weight: bold\">0.0</span>     <span style=\"color: #008080; text-decoration-color: #008080; font-weight: bold\">1853.2082</span>       R  \n",
       "<span style=\"color: #008080; text-decoration-color: #008080; font-weight: bold\">1</span>       <span style=\"color: #008080; text-decoration-color: #008080; font-weight: bold\">08</span>/<span style=\"color: #008080; text-decoration-color: #008080; font-weight: bold\">23</span>/<span style=\"color: #008080; text-decoration-color: #008080; font-weight: bold\">2021</span> <span style=\"color: #00ff00; text-decoration-color: #00ff00; font-weight: bold\">6:17:18</span> PM\n",
       "</pre>\n"
      ],
      "text/plain": [
       "\u001b[1m[\u001b[0m\u001b[1;36m19\u001b[0m\u001b[1m]\u001b[0m \u001b[1;36m14\u001b[0m \u001b[1;36m0\u001b[0m       \u001b[1;36m1\u001b[0m         0d \u001b[1;92m00:13:00\u001b[0m.\u001b[1;36m00\u001b[0m          0d \u001b[1;92m00:13:00\u001b[0m.\u001b[1;36m00\u001b[0m        \u001b[1;36m0.0\u001b[0m     \u001b[1;36m0.0\u001b[0m     \u001b[1;36m0.0\u001b[0m     \u001b[1;36m1853.2082\u001b[0m       R  \n",
       "\u001b[1;36m1\u001b[0m       \u001b[1;36m08\u001b[0m/\u001b[1;36m23\u001b[0m/\u001b[1;36m2021\u001b[0m \u001b[1;92m6:17:18\u001b[0m PM\n"
      ]
     },
     "metadata": {},
     "output_type": "display_data"
    },
    {
     "data": {
      "text/html": [
       "<pre style=\"white-space:pre;overflow-x:auto;line-height:normal;font-family:Menlo,'DejaVu Sans Mono',consolas,'Courier New',monospace\"><span style=\"font-weight: bold\">[</span><span style=\"color: #008080; text-decoration-color: #008080; font-weight: bold\">20</span><span style=\"font-weight: bold\">]</span> <span style=\"color: #008080; text-decoration-color: #008080; font-weight: bold\">15</span> <span style=\"color: #008080; text-decoration-color: #008080; font-weight: bold\">0</span>       <span style=\"color: #008080; text-decoration-color: #008080; font-weight: bold\">1</span>         0d <span style=\"color: #00ff00; text-decoration-color: #00ff00; font-weight: bold\">00:14:00</span>.<span style=\"color: #008080; text-decoration-color: #008080; font-weight: bold\">00</span>          0d <span style=\"color: #00ff00; text-decoration-color: #00ff00; font-weight: bold\">00:14:00</span>.<span style=\"color: #008080; text-decoration-color: #008080; font-weight: bold\">00</span>        <span style=\"color: #008080; text-decoration-color: #008080; font-weight: bold\">0.0</span>     <span style=\"color: #008080; text-decoration-color: #008080; font-weight: bold\">0.0</span>     <span style=\"color: #008080; text-decoration-color: #008080; font-weight: bold\">0.0</span>     <span style=\"color: #008080; text-decoration-color: #008080; font-weight: bold\">1853.3608</span>       R  \n",
       "<span style=\"color: #008080; text-decoration-color: #008080; font-weight: bold\">1</span>       <span style=\"color: #008080; text-decoration-color: #008080; font-weight: bold\">08</span>/<span style=\"color: #008080; text-decoration-color: #008080; font-weight: bold\">23</span>/<span style=\"color: #008080; text-decoration-color: #008080; font-weight: bold\">2021</span> <span style=\"color: #00ff00; text-decoration-color: #00ff00; font-weight: bold\">6:18:18</span> PM\n",
       "</pre>\n"
      ],
      "text/plain": [
       "\u001b[1m[\u001b[0m\u001b[1;36m20\u001b[0m\u001b[1m]\u001b[0m \u001b[1;36m15\u001b[0m \u001b[1;36m0\u001b[0m       \u001b[1;36m1\u001b[0m         0d \u001b[1;92m00:14:00\u001b[0m.\u001b[1;36m00\u001b[0m          0d \u001b[1;92m00:14:00\u001b[0m.\u001b[1;36m00\u001b[0m        \u001b[1;36m0.0\u001b[0m     \u001b[1;36m0.0\u001b[0m     \u001b[1;36m0.0\u001b[0m     \u001b[1;36m1853.3608\u001b[0m       R  \n",
       "\u001b[1;36m1\u001b[0m       \u001b[1;36m08\u001b[0m/\u001b[1;36m23\u001b[0m/\u001b[1;36m2021\u001b[0m \u001b[1;92m6:18:18\u001b[0m PM\n"
      ]
     },
     "metadata": {},
     "output_type": "display_data"
    },
    {
     "data": {
      "text/html": [
       "<pre style=\"white-space:pre;overflow-x:auto;line-height:normal;font-family:Menlo,'DejaVu Sans Mono',consolas,'Courier New',monospace\">=============================== maccor_three.txt ===============================\n",
       "</pre>\n"
      ],
      "text/plain": [
       "=============================== maccor_three.txt ===============================\n"
      ]
     },
     "metadata": {},
     "output_type": "display_data"
    }
   ],
   "source": [
    "head(p, 20)"
   ]
  },
  {
   "cell_type": "code",
   "execution_count": 13,
   "id": "c5341903-ce1a-43c8-9cc3-e28edaefedcd",
   "metadata": {},
   "outputs": [
    {
     "name": "stdout",
     "output_type": "stream",
     "text": [
      "(cellpy) - running pre-processor: remove_empty_lines\n",
      "(cellpy) - self.sep='\\t', self.skiprows=2, self.header=0, self.encoding='ISO-8859-1', self.decimal='.'\n",
      "(cellpy) - running post-processor: rename_headers\n",
      "Index(['Rec#', 'Cyc#', 'Step', 'TestTime', 'StepTime', 'mAmp-hr', 'mWatt-hr',\n",
      "       'mAmps', 'Volts', 'State', 'ES', 'DPt Time', 'Unnamed: 12'],\n",
      "      dtype='object')\n",
      "(cellpy) - running post-processor: remove_last_if_bad\n",
      "(cellpy) - running post-processor: split_capacity\n",
      "(cellpy) - running post-processor: split_current\n",
      "(cellpy) - running post-processor: set_index\n",
      "(cellpy) - running post-processor: set_cycle_number_not_zero\n",
      "(cellpy) - running post-processor: convert_date_time_to_datetime\n",
      "(cellpy) - running post-processor: convert_step_time_to_timedelta\n",
      "(cellpy) - running post-processor: convert_test_time_to_timedelta\n"
     ]
    }
   ],
   "source": [
    "from cellpy import log\n",
    "\n",
    "c = cellpy.get(p, instrument=local_instrument)"
   ]
  },
  {
   "cell_type": "code",
   "execution_count": 14,
   "id": "11c523e4-8099-44e0-ad05-b491e8ba9d2b",
   "metadata": {},
   "outputs": [
    {
     "data": {
      "image/png": "[encoded data removed]"
     },
     "metadata": {},
     "output_type": "display_data"
    }
   ],
   "source": [
    "plotutils.raw_plot(c, width=1200, height=400)"
   ]
  },
  {
   "cell_type": "code",
   "execution_count": 15,
   "id": "b1b2c4a4-4434-447c-86f7-73f51eb0e6d0",
   "metadata": {},
   "outputs": [
    {
     "data": {
      "image/png": "[encoded data removed]"
     },
     "metadata": {},
     "output_type": "display_data"
    }
   ],
   "source": [
    "plotutils.summary_plot(c, width=1200, height=400)"
   ]
  }
 ],
 "metadata": {
  "kernelspec": {
   "display_name": "cellpy_dev",
   "language": "python",
   "name": "python3"
  },
  "language_info": {
   "codemirror_mode": {
    "name": "ipython",
    "version": 3
   },
   "file_extension": ".py",
   "mimetype": "text/x-python",
   "name": "python",
   "nbconvert_exporter": "python",
   "pygments_lexer": "ipython3",
   "version": "3.11.8"
  }
 },
 "nbformat": 4,
 "nbformat_minor": 5
}
