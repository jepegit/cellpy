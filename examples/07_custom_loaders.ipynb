{
 "cells": [
  {
   "cell_type": "code",
   "execution_count": null,
   "id": "97ebacd7-313f-4ab0-95fb-15e09dab8905",
   "metadata": {},
   "outputs": [],
   "source": [
    "%load_ext autoreload\n",
    "%autoreload 2"
   ]
  },
  {
   "cell_type": "markdown",
   "id": "a8490648-f7d2-4d61-93fa-aabe7d6266d5",
   "metadata": {},
   "source": [
    "# Defining your own custom loaders"
   ]
  },
  {
   "cell_type": "code",
   "execution_count": null,
   "id": "48351e4e-ad03-4590-9d87-460b27ee2223",
   "metadata": {},
   "outputs": [],
   "source": []
  },
  {
   "cell_type": "code",
   "execution_count": 3,
   "id": "68afae4d-7331-46f4-b2eb-e302806cc80d",
   "metadata": {},
   "outputs": [],
   "source": [
    "import pathlib\n",
    "\n",
    "import numpy as np\n",
    "import pandas as pd\n",
    "from rich import print\n",
    "\n",
    "import cellpy\n",
    "from cellpy.utils import example_data, plotutils"
   ]
  },
  {
   "cell_type": "code",
   "execution_count": 4,
   "id": "059d218d-b026-4462-a827-1e13a00a0b5b",
   "metadata": {},
   "outputs": [],
   "source": [
    "# Comment out this when running the notebook locally to get interactive plots\n",
    "import plotly.io as pio\n",
    "pio.renderers.default = \"png\""
   ]
  },
  {
   "cell_type": "markdown",
   "id": "431c4642-33a6-445b-8b18-96c58819ae60",
   "metadata": {},
   "source": [
    "Defining a simple utility-function to get a peek of the file in question:"
   ]
  },
  {
   "cell_type": "code",
   "execution_count": 5,
   "id": "b87db1da-514b-4a74-b3b0-e29aaa8867a8",
   "metadata": {},
   "outputs": [],
   "source": [
    "def head(f, n=5):\n",
    "    print(f\" {f.name} \".center(80, \"-\"))\n",
    "    with open(f) as datafile:\n",
    "        for j in range(n):\n",
    "            line = datafile.readline()\n",
    "            print(f\"[{j+1:02}] {line.strip()}\")\n",
    "        "
   ]
  }
 ],
 "metadata": {
  "kernelspec": {
   "display_name": "cellpy_dev",
   "language": "python",
   "name": "cellpy_dev"
  },
  "language_info": {
   "codemirror_mode": {
    "name": "ipython",
    "version": 3
   },
   "file_extension": ".py",
   "mimetype": "text/x-python",
   "name": "python",
   "nbconvert_exporter": "python",
   "pygments_lexer": "ipython3",
   "version": "3.11.8"
  }
 },
 "nbformat": 4,
 "nbformat_minor": 5
}
