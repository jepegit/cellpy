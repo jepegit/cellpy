{
 "cells": [
  {
   "cell_type": "markdown",
   "metadata": {},
   "source": [
    "# Notebook for cellpy batch processing"
   ]
  },
  {
   "cell_type": "markdown",
   "metadata": {},
   "source": [
    "*You can fill inn the MarkDown cells (the cells without \"numbering\") by double-clicking them. Also remember, press `shift + enter` to execute a cell.*\n",
    "\n",
    "A couple of useful links:  \n",
    " - [How to write MarkDown](https://github.com/adam-p/markdown-here/wiki/Markdown-Cheatsheet#hr)\n",
    " - [Jupyter notebooks](https://jupyter.org/)\n",
    " - [cellpy](https://cellpy.readthedocs.io/en/latest/)"
   ]
  },
  {
   "cell_type": "markdown",
   "metadata": {},
   "source": [
    "### This notebook uses the following packages\n",
    "- python >= 3.9 < 3.12 \n",
    "- cellpy >= 1.0.1\n",
    "- pandas\n",
    "- numpy\n",
    "- matplotlib\n",
    "- plotly"
   ]
  },
  {
   "cell_type": "markdown",
   "metadata": {},
   "source": [
    "# 0. Setting up things properly"
   ]
  },
  {
   "cell_type": "markdown",
   "metadata": {},
   "source": [
    "## 0.1 Installing cellpy\n",
    "For this to work, you will have to have a version of `cellpy` satisfying the criteria in the paragraph above. Use for example `conda` to create and environment and install `cellpy`:\n",
    "\n",
    "```terminal\n",
    "conda create -n cellpy\n",
    "conda activate cellpy\n",
    "conda install -c conda-forge cellpy\n",
    "```ode in the github repository or "
   ]
  },
  {
   "cell_type": "markdown",
   "metadata": {},
   "source": [
    "## 0.2 Make sure you have a properly working config file\n",
    "For `cellpy` to find stuff, it needs to know where to look. A config file exists for this purpose. It is typically located in your home directory (for mac and linux) or in your user directory (for Windows, e.g. `C:\\Users\\username`) and has a name on this form (replacing \"username\" with your real username):\n",
    "\n",
    "```\n",
    ".cellpy_prms_username.conf\n",
    "```\n",
    "\n",
    "You can get help from the `cellpy` cli-tool for making one for you:\n",
    "\n",
    "```terminal\n",
    "cellpy setup\n",
    "```\n",
    "\n",
    "The file format is YAML (be aware that it cares about white spaces). The most important settings for this notebook are probably the `Paths`. Make sure they make sense (and that both the paths and the db_path filename exist) and edit it if necessary.\n",
    "\n",
    "Here is how a typical file (at least the top of it) looks like:\n",
    "\n",
    "```yaml\n",
    "Paths:\n",
    "  outdatadir: cellpy_data/out\n",
    "  rawdatadir: cellpy_data/raw\n",
    "  cellpydatadir: cellpy_data/cellpyfiles\n",
    "  db_path: cellpy_data/db\n",
    "  filelogdir: cellpy_data/logs\n",
    "  examplesdir: cellpy_data/examples\n",
    "  notebookdir: cellpy_data/notebooks\n",
    "  templatedir: cellpy_data/templates\n",
    "  batchfiledir: cellpy_data/batchfiles\n",
    "  instrumentdir: cellpy_data/instruments\n",
    "  db_filename: cellpy_db.xlsx\n",
    "  env_file: .env_cellpy\n",
    "FileNames:\n",
    "  file_name_format: YYYYMMDD_[NAME]EEE_CC_TT_RR\n",
    "  raw_extension: res\n",
    "  reg_exp:\n",
    "  sub_folders: true\n",
    "  ...\n",
    "```"
   ]
  },
  {
   "cell_type": "markdown",
   "metadata": {},
   "source": [
    "## 0.3 Database file\n",
    "This notebook uses the `cellpy` `batch` utility. For it to work properly (or at all) you will have to provide it with a database. You can choose to implement a database and a loader your self. Currently, `cellpy` ships with a very simple database solution that hardly justifies its name as a database. It reads an excel-file where the first row acts as column headers, the second provides the type (*e.g.* string, bool, etc), and the rest provides the necessary information for each of the cells (one row pr. cell).\n",
    "\n",
    "A sample excel file (\"db-file\") is provided with this example. You will need fill inn values manually, one row for each cell you want to load. Then you will have to put it in the database folder (as defined in your config file where it says `db_file:` in the `Paths`-section). The name of the file must also be the same as defined in the config-file (`db_filename:`, *i.e* `cellpy_db.xlsx` in the example config file snippet above).\n",
    "\n",
    "When `cellpy` reads the file, it uses the batch column (see below) to select which rows (*i.e.* cells) to load. For example, if the \"b01\" batch column is the one you tell `cellpy` to use and you provide it with the name \"casandras_experiment\", it will only select the rows that has \"casandras_experiment\" in the \"b01\" column. You provide `cellpy` with the \"lookup\" name when you issue the `batch.init` command, for example:\n",
    "\n",
    "```python\n",
    "b = batch.init(\"paper01\", \"cool_project\", batch_col=\"b01\")\n",
    "```\n",
    "\n",
    "You must always have the columns colored green filled out. And make sure that the `id` column (the first one in the example xlsx file) has a unique integer for each row (it is used as a \"key\" when looking up stuff from the file)."
   ]
  },
  {
   "cell_type": "markdown",
   "metadata": {},
   "source": [
    "## 0.4 Files to read\n",
    "Make sure that the names of your experiment-files (for example your .res files) are on the form `date_something_that_describes_the_cell.res` because this is the name-format supported at the moment (this is not strictly true, but just to be on the safe side...).\n",
    "\n",
    "OK, thats all for now. Have a look at the source code in the github repository or the documentation for more info."
   ]
  },
  {
   "cell_type": "markdown",
   "metadata": {},
   "source": [
    "# 1. Key information about the current experiment\n",
    "**Experimental-id:** xxx  \n",
    "**Short-name:** xxx  \n",
    "**Project:** project name  \n",
    "**By:** your name  \n",
    "**Date:** xx.xx.xxxx"
   ]
  },
  {
   "cell_type": "markdown",
   "metadata": {},
   "source": [
    "# 2. Short summary of the experiment before processing\n",
    "It is often helpful to formulate what you wanted to achieve with your experiment before actually going into depth of the data. I believe that it does not make you \"biased\" when processing your data, but instead sharpens your mind and motivates you to look more closely on your results. I might be wrong, off course. Then just skip filling in this part.\n",
    "### Main purpose\n",
    "(*State the main hypothesis for the current set of experiment*)\n",
    "### Expected outcome\n",
    "(*What do you expect to find out? What kind of tests did you perform?*)\n",
    "### Special considerations\n",
    "(*State if there are any special considerations for this experiment*)"
   ]
  },
  {
   "cell_type": "markdown",
   "metadata": {},
   "source": [
    "# 3. Processing data"
   ]
  },
  {
   "cell_type": "markdown",
   "metadata": {},
   "source": [
    "### Setting up everything"
   ]
  },
  {
   "cell_type": "code",
   "execution_count": 1,
   "metadata": {},
   "outputs": [],
   "source": [
    "import numpy as np\n",
    "import matplotlib.pyplot as plt\n",
    "import plotly.express as px\n",
    "from rich import print\n",
    "\n",
    "import cellpy\n",
    "from cellpy import prms\n",
    "from cellpy import prmreader\n",
    "from cellpy.utils import batch, collectors\n",
    "\n",
    "%matplotlib inline"
   ]
  },
  {
   "cell_type": "code",
   "execution_count": 2,
   "metadata": {},
   "outputs": [],
   "source": [
    "# # Comment out this when running the notebook locally:\n",
    "# import plotly.io as pio\n",
    "# pio.renderers.default = \"png\""
   ]
  },
  {
   "cell_type": "code",
   "execution_count": 3,
   "metadata": {},
   "outputs": [],
   "source": [
    "# # Uncomment this and run for checking your cellpy parameters.\n",
    "# prmreader.info()"
   ]
  },
  {
   "cell_type": "code",
   "execution_count": 4,
   "metadata": {},
   "outputs": [],
   "source": [
    "# Overriding some of the configuration parameters\n",
    "prms.Paths.db_path = \".\"\n",
    "prms.Paths.db_filename = \"cellpy_db.xlsx\"\n",
    "prms.Paths.rawdatadir = \"data/raw\"\n",
    "prms.Paths.cellpydatadir = \"data/raw/cellpyfiles\"\n",
    "prms.Paths.cellpydatadir = \"out\""
   ]
  },
  {
   "cell_type": "markdown",
   "metadata": {},
   "source": [
    "### Creating pages and initialise the cellpy batch object\n",
    "If you need to create Journal Pages, please provide appropriate names for the project and the experiment to allow `cellpy` to build the pages."
   ]
  },
  {
   "cell_type": "code",
   "execution_count": 5,
   "metadata": {},
   "outputs": [],
   "source": [
    "# Please fill in here\n",
    "project = \"cool_project\"\n",
    "name = \"paper01\"\n",
    "batch_col = \"b01\""
   ]
  },
  {
   "cell_type": "markdown",
   "metadata": {},
   "source": [
    "#### Initialisation"
   ]
  },
  {
   "cell_type": "code",
   "execution_count": 6,
   "metadata": {},
   "outputs": [
    {
     "data": {
      "text/html": [
       "<pre style=\"white-space:pre;overflow-x:auto;line-height:normal;font-family:Menlo,'DejaVu Sans Mono',consolas,'Courier New',monospace\">=========================== INITIALISATION OF BATCH ============================\n",
       "</pre>\n"
      ],
      "text/plain": [
       "=========================== INITIALISATION OF BATCH ============================\n"
      ]
     },
     "metadata": {},
     "output_type": "display_data"
    }
   ],
   "source": [
    "print(\" INITIALISATION OF BATCH \".center(80, \"=\"))\n",
    "b = batch.init(name, project, batch_col=batch_col)"
   ]
  },
  {
   "cell_type": "markdown",
   "metadata": {},
   "source": [
    "#### Set parameters"
   ]
  },
  {
   "cell_type": "code",
   "execution_count": 7,
   "metadata": {},
   "outputs": [],
   "source": [
    "# setting some prms\n",
    "b.experiment.export_raw = False\n",
    "b.experiment.export_cycles = False\n",
    "b.experiment.export_ica = False\n",
    "b.experiment.force_raw = False"
   ]
  },
  {
   "cell_type": "markdown",
   "metadata": {},
   "source": [
    "#### Run"
   ]
  },
  {
   "cell_type": "code",
   "execution_count": 8,
   "metadata": {},
   "outputs": [],
   "source": [
    "# load info from your db and write the journal pages\n",
    "b.create_journal()"
   ]
  },
  {
   "cell_type": "code",
   "execution_count": 9,
   "metadata": {},
   "outputs": [],
   "source": [
    "# create the apropriate folders\n",
    "b.paginate()"
   ]
  },
  {
   "cell_type": "code",
   "execution_count": 10,
   "metadata": {},
   "outputs": [
    {
     "data": {
      "text/html": [
       "<div>\n",
       "<style scoped>\n",
       "    .dataframe tbody tr th:only-of-type {\n",
       "        vertical-align: middle;\n",
       "    }\n",
       "\n",
       "    .dataframe tbody tr th {\n",
       "        vertical-align: top;\n",
       "    }\n",
       "\n",
       "    .dataframe thead th {\n",
       "        text-align: right;\n",
       "    }\n",
       "</style>\n",
       "<table border=\"1\" class=\"dataframe\">\n",
       "  <thead>\n",
       "    <tr style=\"text-align: right;\">\n",
       "      <th></th>\n",
       "      <th>argument</th>\n",
       "      <th>mass</th>\n",
       "      <th>total_mass</th>\n",
       "      <th>loading</th>\n",
       "      <th>nom_cap</th>\n",
       "      <th>area</th>\n",
       "      <th>experiment</th>\n",
       "      <th>fixed</th>\n",
       "      <th>label</th>\n",
       "      <th>cell_type</th>\n",
       "      <th>instrument</th>\n",
       "      <th>raw_file_names</th>\n",
       "      <th>cellpy_file_name</th>\n",
       "      <th>comment</th>\n",
       "      <th>group</th>\n",
       "      <th>sub_group</th>\n",
       "    </tr>\n",
       "    <tr>\n",
       "      <th>filename</th>\n",
       "      <th></th>\n",
       "      <th></th>\n",
       "      <th></th>\n",
       "      <th></th>\n",
       "      <th></th>\n",
       "      <th></th>\n",
       "      <th></th>\n",
       "      <th></th>\n",
       "      <th></th>\n",
       "      <th></th>\n",
       "      <th></th>\n",
       "      <th></th>\n",
       "      <th></th>\n",
       "      <th></th>\n",
       "      <th></th>\n",
       "      <th></th>\n",
       "    </tr>\n",
       "  </thead>\n",
       "  <tbody>\n",
       "    <tr>\n",
       "      <th>20180418_sf033_2_cc</th>\n",
       "      <td>None</td>\n",
       "      <td>0.337149</td>\n",
       "      <td>0.56</td>\n",
       "      <td>0.190787</td>\n",
       "      <td>3118.817466</td>\n",
       "      <td>1.767146</td>\n",
       "      <td>cycling</td>\n",
       "      <td>0</td>\n",
       "      <td>sf033_2</td>\n",
       "      <td>anode</td>\n",
       "      <td>arbin_res</td>\n",
       "      <td>[data/raw\\20180418_sf033_2_cc_01.res]</td>\n",
       "      <td>out/20180418_sf033_2_cc.h5</td>\n",
       "      <td>SF12 Filter D micro-slurry</td>\n",
       "      <td>1</td>\n",
       "      <td>1</td>\n",
       "    </tr>\n",
       "    <tr>\n",
       "      <th>20180418_sf033_3_cc</th>\n",
       "      <td>None</td>\n",
       "      <td>0.343169</td>\n",
       "      <td>0.57</td>\n",
       "      <td>0.194194</td>\n",
       "      <td>3118.817466</td>\n",
       "      <td>1.767146</td>\n",
       "      <td>cycling</td>\n",
       "      <td>0</td>\n",
       "      <td>sf033_3</td>\n",
       "      <td>anode</td>\n",
       "      <td>arbin_res</td>\n",
       "      <td>[data/raw\\20180418_sf033_3_cc_01.res]</td>\n",
       "      <td>out/20180418_sf033_3_cc.h5</td>\n",
       "      <td>SF12 Filter D micro-slurry</td>\n",
       "      <td>1</td>\n",
       "      <td>2</td>\n",
       "    </tr>\n",
       "    <tr>\n",
       "      <th>20180418_sf033_4_cc</th>\n",
       "      <td>None</td>\n",
       "      <td>0.288984</td>\n",
       "      <td>0.48</td>\n",
       "      <td>0.163532</td>\n",
       "      <td>3118.817466</td>\n",
       "      <td>1.767146</td>\n",
       "      <td>cycling</td>\n",
       "      <td>0</td>\n",
       "      <td>sf033_4</td>\n",
       "      <td>anode</td>\n",
       "      <td>arbin_res</td>\n",
       "      <td>[data/raw\\20180418_sf033_4_cc_01.res]</td>\n",
       "      <td>out/20180418_sf033_4_cc.h5</td>\n",
       "      <td>SF12 Filter D micro-slurry</td>\n",
       "      <td>1</td>\n",
       "      <td>3</td>\n",
       "    </tr>\n",
       "    <tr>\n",
       "      <th>20180418_sf033_5_cc</th>\n",
       "      <td>None</td>\n",
       "      <td>0.295005</td>\n",
       "      <td>0.49</td>\n",
       "      <td>0.166939</td>\n",
       "      <td>3118.817466</td>\n",
       "      <td>1.767146</td>\n",
       "      <td>cycling</td>\n",
       "      <td>0</td>\n",
       "      <td>sf033_5</td>\n",
       "      <td>anode</td>\n",
       "      <td>arbin_res</td>\n",
       "      <td>[data/raw\\20180418_sf033_5_cc_01.res]</td>\n",
       "      <td>out/20180418_sf033_5_cc.h5</td>\n",
       "      <td>SF12 Filter D micro-slurry</td>\n",
       "      <td>1</td>\n",
       "      <td>4</td>\n",
       "    </tr>\n",
       "    <tr>\n",
       "      <th>20180420_sf036_2_cc</th>\n",
       "      <td>None</td>\n",
       "      <td>0.572383</td>\n",
       "      <td>0.95</td>\n",
       "      <td>0.323902</td>\n",
       "      <td>3122.348698</td>\n",
       "      <td>1.767146</td>\n",
       "      <td>cycling</td>\n",
       "      <td>0</td>\n",
       "      <td>sf036_2</td>\n",
       "      <td>anode</td>\n",
       "      <td>arbin_res</td>\n",
       "      <td>[data/raw\\20180420_sf036_2_cc_01.res]</td>\n",
       "      <td>out/20180420_sf036_2_cc.h5</td>\n",
       "      <td>SF12 Filter 1 micro-slurry</td>\n",
       "      <td>2</td>\n",
       "      <td>1</td>\n",
       "    </tr>\n",
       "    <tr>\n",
       "      <th>20180420_sf036_3_cc</th>\n",
       "      <td>None</td>\n",
       "      <td>0.716985</td>\n",
       "      <td>1.19</td>\n",
       "      <td>0.405730</td>\n",
       "      <td>3122.348698</td>\n",
       "      <td>1.767146</td>\n",
       "      <td>cycling</td>\n",
       "      <td>0</td>\n",
       "      <td>sf036_3</td>\n",
       "      <td>anode</td>\n",
       "      <td>arbin_res</td>\n",
       "      <td>[data/raw\\20180420_sf036_3_cc_01.res]</td>\n",
       "      <td>out/20180420_sf036_3_cc.h5</td>\n",
       "      <td>SF12 Filter 1 micro-slurry</td>\n",
       "      <td>2</td>\n",
       "      <td>2</td>\n",
       "    </tr>\n",
       "    <tr>\n",
       "      <th>20180420_sf036_4_cc</th>\n",
       "      <td>None</td>\n",
       "      <td>0.584433</td>\n",
       "      <td>0.97</td>\n",
       "      <td>0.330721</td>\n",
       "      <td>3122.348698</td>\n",
       "      <td>1.767146</td>\n",
       "      <td>cycling</td>\n",
       "      <td>0</td>\n",
       "      <td>sf036_4</td>\n",
       "      <td>anode</td>\n",
       "      <td>arbin_res</td>\n",
       "      <td>[data/raw\\20180420_sf036_4_cc_01.res]</td>\n",
       "      <td>out/20180420_sf036_4_cc.h5</td>\n",
       "      <td>SF12 Filter 1 micro-slurry</td>\n",
       "      <td>2</td>\n",
       "      <td>3</td>\n",
       "    </tr>\n",
       "  </tbody>\n",
       "</table>\n",
       "</div>"
      ],
      "text/plain": [
       "                    argument      mass  total_mass   loading      nom_cap  \\\n",
       "filename                                                                    \n",
       "20180418_sf033_2_cc     None  0.337149        0.56  0.190787  3118.817466   \n",
       "20180418_sf033_3_cc     None  0.343169        0.57  0.194194  3118.817466   \n",
       "20180418_sf033_4_cc     None  0.288984        0.48  0.163532  3118.817466   \n",
       "20180418_sf033_5_cc     None  0.295005        0.49  0.166939  3118.817466   \n",
       "20180420_sf036_2_cc     None  0.572383        0.95  0.323902  3122.348698   \n",
       "20180420_sf036_3_cc     None  0.716985        1.19  0.405730  3122.348698   \n",
       "20180420_sf036_4_cc     None  0.584433        0.97  0.330721  3122.348698   \n",
       "\n",
       "                         area experiment  fixed    label cell_type instrument  \\\n",
       "filename                                                                        \n",
       "20180418_sf033_2_cc  1.767146    cycling      0  sf033_2     anode  arbin_res   \n",
       "20180418_sf033_3_cc  1.767146    cycling      0  sf033_3     anode  arbin_res   \n",
       "20180418_sf033_4_cc  1.767146    cycling      0  sf033_4     anode  arbin_res   \n",
       "20180418_sf033_5_cc  1.767146    cycling      0  sf033_5     anode  arbin_res   \n",
       "20180420_sf036_2_cc  1.767146    cycling      0  sf036_2     anode  arbin_res   \n",
       "20180420_sf036_3_cc  1.767146    cycling      0  sf036_3     anode  arbin_res   \n",
       "20180420_sf036_4_cc  1.767146    cycling      0  sf036_4     anode  arbin_res   \n",
       "\n",
       "                                            raw_file_names  \\\n",
       "filename                                                     \n",
       "20180418_sf033_2_cc  [data/raw\\20180418_sf033_2_cc_01.res]   \n",
       "20180418_sf033_3_cc  [data/raw\\20180418_sf033_3_cc_01.res]   \n",
       "20180418_sf033_4_cc  [data/raw\\20180418_sf033_4_cc_01.res]   \n",
       "20180418_sf033_5_cc  [data/raw\\20180418_sf033_5_cc_01.res]   \n",
       "20180420_sf036_2_cc  [data/raw\\20180420_sf036_2_cc_01.res]   \n",
       "20180420_sf036_3_cc  [data/raw\\20180420_sf036_3_cc_01.res]   \n",
       "20180420_sf036_4_cc  [data/raw\\20180420_sf036_4_cc_01.res]   \n",
       "\n",
       "                               cellpy_file_name                     comment  \\\n",
       "filename                                                                      \n",
       "20180418_sf033_2_cc  out/20180418_sf033_2_cc.h5  SF12 Filter D micro-slurry   \n",
       "20180418_sf033_3_cc  out/20180418_sf033_3_cc.h5  SF12 Filter D micro-slurry   \n",
       "20180418_sf033_4_cc  out/20180418_sf033_4_cc.h5  SF12 Filter D micro-slurry   \n",
       "20180418_sf033_5_cc  out/20180418_sf033_5_cc.h5  SF12 Filter D micro-slurry   \n",
       "20180420_sf036_2_cc  out/20180420_sf036_2_cc.h5  SF12 Filter 1 micro-slurry   \n",
       "20180420_sf036_3_cc  out/20180420_sf036_3_cc.h5  SF12 Filter 1 micro-slurry   \n",
       "20180420_sf036_4_cc  out/20180420_sf036_4_cc.h5  SF12 Filter 1 micro-slurry   \n",
       "\n",
       "                     group  sub_group  \n",
       "filename                               \n",
       "20180418_sf033_2_cc      1          1  \n",
       "20180418_sf033_3_cc      1          2  \n",
       "20180418_sf033_4_cc      1          3  \n",
       "20180418_sf033_5_cc      1          4  \n",
       "20180420_sf036_2_cc      2          1  \n",
       "20180420_sf036_3_cc      2          2  \n",
       "20180420_sf036_4_cc      2          3  "
      ]
     },
     "execution_count": 10,
     "metadata": {},
     "output_type": "execute_result"
    }
   ],
   "source": [
    "# let's have a look at what we got (you can also make this dataframe yourself without loading from the .xlsx file)\n",
    "b.pages"
   ]
  },
  {
   "cell_type": "code",
   "execution_count": 11,
   "metadata": {},
   "outputs": [
    {
     "data": {
      "application/vnd.jupyter.widget-view+json": {
       "model_id": "",
       "version_major": 2,
       "version_minor": 0
      },
      "text/plain": [
       "  0%|          | 0/7 [00:00<?, ?it/s]"
      ]
     },
     "metadata": {},
     "output_type": "display_data"
    }
   ],
   "source": [
    "# load the data (and save .csv-files if you have set export_(raw/cycles/ica) = True)\n",
    "# (this might take some time)\n",
    "b.update()"
   ]
  },
  {
   "cell_type": "markdown",
   "metadata": {},
   "source": [
    "# 4. Looking at the data"
   ]
  },
  {
   "cell_type": "code",
   "execution_count": 12,
   "metadata": {},
   "outputs": [
    {
     "ename": "AttributeError",
     "evalue": "'NoneType' object has no attribute 'show'",
     "output_type": "error",
     "traceback": [
      "\u001b[1;31m---------------------------------------------------------------------------\u001b[0m",
      "\u001b[1;31mAttributeError\u001b[0m                            Traceback (most recent call last)",
      "Cell \u001b[1;32mIn[12], line 2\u001b[0m\n\u001b[0;32m      1\u001b[0m \u001b[38;5;66;03m# Plot the charge capacity and the C.E. (and resistance) vs. cycle number (standard plot)\u001b[39;00m\n\u001b[1;32m----> 2\u001b[0m \u001b[43mb\u001b[49m\u001b[38;5;241;43m.\u001b[39;49m\u001b[43mplot\u001b[49m\u001b[43m(\u001b[49m\u001b[43mrate\u001b[49m\u001b[38;5;241;43m=\u001b[39;49m\u001b[38;5;28;43;01mTrue\u001b[39;49;00m\u001b[43m)\u001b[49m\n",
      "File \u001b[1;32mC:\\scripting\\cellpy\\cellpy\\utils\\batch.py:1115\u001b[0m, in \u001b[0;36mBatch.plot\u001b[1;34m(self, backend, reload_data, **kwargs)\u001b[0m\n\u001b[0;32m   1109\u001b[0m     \u001b[38;5;66;03m# 1: summary_plotting_engine\u001b[39;00m\n\u001b[0;32m   1110\u001b[0m     \u001b[38;5;66;03m# 2:   _preparing_data_and_plotting_legacy\u001b[39;00m\n\u001b[0;32m   1111\u001b[0m     \u001b[38;5;66;03m# 3:   _plotting_data_legacy\u001b[39;00m\n\u001b[0;32m   1112\u001b[0m     \u001b[38;5;66;03m# 4:   plot_cycle_life_summary_[backend]\u001b[39;00m\n\u001b[0;32m   1114\u001b[0m \u001b[38;5;28;01melif\u001b[39;00m backend \u001b[38;5;241m==\u001b[39m \u001b[38;5;124m\"\u001b[39m\u001b[38;5;124mplotly\u001b[39m\u001b[38;5;124m\"\u001b[39m:\n\u001b[1;32m-> 1115\u001b[0m     \u001b[38;5;28;43mself\u001b[39;49m\u001b[38;5;241;43m.\u001b[39;49m\u001b[43mplotter\u001b[49m\u001b[38;5;241;43m.\u001b[39;49m\u001b[43mdo\u001b[49m\u001b[43m(\u001b[49m\u001b[38;5;241;43m*\u001b[39;49m\u001b[38;5;241;43m*\u001b[39;49m\u001b[43mkwargs\u001b[49m\u001b[43m)\u001b[49m\n\u001b[0;32m   1117\u001b[0m \u001b[38;5;28;01melif\u001b[39;00m backend \u001b[38;5;241m==\u001b[39m \u001b[38;5;124m\"\u001b[39m\u001b[38;5;124mseaborn\u001b[39m\u001b[38;5;124m\"\u001b[39m:\n\u001b[0;32m   1118\u001b[0m     \u001b[38;5;28mself\u001b[39m\u001b[38;5;241m.\u001b[39mplotter\u001b[38;5;241m.\u001b[39mdo(\u001b[38;5;241m*\u001b[39m\u001b[38;5;241m*\u001b[39mkwargs)\n",
      "File \u001b[1;32mC:\\scripting\\cellpy\\cellpy\\utils\\batch_tools\\batch_core.py:138\u001b[0m, in \u001b[0;36mDoer.do\u001b[1;34m(self, **kwargs)\u001b[0m\n\u001b[0;32m    136\u001b[0m \u001b[38;5;28mself\u001b[39m\u001b[38;5;241m.\u001b[39mempty_the_farms()\n\u001b[0;32m    137\u001b[0m logging\u001b[38;5;241m.\u001b[39mdebug(\u001b[38;5;124mf\u001b[39m\u001b[38;5;124m\"\u001b[39m\u001b[38;5;124mrunning - \u001b[39m\u001b[38;5;132;01m{\u001b[39;00m\u001b[38;5;28mstr\u001b[39m(engine)\u001b[38;5;132;01m}\u001b[39;00m\u001b[38;5;124m\"\u001b[39m)\n\u001b[1;32m--> 138\u001b[0m \u001b[38;5;28;43mself\u001b[39;49m\u001b[38;5;241;43m.\u001b[39;49m\u001b[43mrun_engine\u001b[49m\u001b[43m(\u001b[49m\u001b[43mengine\u001b[49m\u001b[43m,\u001b[49m\u001b[43m \u001b[49m\u001b[38;5;241;43m*\u001b[39;49m\u001b[38;5;241;43m*\u001b[39;49m\u001b[43mkwargs\u001b[49m\u001b[43m)\u001b[49m\n\u001b[0;32m    140\u001b[0m \u001b[38;5;28;01mfor\u001b[39;00m dumper \u001b[38;5;129;01min\u001b[39;00m \u001b[38;5;28mself\u001b[39m\u001b[38;5;241m.\u001b[39mdumpers:\n\u001b[0;32m    141\u001b[0m     logging\u001b[38;5;241m.\u001b[39mdebug(\u001b[38;5;124mf\u001b[39m\u001b[38;5;124m\"\u001b[39m\u001b[38;5;124mexporting - \u001b[39m\u001b[38;5;132;01m{\u001b[39;00m\u001b[38;5;28mstr\u001b[39m(dumper)\u001b[38;5;132;01m}\u001b[39;00m\u001b[38;5;124m\"\u001b[39m)\n",
      "File \u001b[1;32mC:\\scripting\\cellpy\\cellpy\\utils\\batch_tools\\batch_plotters.py:1358\u001b[0m, in \u001b[0;36mCyclingSummaryPlotter.run_engine\u001b[1;34m(self, engine, **kwargs)\u001b[0m\n\u001b[0;32m   1356\u001b[0m \u001b[38;5;28;01mif\u001b[39;00m \u001b[38;5;28mself\u001b[39m\u001b[38;5;241m.\u001b[39mreset_farms:\n\u001b[0;32m   1357\u001b[0m     \u001b[38;5;28mself\u001b[39m\u001b[38;5;241m.\u001b[39mfarms \u001b[38;5;241m=\u001b[39m []\n\u001b[1;32m-> 1358\u001b[0m \u001b[38;5;28mself\u001b[39m\u001b[38;5;241m.\u001b[39mfarms, \u001b[38;5;28mself\u001b[39m\u001b[38;5;241m.\u001b[39mbarn \u001b[38;5;241m=\u001b[39m \u001b[43mengine\u001b[49m\u001b[43m(\u001b[49m\n\u001b[0;32m   1359\u001b[0m \u001b[43m    \u001b[49m\u001b[43mexperiments\u001b[49m\u001b[38;5;241;43m=\u001b[39;49m\u001b[38;5;28;43mself\u001b[39;49m\u001b[38;5;241;43m.\u001b[39;49m\u001b[43mexperiments\u001b[49m\u001b[43m,\u001b[49m\u001b[43m \u001b[49m\u001b[43mfarms\u001b[49m\u001b[38;5;241;43m=\u001b[39;49m\u001b[38;5;28;43mself\u001b[39;49m\u001b[38;5;241;43m.\u001b[39;49m\u001b[43mfarms\u001b[49m\u001b[43m,\u001b[49m\u001b[43m \u001b[49m\u001b[38;5;241;43m*\u001b[39;49m\u001b[38;5;241;43m*\u001b[39;49m\u001b[43mkwargs\u001b[49m\n\u001b[0;32m   1360\u001b[0m \u001b[43m\u001b[49m\u001b[43m)\u001b[49m\n\u001b[0;32m   1362\u001b[0m logging\u001b[38;5;241m.\u001b[39mdebug(\u001b[38;5;124m\"\u001b[39m\u001b[38;5;124m::engine ended\u001b[39m\u001b[38;5;124m\"\u001b[39m)\n",
      "File \u001b[1;32mC:\\scripting\\cellpy\\cellpy\\utils\\batch_tools\\batch_plotters.py:752\u001b[0m, in \u001b[0;36msummary_plotting_engine\u001b[1;34m(**kwargs)\u001b[0m\n\u001b[0;32m    748\u001b[0m         canvas \u001b[38;5;241m=\u001b[39m generate_summary_plots(\n\u001b[0;32m    749\u001b[0m             experiment\u001b[38;5;241m=\u001b[39mexperiment, farms\u001b[38;5;241m=\u001b[39mfarms, \u001b[38;5;241m*\u001b[39m\u001b[38;5;241m*\u001b[39mkwargs\n\u001b[0;32m    750\u001b[0m         )\n\u001b[0;32m    751\u001b[0m         farms\u001b[38;5;241m.\u001b[39mappend(canvas)\n\u001b[1;32m--> 752\u001b[0m         \u001b[43mcanvas\u001b[49m\u001b[38;5;241;43m.\u001b[39;49m\u001b[43mshow\u001b[49m()\n\u001b[0;32m    754\u001b[0m \u001b[38;5;28;01mreturn\u001b[39;00m farms, barn\n",
      "\u001b[1;31mAttributeError\u001b[0m: 'NoneType' object has no attribute 'show'"
     ]
    }
   ],
   "source": [
    "# Plot the charge capacity and the C.E. (and resistance) vs. cycle number (standard plot)\n",
    "b.plot(rate=True)"
   ]
  },
  {
   "cell_type": "code",
   "execution_count": null,
   "metadata": {},
   "outputs": [],
   "source": [
    "b.report()"
   ]
  },
  {
   "cell_type": "markdown",
   "metadata": {},
   "source": [
    "## Looking at collections"
   ]
  },
  {
   "cell_type": "markdown",
   "metadata": {},
   "source": [
    "### Summaries"
   ]
  },
  {
   "cell_type": "code",
   "execution_count": null,
   "metadata": {},
   "outputs": [],
   "source": [
    "# collecting standard summaries:\n",
    "group_labels = {1: \"starts ok\", 2: \"starts best\"}\n",
    "discharge_cap_summaries_full = collectors.BatchSummaryCollector(\n",
    "    b,\n",
    "    columns=[\"discharge_capacity_gravimetric\"],\n",
    "    max_cycle=100,\n",
    "    group_it=True,\n",
    "    data_collector_arguments=dict(custom_group_labels=group_labels),\n",
    "    spread=True,\n",
    "    height=600,\n",
    ")\n",
    "discharge_cap_summaries_full.show()"
   ]
  },
  {
   "cell_type": "code",
   "execution_count": null,
   "metadata": {},
   "outputs": [],
   "source": [
    "# # saving for later:\n",
    "# discharge_cap_summaries_full.save(serial_number=1)"
   ]
  },
  {
   "cell_type": "code",
   "execution_count": null,
   "metadata": {},
   "outputs": [],
   "source": [
    "discharge_capacity = b.summaries.discharge_capacity_gravimetric\n",
    "charge_capacity = b.summaries.charge_capacity_gravimetric\n",
    "coulombic_efficiency = b.summaries.coulombic_efficiency\n",
    "ir_charge = b.summaries.ir_charge"
   ]
  },
  {
   "cell_type": "code",
   "execution_count": null,
   "metadata": {},
   "outputs": [],
   "source": [
    "# Using matplotlib as provided by pandas this time\n",
    "fig, (ax1, ax2) = plt.subplots(2, 1)\n",
    "ax1.plot(discharge_capacity)\n",
    "ax1.set_ylabel(\"capacity \")\n",
    "ax2.plot(ir_charge)\n",
    "ax2.set_xlabel(\"cycle\")\n",
    "ax2.set_ylabel(\"resistance\")"
   ]
  },
  {
   "cell_type": "markdown",
   "metadata": {},
   "source": [
    "### Cycles"
   ]
  },
  {
   "cell_type": "code",
   "execution_count": null,
   "metadata": {},
   "outputs": [],
   "source": [
    "cells_collected = collectors.BatchCyclesCollector(b, max_cycle=10)\n",
    "cells_collected.show()"
   ]
  },
  {
   "cell_type": "code",
   "execution_count": null,
   "metadata": {},
   "outputs": [],
   "source": [
    "cycles_collected = collectors.BatchCyclesCollector(\n",
    "    b,\n",
    "    cycles=[1, 2, 3, 10, 100, 200],\n",
    "    collector_type=\"forth-and-forth\",\n",
    "    plot_type=\"fig_pr_cycle\",\n",
    "    \n",
    ")"
   ]
  },
  {
   "cell_type": "code",
   "execution_count": null,
   "metadata": {},
   "outputs": [],
   "source": [
    "cycles_collected.show()"
   ]
  },
  {
   "cell_type": "markdown",
   "metadata": {},
   "source": [
    "# 5. Checking for more details per cycle"
   ]
  },
  {
   "cell_type": "markdown",
   "metadata": {},
   "source": [
    "#### A. pick the CellpyData object for one of the cells"
   ]
  },
  {
   "cell_type": "code",
   "execution_count": null,
   "metadata": {},
   "outputs": [],
   "source": [
    "# Lets check what cells we have\n",
    "cell_labels = b.experiment.cell_names\n",
    "print(cell_labels)"
   ]
  },
  {
   "cell_type": "code",
   "execution_count": null,
   "metadata": {},
   "outputs": [],
   "source": [
    "# OK, then I choose one of them\n",
    "label = cell_labels[0]\n",
    "c = b.experiment.data[label]"
   ]
  },
  {
   "cell_type": "code",
   "execution_count": null,
   "metadata": {},
   "outputs": [],
   "source": [
    "## view some info about the cell\n",
    "# c"
   ]
  },
  {
   "cell_type": "markdown",
   "metadata": {},
   "source": [
    "#### B. Get some voltage curves for some cycles and plot them\n",
    "The method `get_cap` can be used to extract voltage curves."
   ]
  },
  {
   "cell_type": "code",
   "execution_count": null,
   "metadata": {},
   "outputs": [],
   "source": [
    "cap = c.get_cap(categorical_column=True, method=\"forth-and-forth\")\n",
    "cap.head()"
   ]
  },
  {
   "cell_type": "code",
   "execution_count": null,
   "metadata": {},
   "outputs": [],
   "source": [
    "fig, ax = plt.subplots()\n",
    "ax.plot(cap.capacity, cap.voltage)\n",
    "ax.set_xlabel(\"capacity\")\n",
    "ax.set_ylabel(\"voltage\");"
   ]
  },
  {
   "cell_type": "markdown",
   "metadata": {},
   "source": [
    "#### C. Cleaning up the plot a bit"
   ]
  },
  {
   "cell_type": "code",
   "execution_count": null,
   "metadata": {},
   "outputs": [],
   "source": [
    "voltage_capacity_100 = c.get_cap(cycle=100, method=\"forth-and-forth\", interpolated=True, number_of_points=80)\n",
    "voltage_capacity_200 = c.get_cap(cycle=200, method=\"forth-and-forth\", interpolated=True, number_of_points=80)\n",
    "\n",
    "fig, ax = plt.subplots()\n",
    "ax.set_xlabel(f\"capacity ({c.cellpy_units.charge}/{c.cellpy_units.specific_gravimetric})\")\n",
    "ax.set_ylabel(f\"voltage ({c.cellpy_units.voltage} vs. Li/Li+)\")\n",
    "ax.plot(voltage_capacity_100.capacity, voltage_capacity_100.voltage, \"o-\", label=\"cycle 100\")\n",
    "ax.plot(voltage_capacity_200.capacity, voltage_capacity_200.voltage, \"o-\", label=\"cycle 200\")\n",
    "ax.legend();"
   ]
  }
 ],
 "metadata": {
  "kernelspec": {
   "display_name": "cellpy_dev",
   "language": "python",
   "name": "cellpy_dev"
  },
  "language_info": {
   "codemirror_mode": {
    "name": "ipython",
    "version": 3
   },
   "file_extension": ".py",
   "mimetype": "text/x-python",
   "name": "python",
   "nbconvert_exporter": "python",
   "pygments_lexer": "ipython3",
   "version": "3.11.8"
  }
 },
 "nbformat": 4,
 "nbformat_minor": 4
}
