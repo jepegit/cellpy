{
 "cells": [
  {
   "cell_type": "code",
   "execution_count": null,
   "id": "d759a195-b692-4daa-b587-5b9a49b1fe99",
   "metadata": {},
   "outputs": [],
   "source": []
  },
  {
   "cell_type": "markdown",
   "id": "95eba3bd-0a36-4a8e-af50-fc6eaa57252a",
   "metadata": {},
   "source": [
    "# Different data formats"
   ]
  },
  {
   "cell_type": "code",
   "execution_count": 1,
   "id": "4bfbb1bd-abac-4aeb-bf67-d986b5a55384",
   "metadata": {},
   "outputs": [],
   "source": [
    "%load_ext autoreload\n",
    "%autoreload 2"
   ]
  },
  {
   "cell_type": "code",
   "execution_count": 2,
   "id": "184beadf-3053-4ef9-baae-09759c17bbc6",
   "metadata": {},
   "outputs": [],
   "source": [
    "import pathlib\n",
    "\n",
    "import numpy as np\n",
    "import pandas as pd\n",
    "from rich import print\n",
    "\n",
    "import cellpy\n",
    "from cellpy.utils import example_data, plotutils"
   ]
  },
  {
   "cell_type": "code",
   "execution_count": 3,
   "id": "24957491-5c32-433c-8381-d2108e46bb3c",
   "metadata": {},
   "outputs": [],
   "source": [
    "# Comment out this when running the notebook locally to get interactive plots\n",
    "import plotly.io as pio\n",
    "pio.renderers.default = \"png\""
   ]
  },
  {
   "cell_type": "code",
   "execution_count": 4,
   "id": "42068af0-48c2-4d84-bb22-29fb02f374d2",
   "metadata": {},
   "outputs": [],
   "source": [
    "def head(f, n=5):\n",
    "    print(f\" {f.name} \".center(80, \"-\"))\n",
    "    with open(f) as datafile:\n",
    "        for j in range(n):\n",
    "            line = datafile.readline()\n",
    "            print(f\"[{j+1:02}] {line.strip()}\")\n",
    "        "
   ]
  },
  {
   "cell_type": "markdown",
   "id": "8235825d-807a-410e-bf63-33c5cd52076b",
   "metadata": {
    "jp-MarkdownHeadingCollapsed": true
   },
   "source": [
    "## PEC CSV data"
   ]
  },
  {
   "cell_type": "code",
   "execution_count": 5,
   "id": "b3dc39b8-f9f5-42ec-9507-44da47f0814f",
   "metadata": {},
   "outputs": [
    {
     "data": {
      "text/html": [
       "<pre style=\"white-space:pre;overflow-x:auto;line-height:normal;font-family:Menlo,'DejaVu Sans Mono',consolas,'Courier New',monospace\">p.<span style=\"color: #808000; text-decoration-color: #808000\">name</span>=<span style=\"color: #008000; text-decoration-color: #008000\">'pec.csv'</span>\n",
       "</pre>\n"
      ],
      "text/plain": [
       "p.\u001b[33mname\u001b[0m=\u001b[32m'pec.csv'\u001b[0m\n"
      ]
     },
     "metadata": {},
     "output_type": "display_data"
    }
   ],
   "source": [
    "p = example_data.pec_file_path()\n",
    "print(f\"{p.name=}\")"
   ]
  },
  {
   "cell_type": "code",
   "execution_count": 6,
   "id": "ae980392-7476-464f-a96d-27cd39dfbc74",
   "metadata": {},
   "outputs": [
    {
     "data": {
      "text/html": [
       "<pre style=\"white-space:pre;overflow-x:auto;line-height:normal;font-family:Menlo,'DejaVu Sans Mono',consolas,'Courier New',monospace\">----------------------------------- pec.csv ------------------------------------\n",
       "</pre>\n"
      ],
      "text/plain": [
       "----------------------------------- pec.csv ------------------------------------\n"
      ]
     },
     "metadata": {},
     "output_type": "display_data"
    },
    {
     "data": {
      "text/html": [
       "<pre style=\"white-space:pre;overflow-x:auto;line-height:normal;font-family:Menlo,'DejaVu Sans Mono',consolas,'Courier New',monospace\"><span style=\"font-weight: bold\">[</span><span style=\"color: #008080; text-decoration-color: #008080; font-weight: bold\">01</span><span style=\"font-weight: bold\">]</span> Request Year:,<span style=\"color: #008080; text-decoration-color: #008080; font-weight: bold\">2019</span>\n",
       "</pre>\n"
      ],
      "text/plain": [
       "\u001b[1m[\u001b[0m\u001b[1;36m01\u001b[0m\u001b[1m]\u001b[0m Request Year:,\u001b[1;36m2019\u001b[0m\n"
      ]
     },
     "metadata": {},
     "output_type": "display_data"
    },
    {
     "data": {
      "text/html": [
       "<pre style=\"white-space:pre;overflow-x:auto;line-height:normal;font-family:Menlo,'DejaVu Sans Mono',consolas,'Courier New',monospace\"><span style=\"font-weight: bold\">[</span><span style=\"color: #008080; text-decoration-color: #008080; font-weight: bold\">02</span><span style=\"font-weight: bold\">]</span> Test:,<span style=\"color: #008080; text-decoration-color: #008080; font-weight: bold\">187</span>\n",
       "</pre>\n"
      ],
      "text/plain": [
       "\u001b[1m[\u001b[0m\u001b[1;36m02\u001b[0m\u001b[1m]\u001b[0m Test:,\u001b[1;36m187\u001b[0m\n"
      ]
     },
     "metadata": {},
     "output_type": "display_data"
    },
    {
     "data": {
      "text/html": [
       "<pre style=\"white-space:pre;overflow-x:auto;line-height:normal;font-family:Menlo,'DejaVu Sans Mono',consolas,'Courier New',monospace\"><span style=\"font-weight: bold\">[</span><span style=\"color: #008080; text-decoration-color: #008080; font-weight: bold\">03</span><span style=\"font-weight: bold\">]</span> Test Description:,\n",
       "</pre>\n"
      ],
      "text/plain": [
       "\u001b[1m[\u001b[0m\u001b[1;36m03\u001b[0m\u001b[1m]\u001b[0m Test Description:,\n"
      ]
     },
     "metadata": {},
     "output_type": "display_data"
    },
    {
     "data": {
      "text/html": [
       "<pre style=\"white-space:pre;overflow-x:auto;line-height:normal;font-family:Menlo,'DejaVu Sans Mono',consolas,'Courier New',monospace\"><span style=\"font-weight: bold\">[</span><span style=\"color: #008080; text-decoration-color: #008080; font-weight: bold\">04</span><span style=\"font-weight: bold\">]</span> TestRegime Name:,FirstCell dQdV C/<span style=\"color: #008080; text-decoration-color: #008080; font-weight: bold\">25</span>\n",
       "</pre>\n"
      ],
      "text/plain": [
       "\u001b[1m[\u001b[0m\u001b[1;36m04\u001b[0m\u001b[1m]\u001b[0m TestRegime Name:,FirstCell dQdV C/\u001b[1;36m25\u001b[0m\n"
      ]
     },
     "metadata": {},
     "output_type": "display_data"
    },
    {
     "data": {
      "text/html": [
       "<pre style=\"white-space:pre;overflow-x:auto;line-height:normal;font-family:Menlo,'DejaVu Sans Mono',consolas,'Courier New',monospace\"><span style=\"font-weight: bold\">[</span><span style=\"color: #008080; text-decoration-color: #008080; font-weight: bold\">05</span><span style=\"font-weight: bold\">]</span> TestRegime Suffix:,HWL\n",
       "</pre>\n"
      ],
      "text/plain": [
       "\u001b[1m[\u001b[0m\u001b[1;36m05\u001b[0m\u001b[1m]\u001b[0m TestRegime Suffix:,HWL\n"
      ]
     },
     "metadata": {},
     "output_type": "display_data"
    },
    {
     "data": {
      "text/html": [
       "<pre style=\"white-space:pre;overflow-x:auto;line-height:normal;font-family:Menlo,'DejaVu Sans Mono',consolas,'Courier New',monospace\"><span style=\"font-weight: bold\">[</span><span style=\"color: #008080; text-decoration-color: #008080; font-weight: bold\">06</span><span style=\"font-weight: bold\">]</span> TestRegime CellSize:,Default cellsize\n",
       "</pre>\n"
      ],
      "text/plain": [
       "\u001b[1m[\u001b[0m\u001b[1;36m06\u001b[0m\u001b[1m]\u001b[0m TestRegime CellSize:,Default cellsize\n"
      ]
     },
     "metadata": {},
     "output_type": "display_data"
    },
    {
     "data": {
      "text/html": [
       "<pre style=\"white-space:pre;overflow-x:auto;line-height:normal;font-family:Menlo,'DejaVu Sans Mono',consolas,'Courier New',monospace\"><span style=\"font-weight: bold\">[</span><span style=\"color: #008080; text-decoration-color: #008080; font-weight: bold\">07</span><span style=\"font-weight: bold\">]</span> TestRegime Version:,<span style=\"color: #008080; text-decoration-color: #008080; font-weight: bold\">1</span>\n",
       "</pre>\n"
      ],
      "text/plain": [
       "\u001b[1m[\u001b[0m\u001b[1;36m07\u001b[0m\u001b[1m]\u001b[0m TestRegime Version:,\u001b[1;36m1\u001b[0m\n"
      ]
     },
     "metadata": {},
     "output_type": "display_data"
    },
    {
     "data": {
      "text/html": [
       "<pre style=\"white-space:pre;overflow-x:auto;line-height:normal;font-family:Menlo,'DejaVu Sans Mono',consolas,'Courier New',monospace\"><span style=\"font-weight: bold\">[</span><span style=\"color: #008080; text-decoration-color: #008080; font-weight: bold\">08</span><span style=\"font-weight: bold\">]</span> Project Group Name:,Immediate\n",
       "</pre>\n"
      ],
      "text/plain": [
       "\u001b[1m[\u001b[0m\u001b[1;36m08\u001b[0m\u001b[1m]\u001b[0m Project Group Name:,Immediate\n"
      ]
     },
     "metadata": {},
     "output_type": "display_data"
    },
    {
     "data": {
      "text/html": [
       "<pre style=\"white-space:pre;overflow-x:auto;line-height:normal;font-family:Menlo,'DejaVu Sans Mono',consolas,'Courier New',monospace\"><span style=\"font-weight: bold\">[</span><span style=\"color: #008080; text-decoration-color: #008080; font-weight: bold\">09</span><span style=\"font-weight: bold\">]</span> Project Group Description:,Immediate\n",
       "</pre>\n"
      ],
      "text/plain": [
       "\u001b[1m[\u001b[0m\u001b[1;36m09\u001b[0m\u001b[1m]\u001b[0m Project Group Description:,Immediate\n"
      ]
     },
     "metadata": {},
     "output_type": "display_data"
    },
    {
     "data": {
      "text/html": [
       "<pre style=\"white-space:pre;overflow-x:auto;line-height:normal;font-family:Menlo,'DejaVu Sans Mono',consolas,'Courier New',monospace\"><span style=\"font-weight: bold\">[</span><span style=\"color: #008080; text-decoration-color: #008080; font-weight: bold\">10</span><span style=\"font-weight: bold\">]</span> Project Group Memo:,\n",
       "</pre>\n"
      ],
      "text/plain": [
       "\u001b[1m[\u001b[0m\u001b[1;36m10\u001b[0m\u001b[1m]\u001b[0m Project Group Memo:,\n"
      ]
     },
     "metadata": {},
     "output_type": "display_data"
    },
    {
     "data": {
      "text/html": [
       "<pre style=\"white-space:pre;overflow-x:auto;line-height:normal;font-family:Menlo,'DejaVu Sans Mono',consolas,'Courier New',monospace\"><span style=\"font-weight: bold\">[</span><span style=\"color: #008080; text-decoration-color: #008080; font-weight: bold\">11</span><span style=\"font-weight: bold\">]</span> Project Group Storage Environment:,R.T.<span style=\"color: #800080; text-decoration-color: #800080\">/</span><span style=\"color: #ff00ff; text-decoration-color: #ff00ff\">AMB</span>\n",
       "</pre>\n"
      ],
      "text/plain": [
       "\u001b[1m[\u001b[0m\u001b[1;36m11\u001b[0m\u001b[1m]\u001b[0m Project Group Storage Environment:,R.T.\u001b[35m/\u001b[0m\u001b[95mAMB\u001b[0m\n"
      ]
     },
     "metadata": {},
     "output_type": "display_data"
    },
    {
     "data": {
      "text/html": [
       "<pre style=\"white-space:pre;overflow-x:auto;line-height:normal;font-family:Menlo,'DejaVu Sans Mono',consolas,'Courier New',monospace\"><span style=\"font-weight: bold\">[</span><span style=\"color: #008080; text-decoration-color: #008080; font-weight: bold\">12</span><span style=\"font-weight: bold\">]</span> Project Group Test Environment:,R.T.<span style=\"color: #800080; text-decoration-color: #800080\">/</span><span style=\"color: #ff00ff; text-decoration-color: #ff00ff\">AMB</span>\n",
       "</pre>\n"
      ],
      "text/plain": [
       "\u001b[1m[\u001b[0m\u001b[1;36m12\u001b[0m\u001b[1m]\u001b[0m Project Group Test Environment:,R.T.\u001b[35m/\u001b[0m\u001b[95mAMB\u001b[0m\n"
      ]
     },
     "metadata": {},
     "output_type": "display_data"
    },
    {
     "data": {
      "text/html": [
       "<pre style=\"white-space:pre;overflow-x:auto;line-height:normal;font-family:Menlo,'DejaVu Sans Mono',consolas,'Courier New',monospace\"><span style=\"font-weight: bold\">[</span><span style=\"color: #008080; text-decoration-color: #008080; font-weight: bold\">13</span><span style=\"font-weight: bold\">]</span> Number Of Cells:,<span style=\"color: #008080; text-decoration-color: #008080; font-weight: bold\">1</span>\n",
       "</pre>\n"
      ],
      "text/plain": [
       "\u001b[1m[\u001b[0m\u001b[1;36m13\u001b[0m\u001b[1m]\u001b[0m Number Of Cells:,\u001b[1;36m1\u001b[0m\n"
      ]
     },
     "metadata": {},
     "output_type": "display_data"
    },
    {
     "data": {
      "text/html": [
       "<pre style=\"white-space:pre;overflow-x:auto;line-height:normal;font-family:Menlo,'DejaVu Sans Mono',consolas,'Courier New',monospace\"><span style=\"font-weight: bold\">[</span><span style=\"color: #008080; text-decoration-color: #008080; font-weight: bold\">14</span><span style=\"font-weight: bold\">]</span> Parameter names:,\n",
       "</pre>\n"
      ],
      "text/plain": [
       "\u001b[1m[\u001b[0m\u001b[1;36m14\u001b[0m\u001b[1m]\u001b[0m Parameter names:,\n"
      ]
     },
     "metadata": {},
     "output_type": "display_data"
    },
    {
     "data": {
      "text/html": [
       "<pre style=\"white-space:pre;overflow-x:auto;line-height:normal;font-family:Menlo,'DejaVu Sans Mono',consolas,'Courier New',monospace\"><span style=\"font-weight: bold\">[</span><span style=\"color: #008080; text-decoration-color: #008080; font-weight: bold\">15</span><span style=\"font-weight: bold\">]</span> Parameter values:,\n",
       "</pre>\n"
      ],
      "text/plain": [
       "\u001b[1m[\u001b[0m\u001b[1;36m15\u001b[0m\u001b[1m]\u001b[0m Parameter values:,\n"
      ]
     },
     "metadata": {},
     "output_type": "display_data"
    },
    {
     "data": {
      "text/html": [
       "<pre style=\"white-space:pre;overflow-x:auto;line-height:normal;font-family:Menlo,'DejaVu Sans Mono',consolas,'Courier New',monospace\"><span style=\"font-weight: bold\">[</span><span style=\"color: #008080; text-decoration-color: #008080; font-weight: bold\">16</span><span style=\"font-weight: bold\">]</span> Variable names:\n",
       "</pre>\n"
      ],
      "text/plain": [
       "\u001b[1m[\u001b[0m\u001b[1;36m16\u001b[0m\u001b[1m]\u001b[0m Variable names:\n"
      ]
     },
     "metadata": {},
     "output_type": "display_data"
    },
    {
     "data": {
      "text/html": [
       "<pre style=\"white-space:pre;overflow-x:auto;line-height:normal;font-family:Menlo,'DejaVu Sans Mono',consolas,'Courier New',monospace\"><span style=\"font-weight: bold\">[</span><span style=\"color: #008080; text-decoration-color: #008080; font-weight: bold\">17</span><span style=\"font-weight: bold\">]</span> LotID:,\n",
       "</pre>\n"
      ],
      "text/plain": [
       "\u001b[1m[\u001b[0m\u001b[1;36m17\u001b[0m\u001b[1m]\u001b[0m LotID:,\n"
      ]
     },
     "metadata": {},
     "output_type": "display_data"
    },
    {
     "data": {
      "text/html": [
       "<pre style=\"white-space:pre;overflow-x:auto;line-height:normal;font-family:Menlo,'DejaVu Sans Mono',consolas,'Courier New',monospace\"><span style=\"font-weight: bold\">[</span><span style=\"color: #008080; text-decoration-color: #008080; font-weight: bold\">18</span><span style=\"font-weight: bold\">]</span> Lot Description:,\n",
       "</pre>\n"
      ],
      "text/plain": [
       "\u001b[1m[\u001b[0m\u001b[1;36m18\u001b[0m\u001b[1m]\u001b[0m Lot Description:,\n"
      ]
     },
     "metadata": {},
     "output_type": "display_data"
    },
    {
     "data": {
      "text/html": [
       "<pre style=\"white-space:pre;overflow-x:auto;line-height:normal;font-family:Menlo,'DejaVu Sans Mono',consolas,'Courier New',monospace\"><span style=\"font-weight: bold\">[</span><span style=\"color: #008080; text-decoration-color: #008080; font-weight: bold\">19</span><span style=\"font-weight: bold\">]</span> Date Made:,<span style=\"color: #008080; text-decoration-color: #008080; font-weight: bold\">1</span>/<span style=\"color: #008080; text-decoration-color: #008080; font-weight: bold\">21</span>/<span style=\"color: #008080; text-decoration-color: #008080; font-weight: bold\">2003</span> <span style=\"color: #00ff00; text-decoration-color: #00ff00; font-weight: bold\">0:00</span>\n",
       "</pre>\n"
      ],
      "text/plain": [
       "\u001b[1m[\u001b[0m\u001b[1;36m19\u001b[0m\u001b[1m]\u001b[0m Date Made:,\u001b[1;36m1\u001b[0m/\u001b[1;36m21\u001b[0m/\u001b[1;36m2003\u001b[0m \u001b[1;92m0:00\u001b[0m\n"
      ]
     },
     "metadata": {},
     "output_type": "display_data"
    },
    {
     "data": {
      "text/html": [
       "<pre style=\"white-space:pre;overflow-x:auto;line-height:normal;font-family:Menlo,'DejaVu Sans Mono',consolas,'Courier New',monospace\"><span style=\"font-weight: bold\">[</span><span style=\"color: #008080; text-decoration-color: #008080; font-weight: bold\">20</span><span style=\"font-weight: bold\">]</span> Origin:,Other\n",
       "</pre>\n"
      ],
      "text/plain": [
       "\u001b[1m[\u001b[0m\u001b[1;36m20\u001b[0m\u001b[1m]\u001b[0m Origin:,Other\n"
      ]
     },
     "metadata": {},
     "output_type": "display_data"
    },
    {
     "data": {
      "text/html": [
       "<pre style=\"white-space:pre;overflow-x:auto;line-height:normal;font-family:Menlo,'DejaVu Sans Mono',consolas,'Courier New',monospace\"><span style=\"font-weight: bold\">[</span><span style=\"color: #008080; text-decoration-color: #008080; font-weight: bold\">21</span><span style=\"font-weight: bold\">]</span> Requestor:,Admin\n",
       "</pre>\n"
      ],
      "text/plain": [
       "\u001b[1m[\u001b[0m\u001b[1;36m21\u001b[0m\u001b[1m]\u001b[0m Requestor:,Admin\n"
      ]
     },
     "metadata": {},
     "output_type": "display_data"
    },
    {
     "data": {
      "text/html": [
       "<pre style=\"white-space:pre;overflow-x:auto;line-height:normal;font-family:Menlo,'DejaVu Sans Mono',consolas,'Courier New',monospace\"><span style=\"font-weight: bold\">[</span><span style=\"color: #008080; text-decoration-color: #008080; font-weight: bold\">22</span><span style=\"font-weight: bold\">]</span> Product ID:,Default product\n",
       "</pre>\n"
      ],
      "text/plain": [
       "\u001b[1m[\u001b[0m\u001b[1;36m22\u001b[0m\u001b[1m]\u001b[0m Product ID:,Default product\n"
      ]
     },
     "metadata": {},
     "output_type": "display_data"
    },
    {
     "data": {
      "text/html": [
       "<pre style=\"white-space:pre;overflow-x:auto;line-height:normal;font-family:Menlo,'DejaVu Sans Mono',consolas,'Courier New',monospace\"><span style=\"font-weight: bold\">[</span><span style=\"color: #008080; text-decoration-color: #008080; font-weight: bold\">23</span><span style=\"font-weight: bold\">]</span> Storage Temp:,R.T.<span style=\"color: #800080; text-decoration-color: #800080\">/</span><span style=\"color: #ff00ff; text-decoration-color: #ff00ff\">AMB</span>\n",
       "</pre>\n"
      ],
      "text/plain": [
       "\u001b[1m[\u001b[0m\u001b[1;36m23\u001b[0m\u001b[1m]\u001b[0m Storage Temp:,R.T.\u001b[35m/\u001b[0m\u001b[95mAMB\u001b[0m\n"
      ]
     },
     "metadata": {},
     "output_type": "display_data"
    },
    {
     "data": {
      "text/html": [
       "<pre style=\"white-space:pre;overflow-x:auto;line-height:normal;font-family:Menlo,'DejaVu Sans Mono',consolas,'Courier New',monospace\"><span style=\"font-weight: bold\">[</span><span style=\"color: #008080; text-decoration-color: #008080; font-weight: bold\">24</span><span style=\"font-weight: bold\">]</span> Storage Delay:,<span style=\"color: #008080; text-decoration-color: #008080; font-weight: bold\">0</span> days\n",
       "</pre>\n"
      ],
      "text/plain": [
       "\u001b[1m[\u001b[0m\u001b[1;36m24\u001b[0m\u001b[1m]\u001b[0m Storage Delay:,\u001b[1;36m0\u001b[0m days\n"
      ]
     },
     "metadata": {},
     "output_type": "display_data"
    },
    {
     "data": {
      "text/html": [
       "<pre style=\"white-space:pre;overflow-x:auto;line-height:normal;font-family:Menlo,'DejaVu Sans Mono',consolas,'Courier New',monospace\"><span style=\"font-weight: bold\">[</span><span style=\"color: #008080; text-decoration-color: #008080; font-weight: bold\">25</span><span style=\"font-weight: bold\">]</span> Test Temp:,R.T.<span style=\"color: #800080; text-decoration-color: #800080\">/</span><span style=\"color: #ff00ff; text-decoration-color: #ff00ff\">AMB</span>\n",
       "</pre>\n"
      ],
      "text/plain": [
       "\u001b[1m[\u001b[0m\u001b[1;36m25\u001b[0m\u001b[1m]\u001b[0m Test Temp:,R.T.\u001b[35m/\u001b[0m\u001b[95mAMB\u001b[0m\n"
      ]
     },
     "metadata": {},
     "output_type": "display_data"
    },
    {
     "data": {
      "text/html": [
       "<pre style=\"white-space:pre;overflow-x:auto;line-height:normal;font-family:Menlo,'DejaVu Sans Mono',consolas,'Courier New',monospace\"><span style=\"font-weight: bold\">[</span><span style=\"color: #008080; text-decoration-color: #008080; font-weight: bold\">26</span><span style=\"font-weight: bold\">]</span> Start Time:,<span style=\"color: #008080; text-decoration-color: #008080; font-weight: bold\">02</span>/<span style=\"color: #008080; text-decoration-color: #008080; font-weight: bold\">22</span>/<span style=\"color: #008080; text-decoration-color: #008080; font-weight: bold\">2019</span> <span style=\"color: #00ff00; text-decoration-color: #00ff00; font-weight: bold\">16:21:35</span>\n",
       "</pre>\n"
      ],
      "text/plain": [
       "\u001b[1m[\u001b[0m\u001b[1;36m26\u001b[0m\u001b[1m]\u001b[0m Start Time:,\u001b[1;36m02\u001b[0m/\u001b[1;36m22\u001b[0m/\u001b[1;36m2019\u001b[0m \u001b[1;92m16:21:35\u001b[0m\n"
      ]
     },
     "metadata": {},
     "output_type": "display_data"
    },
    {
     "data": {
      "text/html": [
       "<pre style=\"white-space:pre;overflow-x:auto;line-height:normal;font-family:Menlo,'DejaVu Sans Mono',consolas,'Courier New',monospace\"><span style=\"font-weight: bold\">[</span><span style=\"color: #008080; text-decoration-color: #008080; font-weight: bold\">27</span><span style=\"font-weight: bold\">]</span> End Time:,<span style=\"color: #008080; text-decoration-color: #008080; font-weight: bold\">1</span>/<span style=\"color: #008080; text-decoration-color: #008080; font-weight: bold\">1</span>/<span style=\"color: #008080; text-decoration-color: #008080; font-weight: bold\">0001</span> <span style=\"color: #00ff00; text-decoration-color: #00ff00; font-weight: bold\">0:00</span>\n",
       "</pre>\n"
      ],
      "text/plain": [
       "\u001b[1m[\u001b[0m\u001b[1;36m27\u001b[0m\u001b[1m]\u001b[0m End Time:,\u001b[1;36m1\u001b[0m/\u001b[1;36m1\u001b[0m/\u001b[1;36m0001\u001b[0m \u001b[1;92m0:00\u001b[0m\n"
      ]
     },
     "metadata": {},
     "output_type": "display_data"
    },
    {
     "data": {
      "text/html": [
       "<pre style=\"white-space:pre;overflow-x:auto;line-height:normal;font-family:Menlo,'DejaVu Sans Mono',consolas,'Courier New',monospace\"><span style=\"font-weight: bold\">[</span><span style=\"color: #008080; text-decoration-color: #008080; font-weight: bold\">28</span><span style=\"font-weight: bold\">]</span> Operator Instructions:,Also connect cell temp to channel TC-K and ambient temp to NTC\n",
       "</pre>\n"
      ],
      "text/plain": [
       "\u001b[1m[\u001b[0m\u001b[1;36m28\u001b[0m\u001b[1m]\u001b[0m Operator Instructions:,Also connect cell temp to channel TC-K and ambient temp to NTC\n"
      ]
     },
     "metadata": {},
     "output_type": "display_data"
    },
    {
     "data": {
      "text/html": [
       "<pre style=\"white-space:pre;overflow-x:auto;line-height:normal;font-family:Menlo,'DejaVu Sans Mono',consolas,'Courier New',monospace\"><span style=\"font-weight: bold\">[</span><span style=\"color: #008080; text-decoration-color: #008080; font-weight: bold\">29</span><span style=\"font-weight: bold\">]</span> #RESULTS CHECK\n",
       "</pre>\n"
      ],
      "text/plain": [
       "\u001b[1m[\u001b[0m\u001b[1;36m29\u001b[0m\u001b[1m]\u001b[0m #RESULTS CHECK\n"
      ]
     },
     "metadata": {},
     "output_type": "display_data"
    },
    {
     "data": {
      "text/html": [
       "<pre style=\"white-space:pre;overflow-x:auto;line-height:normal;font-family:Menlo,'DejaVu Sans Mono',consolas,'Courier New',monospace\"><span style=\"font-weight: bold\">[</span><span style=\"color: #008080; text-decoration-color: #008080; font-weight: bold\">30</span><span style=\"font-weight: bold\">]</span> ReqYear,Test,CellNr,Type,Value,Reason,\n",
       "</pre>\n"
      ],
      "text/plain": [
       "\u001b[1m[\u001b[0m\u001b[1;36m30\u001b[0m\u001b[1m]\u001b[0m ReqYear,Test,CellNr,Type,Value,Reason,\n"
      ]
     },
     "metadata": {},
     "output_type": "display_data"
    },
    {
     "data": {
      "text/html": [
       "<pre style=\"white-space:pre;overflow-x:auto;line-height:normal;font-family:Menlo,'DejaVu Sans Mono',consolas,'Courier New',monospace\"><span style=\"font-weight: bold\">[</span><span style=\"color: #008080; text-decoration-color: #008080; font-weight: bold\">31</span><span style=\"font-weight: bold\">]</span> <span style=\"color: #008080; text-decoration-color: #008080; font-weight: bold\">2019</span>,<span style=\"color: #008080; text-decoration-color: #008080; font-weight: bold\">187</span>,<span style=\"color: #008080; text-decoration-color: #008080; font-weight: bold\">1</span>,<span style=\"color: #008080; text-decoration-color: #008080; font-weight: bold\">1</span>,<span style=\"color: #008080; text-decoration-color: #008080; font-weight: bold\">3272</span>,<span style=\"color: #008080; text-decoration-color: #008080; font-weight: bold\">3</span>,\n",
       "</pre>\n"
      ],
      "text/plain": [
       "\u001b[1m[\u001b[0m\u001b[1;36m31\u001b[0m\u001b[1m]\u001b[0m \u001b[1;36m2019\u001b[0m,\u001b[1;36m187\u001b[0m,\u001b[1;36m1\u001b[0m,\u001b[1;36m1\u001b[0m,\u001b[1;36m3272\u001b[0m,\u001b[1;36m3\u001b[0m,\n"
      ]
     },
     "metadata": {},
     "output_type": "display_data"
    },
    {
     "data": {
      "text/html": [
       "<pre style=\"white-space:pre;overflow-x:auto;line-height:normal;font-family:Menlo,'DejaVu Sans Mono',consolas,'Courier New',monospace\"><span style=\"font-weight: bold\">[</span><span style=\"color: #008080; text-decoration-color: #008080; font-weight: bold\">32</span><span style=\"font-weight: bold\">]</span> #END RESULTS CHECK\n",
       "</pre>\n"
      ],
      "text/plain": [
       "\u001b[1m[\u001b[0m\u001b[1;36m32\u001b[0m\u001b[1m]\u001b[0m #END RESULTS CHECK\n"
      ]
     },
     "metadata": {},
     "output_type": "display_data"
    },
    {
     "data": {
      "text/html": [
       "<pre style=\"white-space:pre;overflow-x:auto;line-height:normal;font-family:Menlo,'DejaVu Sans Mono',consolas,'Courier New',monospace\"><span style=\"font-weight: bold\">[</span><span style=\"color: #008080; text-decoration-color: #008080; font-weight: bold\">33</span><span style=\"font-weight: bold\">]</span> Test,Cell,Rack,Shelf,Position,Cell ID,Step,Cycle,Total Time <span style=\"font-weight: bold\">(</span>Seconds<span style=\"font-weight: bold\">)</span>,Load On Time <span style=\"font-weight: bold\">(</span>Seconds<span style=\"font-weight: bold\">)</span>,Step Time \n",
       "<span style=\"font-weight: bold\">(</span>Seconds<span style=\"font-weight: bold\">)</span>,Cycle Charge Time <span style=\"font-weight: bold\">(</span>Seconds<span style=\"font-weight: bold\">)</span>,Cycle Discharge Time <span style=\"font-weight: bold\">(</span>Seconds<span style=\"font-weight: bold\">)</span>,Real Time,Position Start Time,Voltage \n",
       "<span style=\"font-weight: bold\">(</span>mV<span style=\"font-weight: bold\">)</span>,Current <span style=\"font-weight: bold\">(</span>mA<span style=\"font-weight: bold\">)</span>,Charge Capacity <span style=\"font-weight: bold\">(</span>mAh<span style=\"font-weight: bold\">)</span>,Discharge Capacity <span style=\"font-weight: bold\">(</span>mAh<span style=\"font-weight: bold\">)</span>,Charge Capacity <span style=\"font-weight: bold\">(</span>mWh<span style=\"font-weight: bold\">)</span>,Discharge Capacity \n",
       "<span style=\"font-weight: bold\">(</span>mWh<span style=\"font-weight: bold\">)</span>,ReasonCode,<span style=\"color: #008080; text-decoration-color: #008080; font-weight: bold\">50</span>% DoD <span style=\"font-weight: bold\">(</span>mV<span style=\"font-weight: bold\">)</span>,PeakPower <span style=\"color: #008080; text-decoration-color: #008080; font-weight: bold\">1</span> <span style=\"font-weight: bold\">(</span>W<span style=\"font-weight: bold\">)</span>,PeakPower <span style=\"color: #008080; text-decoration-color: #008080; font-weight: bold\">2</span> <span style=\"font-weight: bold\">(</span>W<span style=\"font-weight: bold\">)</span>,Open Circuit Voltage <span style=\"color: #008080; text-decoration-color: #008080; font-weight: bold\">1</span> <span style=\"font-weight: bold\">(</span>V<span style=\"font-weight: bold\">)</span>,Open Circuit Voltage <span style=\"color: #008080; text-decoration-color: #008080; font-weight: bold\">2</span> \n",
       "<span style=\"font-weight: bold\">(</span>V<span style=\"font-weight: bold\">)</span>,Internal Resistance <span style=\"color: #008080; text-decoration-color: #008080; font-weight: bold\">1</span> <span style=\"font-weight: bold\">(</span>mOhm<span style=\"font-weight: bold\">)</span>,Internal Resistance <span style=\"color: #008080; text-decoration-color: #008080; font-weight: bold\">2</span> <span style=\"font-weight: bold\">(</span>mOhm<span style=\"font-weight: bold\">)</span>,Ambient temperature <span style=\"font-weight: bold\">(</span>Â°C<span style=\"font-weight: bold\">)</span>,Cell surface temperature \n",
       "<span style=\"font-weight: bold\">(</span>Â°C<span style=\"font-weight: bold\">)</span>,DC Internal Resistance <span style=\"font-weight: bold\">(</span>mOhm<span style=\"font-weight: bold\">)</span>,AC Internal Resistance <span style=\"font-weight: bold\">(</span>mOhm<span style=\"font-weight: bold\">)</span>,Station Temperature <span style=\"font-weight: bold\">(</span>Â°C<span style=\"font-weight: bold\">)</span>,\n",
       "</pre>\n"
      ],
      "text/plain": [
       "\u001b[1m[\u001b[0m\u001b[1;36m33\u001b[0m\u001b[1m]\u001b[0m Test,Cell,Rack,Shelf,Position,Cell ID,Step,Cycle,Total Time \u001b[1m(\u001b[0mSeconds\u001b[1m)\u001b[0m,Load On Time \u001b[1m(\u001b[0mSeconds\u001b[1m)\u001b[0m,Step Time \n",
       "\u001b[1m(\u001b[0mSeconds\u001b[1m)\u001b[0m,Cycle Charge Time \u001b[1m(\u001b[0mSeconds\u001b[1m)\u001b[0m,Cycle Discharge Time \u001b[1m(\u001b[0mSeconds\u001b[1m)\u001b[0m,Real Time,Position Start Time,Voltage \n",
       "\u001b[1m(\u001b[0mmV\u001b[1m)\u001b[0m,Current \u001b[1m(\u001b[0mmA\u001b[1m)\u001b[0m,Charge Capacity \u001b[1m(\u001b[0mmAh\u001b[1m)\u001b[0m,Discharge Capacity \u001b[1m(\u001b[0mmAh\u001b[1m)\u001b[0m,Charge Capacity \u001b[1m(\u001b[0mmWh\u001b[1m)\u001b[0m,Discharge Capacity \n",
       "\u001b[1m(\u001b[0mmWh\u001b[1m)\u001b[0m,ReasonCode,\u001b[1;36m50\u001b[0m% DoD \u001b[1m(\u001b[0mmV\u001b[1m)\u001b[0m,PeakPower \u001b[1;36m1\u001b[0m \u001b[1m(\u001b[0mW\u001b[1m)\u001b[0m,PeakPower \u001b[1;36m2\u001b[0m \u001b[1m(\u001b[0mW\u001b[1m)\u001b[0m,Open Circuit Voltage \u001b[1;36m1\u001b[0m \u001b[1m(\u001b[0mV\u001b[1m)\u001b[0m,Open Circuit Voltage \u001b[1;36m2\u001b[0m \n",
       "\u001b[1m(\u001b[0mV\u001b[1m)\u001b[0m,Internal Resistance \u001b[1;36m1\u001b[0m \u001b[1m(\u001b[0mmOhm\u001b[1m)\u001b[0m,Internal Resistance \u001b[1;36m2\u001b[0m \u001b[1m(\u001b[0mmOhm\u001b[1m)\u001b[0m,Ambient temperature \u001b[1m(\u001b[0mÂ°C\u001b[1m)\u001b[0m,Cell surface temperature \n",
       "\u001b[1m(\u001b[0mÂ°C\u001b[1m)\u001b[0m,DC Internal Resistance \u001b[1m(\u001b[0mmOhm\u001b[1m)\u001b[0m,AC Internal Resistance \u001b[1m(\u001b[0mmOhm\u001b[1m)\u001b[0m,Station Temperature \u001b[1m(\u001b[0mÂ°C\u001b[1m)\u001b[0m,\n"
      ]
     },
     "metadata": {},
     "output_type": "display_data"
    },
    {
     "data": {
      "text/html": [
       "<pre style=\"white-space:pre;overflow-x:auto;line-height:normal;font-family:Menlo,'DejaVu Sans Mono',consolas,'Courier New',monospace\"><span style=\"font-weight: bold\">[</span><span style=\"color: #008080; text-decoration-color: #008080; font-weight: bold\">34</span><span style=\"font-weight: bold\">]</span> <span style=\"color: #008080; text-decoration-color: #008080; font-weight: bold\">187</span>,<span style=\"color: #008080; text-decoration-color: #008080; font-weight: bold\">1</span>,SBT0550,<span style=\"color: #008080; text-decoration-color: #008080; font-weight: bold\">001</span>,<span style=\"color: #008080; text-decoration-color: #008080; font-weight: bold\">1</span>,,<span style=\"color: #008080; text-decoration-color: #008080; font-weight: bold\">0</span>,<span style=\"color: #008080; text-decoration-color: #008080; font-weight: bold\">0</span>,<span style=\"color: #008080; text-decoration-color: #008080; font-weight: bold\">1</span>,<span style=\"color: #008080; text-decoration-color: #008080; font-weight: bold\">0</span>,<span style=\"color: #008080; text-decoration-color: #008080; font-weight: bold\">1</span>,<span style=\"color: #008080; text-decoration-color: #008080; font-weight: bold\">0</span>,<span style=\"color: #008080; text-decoration-color: #008080; font-weight: bold\">0</span>,<span style=\"color: #008080; text-decoration-color: #008080; font-weight: bold\">02</span>/<span style=\"color: #008080; text-decoration-color: #008080; font-weight: bold\">22</span>/<span style=\"color: #008080; text-decoration-color: #008080; font-weight: bold\">2019</span> <span style=\"color: #00ff00; text-decoration-color: #00ff00; font-weight: bold\">16:23:27</span>,<span style=\"color: #008080; text-decoration-color: #008080; font-weight: bold\">02</span>/<span style=\"color: #008080; text-decoration-color: #008080; font-weight: bold\">22</span>/<span style=\"color: #008080; text-decoration-color: #008080; font-weight: bold\">2019</span> \n",
       "<span style=\"color: #00ff00; text-decoration-color: #00ff00; font-weight: bold\">16:23:26</span>,<span style=\"color: #008080; text-decoration-color: #008080; font-weight: bold\">3272.632</span>,<span style=\"color: #008080; text-decoration-color: #008080; font-weight: bold\">0</span>,<span style=\"color: #008080; text-decoration-color: #008080; font-weight: bold\">0</span>,<span style=\"color: #008080; text-decoration-color: #008080; font-weight: bold\">0</span>,<span style=\"color: #008080; text-decoration-color: #008080; font-weight: bold\">0</span>,<span style=\"color: #008080; text-decoration-color: #008080; font-weight: bold\">0</span>,<span style=\"color: #008080; text-decoration-color: #008080; font-weight: bold\">30</span>,<span style=\"color: #008080; text-decoration-color: #008080; font-weight: bold\">0</span>,<span style=\"color: #008080; text-decoration-color: #008080; font-weight: bold\">0</span>,<span style=\"color: #008080; text-decoration-color: #008080; font-weight: bold\">0</span>,<span style=\"color: #008080; text-decoration-color: #008080; font-weight: bold\">0</span>,<span style=\"color: #008080; text-decoration-color: #008080; font-weight: bold\">0</span>,<span style=\"color: #008080; text-decoration-color: #008080; font-weight: bold\">0</span>,<span style=\"color: #008080; text-decoration-color: #008080; font-weight: bold\">0</span>,<span style=\"color: #008080; text-decoration-color: #008080; font-weight: bold\">25.83</span>,<span style=\"color: #008080; text-decoration-color: #008080; font-weight: bold\">24.9</span>,,,,\n",
       "</pre>\n"
      ],
      "text/plain": [
       "\u001b[1m[\u001b[0m\u001b[1;36m34\u001b[0m\u001b[1m]\u001b[0m \u001b[1;36m187\u001b[0m,\u001b[1;36m1\u001b[0m,SBT0550,\u001b[1;36m001\u001b[0m,\u001b[1;36m1\u001b[0m,,\u001b[1;36m0\u001b[0m,\u001b[1;36m0\u001b[0m,\u001b[1;36m1\u001b[0m,\u001b[1;36m0\u001b[0m,\u001b[1;36m1\u001b[0m,\u001b[1;36m0\u001b[0m,\u001b[1;36m0\u001b[0m,\u001b[1;36m02\u001b[0m/\u001b[1;36m22\u001b[0m/\u001b[1;36m2019\u001b[0m \u001b[1;92m16:23:27\u001b[0m,\u001b[1;36m02\u001b[0m/\u001b[1;36m22\u001b[0m/\u001b[1;36m2019\u001b[0m \n",
       "\u001b[1;92m16:23:26\u001b[0m,\u001b[1;36m3272.632\u001b[0m,\u001b[1;36m0\u001b[0m,\u001b[1;36m0\u001b[0m,\u001b[1;36m0\u001b[0m,\u001b[1;36m0\u001b[0m,\u001b[1;36m0\u001b[0m,\u001b[1;36m30\u001b[0m,\u001b[1;36m0\u001b[0m,\u001b[1;36m0\u001b[0m,\u001b[1;36m0\u001b[0m,\u001b[1;36m0\u001b[0m,\u001b[1;36m0\u001b[0m,\u001b[1;36m0\u001b[0m,\u001b[1;36m0\u001b[0m,\u001b[1;36m25.83\u001b[0m,\u001b[1;36m24.9\u001b[0m,,,,\n"
      ]
     },
     "metadata": {},
     "output_type": "display_data"
    },
    {
     "data": {
      "text/html": [
       "<pre style=\"white-space:pre;overflow-x:auto;line-height:normal;font-family:Menlo,'DejaVu Sans Mono',consolas,'Courier New',monospace\"><span style=\"font-weight: bold\">[</span><span style=\"color: #008080; text-decoration-color: #008080; font-weight: bold\">35</span><span style=\"font-weight: bold\">]</span> <span style=\"color: #008080; text-decoration-color: #008080; font-weight: bold\">187</span>,<span style=\"color: #008080; text-decoration-color: #008080; font-weight: bold\">1</span>,SBT0550,<span style=\"color: #008080; text-decoration-color: #008080; font-weight: bold\">001</span>,<span style=\"color: #008080; text-decoration-color: #008080; font-weight: bold\">1</span>,,<span style=\"color: #008080; text-decoration-color: #008080; font-weight: bold\">0</span>,<span style=\"color: #008080; text-decoration-color: #008080; font-weight: bold\">0</span>,<span style=\"color: #008080; text-decoration-color: #008080; font-weight: bold\">5</span>,<span style=\"color: #008080; text-decoration-color: #008080; font-weight: bold\">0</span>,<span style=\"color: #008080; text-decoration-color: #008080; font-weight: bold\">5</span>,<span style=\"color: #008080; text-decoration-color: #008080; font-weight: bold\">0</span>,<span style=\"color: #008080; text-decoration-color: #008080; font-weight: bold\">0</span>,<span style=\"color: #008080; text-decoration-color: #008080; font-weight: bold\">02</span>/<span style=\"color: #008080; text-decoration-color: #008080; font-weight: bold\">22</span>/<span style=\"color: #008080; text-decoration-color: #008080; font-weight: bold\">2019</span> <span style=\"color: #00ff00; text-decoration-color: #00ff00; font-weight: bold\">16:23:31</span>,<span style=\"color: #008080; text-decoration-color: #008080; font-weight: bold\">02</span>/<span style=\"color: #008080; text-decoration-color: #008080; font-weight: bold\">22</span>/<span style=\"color: #008080; text-decoration-color: #008080; font-weight: bold\">2019</span> \n",
       "<span style=\"color: #00ff00; text-decoration-color: #00ff00; font-weight: bold\">16:23:26</span>,<span style=\"color: #008080; text-decoration-color: #008080; font-weight: bold\">3272.2776</span>,<span style=\"color: #008080; text-decoration-color: #008080; font-weight: bold\">0</span>,<span style=\"color: #008080; text-decoration-color: #008080; font-weight: bold\">0</span>,<span style=\"color: #008080; text-decoration-color: #008080; font-weight: bold\">0</span>,<span style=\"color: #008080; text-decoration-color: #008080; font-weight: bold\">0</span>,<span style=\"color: #008080; text-decoration-color: #008080; font-weight: bold\">0</span>,<span style=\"color: #008080; text-decoration-color: #008080; font-weight: bold\">30</span>,<span style=\"color: #008080; text-decoration-color: #008080; font-weight: bold\">0</span>,<span style=\"color: #008080; text-decoration-color: #008080; font-weight: bold\">0</span>,<span style=\"color: #008080; text-decoration-color: #008080; font-weight: bold\">0</span>,<span style=\"color: #008080; text-decoration-color: #008080; font-weight: bold\">0</span>,<span style=\"color: #008080; text-decoration-color: #008080; font-weight: bold\">0</span>,<span style=\"color: #008080; text-decoration-color: #008080; font-weight: bold\">0</span>,<span style=\"color: #008080; text-decoration-color: #008080; font-weight: bold\">0</span>,<span style=\"color: #008080; text-decoration-color: #008080; font-weight: bold\">25.83</span>,<span style=\"color: #008080; text-decoration-color: #008080; font-weight: bold\">24.9</span>,,,,\n",
       "</pre>\n"
      ],
      "text/plain": [
       "\u001b[1m[\u001b[0m\u001b[1;36m35\u001b[0m\u001b[1m]\u001b[0m \u001b[1;36m187\u001b[0m,\u001b[1;36m1\u001b[0m,SBT0550,\u001b[1;36m001\u001b[0m,\u001b[1;36m1\u001b[0m,,\u001b[1;36m0\u001b[0m,\u001b[1;36m0\u001b[0m,\u001b[1;36m5\u001b[0m,\u001b[1;36m0\u001b[0m,\u001b[1;36m5\u001b[0m,\u001b[1;36m0\u001b[0m,\u001b[1;36m0\u001b[0m,\u001b[1;36m02\u001b[0m/\u001b[1;36m22\u001b[0m/\u001b[1;36m2019\u001b[0m \u001b[1;92m16:23:31\u001b[0m,\u001b[1;36m02\u001b[0m/\u001b[1;36m22\u001b[0m/\u001b[1;36m2019\u001b[0m \n",
       "\u001b[1;92m16:23:26\u001b[0m,\u001b[1;36m3272.2776\u001b[0m,\u001b[1;36m0\u001b[0m,\u001b[1;36m0\u001b[0m,\u001b[1;36m0\u001b[0m,\u001b[1;36m0\u001b[0m,\u001b[1;36m0\u001b[0m,\u001b[1;36m30\u001b[0m,\u001b[1;36m0\u001b[0m,\u001b[1;36m0\u001b[0m,\u001b[1;36m0\u001b[0m,\u001b[1;36m0\u001b[0m,\u001b[1;36m0\u001b[0m,\u001b[1;36m0\u001b[0m,\u001b[1;36m0\u001b[0m,\u001b[1;36m25.83\u001b[0m,\u001b[1;36m24.9\u001b[0m,,,,\n"
      ]
     },
     "metadata": {},
     "output_type": "display_data"
    }
   ],
   "source": [
    "head(p, 35)"
   ]
  },
  {
   "cell_type": "code",
   "execution_count": 7,
   "id": "c8af3e79-8b5d-4c5f-9a9e-c60504649ba9",
   "metadata": {},
   "outputs": [
    {
     "data": {
      "image/png": "[encoded data removed]"
     },
     "metadata": {},
     "output_type": "display_data"
    }
   ],
   "source": [
    "c = cellpy.get(p, instrument=\"pec_csv\", cycle_mode=\"full_cell\")\n",
    "plotutils.raw_plot(c)"
   ]
  },
  {
   "cell_type": "code",
   "execution_count": 8,
   "id": "312d38ee-fc2b-4054-8b60-0897b094f18b",
   "metadata": {},
   "outputs": [
    {
     "data": {
      "image/png": "[encoded data removed]"
     },
     "metadata": {},
     "output_type": "display_data"
    }
   ],
   "source": [
    "plotutils.summary_plot(c, y=\"capacities\")"
   ]
  },
  {
   "cell_type": "markdown",
   "id": "b506ba8d-11f9-4d0d-9d01-0c60cdf5b95c",
   "metadata": {},
   "source": [
    "## MACCOR"
   ]
  },
  {
   "cell_type": "code",
   "execution_count": 9,
   "id": "c54d70b1-7411-4c10-9d7a-877b30813cb7",
   "metadata": {},
   "outputs": [],
   "source": [
    "data = pathlib.Path(r\"C:\\scripting\\cellpy_dev_resources\\dev_data\\simba_Maccor\\S4000\")"
   ]
  },
  {
   "cell_type": "code",
   "execution_count": 10,
   "id": "445a22d3-ef1c-459b-89a8-38ce6151f230",
   "metadata": {},
   "outputs": [],
   "source": [
    "from cellpy.readers import core"
   ]
  },
  {
   "cell_type": "code",
   "execution_count": 11,
   "id": "d7101908-5879-4971-9f27-27b90f4f0320",
   "metadata": {
    "jupyter": {
     "source_hidden": true
    }
   },
   "outputs": [
    {
     "data": {
      "text/html": [
       "<pre style=\"white-space:pre;overflow-x:auto;line-height:normal;font-family:Menlo,'DejaVu Sans Mono',consolas,'Courier New',monospace\"><span style=\"font-weight: bold\">{</span><span style=\"color: #008000; text-decoration-color: #008000\">'maccor_txt'</span>: <span style=\"font-weight: bold\">(</span><span style=\"color: #008000; text-decoration-color: #008000\">'maccor_txt'</span>, <span style=\"color: #800080; text-decoration-color: #800080; font-weight: bold\">WindowsPath</span><span style=\"font-weight: bold\">(</span><span style=\"color: #008000; text-decoration-color: #008000\">'C:/scripting/cellpy/cellpy/readers/instruments/maccor_txt.py'</span><span style=\"font-weight: bold\">))}</span>\n",
       "</pre>\n"
      ],
      "text/plain": [
       "\u001b[1m{\u001b[0m\u001b[32m'maccor_txt'\u001b[0m: \u001b[1m(\u001b[0m\u001b[32m'maccor_txt'\u001b[0m, \u001b[1;35mWindowsPath\u001b[0m\u001b[1m(\u001b[0m\u001b[32m'C:/scripting/cellpy/cellpy/readers/instruments/maccor_txt.py'\u001b[0m\u001b[1m)\u001b[0m\u001b[1m)\u001b[0m\u001b[1m}\u001b[0m\n"
      ]
     },
     "metadata": {},
     "output_type": "display_data"
    }
   ],
   "source": [
    "maccors = core.find_all_instruments(\"maccor\")\n",
    "print(maccors)"
   ]
  },
  {
   "cell_type": "code",
   "execution_count": 12,
   "id": "bcf53567-c678-4067-b24b-3482ddd005ec",
   "metadata": {
    "jupyter": {
     "source_hidden": true
    }
   },
   "outputs": [],
   "source": [
    "maccor_instrument_factory = core.InstrumentFactory()\n",
    "maccor_instrument_factory.register_builder(\"maccor_txt\", maccors[\"maccor_txt\"])\n",
    "models = maccor_instrument_factory.query(\"maccor_txt\", \"supported_models\")"
   ]
  },
  {
   "cell_type": "code",
   "execution_count": 13,
   "id": "07eec1ba-a3bc-469d-badc-bfd15127a1ec",
   "metadata": {},
   "outputs": [],
   "source": [
    "maccor = maccor_instrument_factory.create(\"maccor_txt\")"
   ]
  },
  {
   "cell_type": "code",
   "execution_count": 14,
   "id": "eca50b1a-7e66-4f4f-8fb6-2e0feea36eb4",
   "metadata": {},
   "outputs": [
    {
     "data": {
      "text/html": [
       "<pre style=\"white-space:pre;overflow-x:auto;line-height:normal;font-family:Menlo,'DejaVu Sans Mono',consolas,'Courier New',monospace\"><span style=\"color: #800080; text-decoration-color: #800080; font-weight: bold\">dict_keys</span><span style=\"font-weight: bold\">([</span><span style=\"color: #008000; text-decoration-color: #008000\">'ZERO'</span>, <span style=\"color: #008000; text-decoration-color: #008000\">'ONE'</span>, <span style=\"color: #008000; text-decoration-color: #008000\">'TWO'</span>, <span style=\"color: #008000; text-decoration-color: #008000\">'THREE'</span>, <span style=\"color: #008000; text-decoration-color: #008000\">'FOUR'</span>, <span style=\"color: #008000; text-decoration-color: #008000\">'S4000-UBHAM'</span>, <span style=\"color: #008000; text-decoration-color: #008000\">'S4000-KIT'</span>, <span style=\"color: #008000; text-decoration-color: #008000\">'S4000-WMG'</span><span style=\"font-weight: bold\">])</span>\n",
       "</pre>\n"
      ],
      "text/plain": [
       "\u001b[1;35mdict_keys\u001b[0m\u001b[1m(\u001b[0m\u001b[1m[\u001b[0m\u001b[32m'ZERO'\u001b[0m, \u001b[32m'ONE'\u001b[0m, \u001b[32m'TWO'\u001b[0m, \u001b[32m'THREE'\u001b[0m, \u001b[32m'FOUR'\u001b[0m, \u001b[32m'S4000-UBHAM'\u001b[0m, \u001b[32m'S4000-KIT'\u001b[0m, \u001b[32m'S4000-WMG'\u001b[0m\u001b[1m]\u001b[0m\u001b[1m)\u001b[0m\n"
      ]
     },
     "metadata": {},
     "output_type": "display_data"
    }
   ],
   "source": [
    "print(models.keys())"
   ]
  },
  {
   "cell_type": "code",
   "execution_count": null,
   "id": "538d4357-f987-4fa8-85d7-6eb1818a3191",
   "metadata": {},
   "outputs": [],
   "source": [
    "# TWO / S4000-KIT: KIT-Full-cell-PW-HC-CT-cell013.txt\n",
    "# FOUR / S4000-WMG: WMG-SIM-A7-1039 - 073_new.txt\n",
    "# ONE / S4000-UBHAM: 01_UBham_CD_M50_Validation_0deg_01.txt"
   ]
  },
  {
   "cell_type": "markdown",
   "id": "9421ce08-1f51-45f2-9f32-a9ea41289971",
   "metadata": {},
   "source": [
    "### Checking all the files"
   ]
  },
  {
   "cell_type": "code",
   "execution_count": 20,
   "id": "70af2e61-3431-4e3c-8dbf-202ead5487bf",
   "metadata": {},
   "outputs": [
    {
     "data": {
      "text/html": [
       "<pre style=\"white-space:pre;overflow-x:auto;line-height:normal;font-family:Menlo,'DejaVu Sans Mono',consolas,'Courier New',monospace\"><span style=\"font-weight: bold\">{</span>\n",
       "    <span style=\"color: #008000; text-decoration-color: #008000\">'01_UBham_CD_M50_Validation_0deg_01.txt'</span>: <span style=\"font-weight: bold\">[</span><span style=\"color: #008000; text-decoration-color: #008000\">'ONE'</span>, <span style=\"color: #008000; text-decoration-color: #008000\">'S4000-UBHAM'</span><span style=\"font-weight: bold\">]</span>,\n",
       "    <span style=\"color: #008000; text-decoration-color: #008000\">'01_WMG_CD_Example MACCOR_cycling number.TXT'</span>: <span style=\"font-weight: bold\">[]</span>,\n",
       "    <span style=\"color: #008000; text-decoration-color: #008000\">'01_WMG_CD_Example MACCOR_voltage profiles.TXT'</span>: <span style=\"font-weight: bold\">[]</span>,\n",
       "    <span style=\"color: #008000; text-decoration-color: #008000\">'KIT-CW-SIMBA-ET-FC-NAPF6-007.037-Full_data.txt'</span>: <span style=\"font-weight: bold\">[</span><span style=\"color: #008000; text-decoration-color: #008000\">'TWO'</span>, <span style=\"color: #008000; text-decoration-color: #008000\">'S4000-KIT'</span><span style=\"font-weight: bold\">]</span>,\n",
       "    <span style=\"color: #008000; text-decoration-color: #008000\">'KIT-Full-cell-PW-HC-CT-cell002.txt'</span>: <span style=\"font-weight: bold\">[</span><span style=\"color: #008000; text-decoration-color: #008000\">'TWO'</span>, <span style=\"color: #008000; text-decoration-color: #008000\">'S4000-KIT'</span><span style=\"font-weight: bold\">]</span>,\n",
       "    <span style=\"color: #008000; text-decoration-color: #008000\">'KIT-Full-cell-PW-HC-CT-cell009.txt'</span>: <span style=\"font-weight: bold\">[</span><span style=\"color: #008000; text-decoration-color: #008000\">'TWO'</span>, <span style=\"color: #008000; text-decoration-color: #008000\">'S4000-KIT'</span><span style=\"font-weight: bold\">]</span>,\n",
       "    <span style=\"color: #008000; text-decoration-color: #008000\">'KIT-Full-cell-PW-HC-CT-cell013.txt'</span>: <span style=\"font-weight: bold\">[</span><span style=\"color: #008000; text-decoration-color: #008000\">'TWO'</span>, <span style=\"color: #008000; text-decoration-color: #008000\">'S4000-KIT'</span><span style=\"font-weight: bold\">]</span>,\n",
       "    <span style=\"color: #008000; text-decoration-color: #008000\">'KIT-Full-cell-PW-HC-CT-cell015.txt'</span>: <span style=\"font-weight: bold\">[</span><span style=\"color: #008000; text-decoration-color: #008000\">'TWO'</span>, <span style=\"color: #008000; text-decoration-color: #008000\">'S4000-KIT'</span><span style=\"font-weight: bold\">]</span>,\n",
       "    <span style=\"color: #008000; text-decoration-color: #008000\">'KIT-Full-cell-PW-HC-ET-cell007.txt'</span>: <span style=\"font-weight: bold\">[</span><span style=\"color: #008000; text-decoration-color: #008000\">'TWO'</span>, <span style=\"color: #008000; text-decoration-color: #008000\">'S4000-KIT'</span><span style=\"font-weight: bold\">]</span>,\n",
       "    <span style=\"color: #008000; text-decoration-color: #008000\">'KIT-Full-cell-PW-HC-ET-cell016.txt'</span>: <span style=\"font-weight: bold\">[</span><span style=\"color: #008000; text-decoration-color: #008000\">'TWO'</span>, <span style=\"color: #008000; text-decoration-color: #008000\">'S4000-KIT'</span><span style=\"font-weight: bold\">]</span>,\n",
       "    <span style=\"color: #008000; text-decoration-color: #008000\">'WMG-SIM-A7-1039 - 073.txt'</span>: <span style=\"font-weight: bold\">[</span><span style=\"color: #008000; text-decoration-color: #008000\">'FOUR'</span>, <span style=\"color: #008000; text-decoration-color: #008000\">'S4000-WMG'</span><span style=\"font-weight: bold\">]</span>,\n",
       "    <span style=\"color: #008000; text-decoration-color: #008000\">'WMG-SIM-A7-1039 - 073_new.txt'</span>: <span style=\"font-weight: bold\">[</span><span style=\"color: #008000; text-decoration-color: #008000\">'FOUR'</span>, <span style=\"color: #008000; text-decoration-color: #008000\">'S4000-WMG'</span><span style=\"font-weight: bold\">]</span>,\n",
       "    <span style=\"color: #008000; text-decoration-color: #008000\">'WMG-SIM-A7-1047-ET - 079.txt'</span>: <span style=\"font-weight: bold\">[</span><span style=\"color: #008000; text-decoration-color: #008000\">'FOUR'</span>, <span style=\"color: #008000; text-decoration-color: #008000\">'S4000-WMG'</span><span style=\"font-weight: bold\">]</span>,\n",
       "    <span style=\"color: #008000; text-decoration-color: #008000\">'WMG-SIM-A7-1047-ET - 079_new.txt'</span>: <span style=\"font-weight: bold\">[</span><span style=\"color: #008000; text-decoration-color: #008000\">'FOUR'</span>, <span style=\"color: #008000; text-decoration-color: #008000\">'S4000-WMG'</span><span style=\"font-weight: bold\">]</span>,\n",
       "    <span style=\"color: #008000; text-decoration-color: #008000\">'WMG-SIM-A7-1475-END - 093.txt'</span>: <span style=\"font-weight: bold\">[</span><span style=\"color: #008000; text-decoration-color: #008000\">'FOUR'</span>, <span style=\"color: #008000; text-decoration-color: #008000\">'S4000-WMG'</span><span style=\"font-weight: bold\">]</span>\n",
       "<span style=\"font-weight: bold\">}</span>\n",
       "</pre>\n"
      ],
      "text/plain": [
       "\u001b[1m{\u001b[0m\n",
       "    \u001b[32m'01_UBham_CD_M50_Validation_0deg_01.txt'\u001b[0m: \u001b[1m[\u001b[0m\u001b[32m'ONE'\u001b[0m, \u001b[32m'S4000-UBHAM'\u001b[0m\u001b[1m]\u001b[0m,\n",
       "    \u001b[32m'01_WMG_CD_Example MACCOR_cycling number.TXT'\u001b[0m: \u001b[1m[\u001b[0m\u001b[1m]\u001b[0m,\n",
       "    \u001b[32m'01_WMG_CD_Example MACCOR_voltage profiles.TXT'\u001b[0m: \u001b[1m[\u001b[0m\u001b[1m]\u001b[0m,\n",
       "    \u001b[32m'KIT-CW-SIMBA-ET-FC-NAPF6-007.037-Full_data.txt'\u001b[0m: \u001b[1m[\u001b[0m\u001b[32m'TWO'\u001b[0m, \u001b[32m'S4000-KIT'\u001b[0m\u001b[1m]\u001b[0m,\n",
       "    \u001b[32m'KIT-Full-cell-PW-HC-CT-cell002.txt'\u001b[0m: \u001b[1m[\u001b[0m\u001b[32m'TWO'\u001b[0m, \u001b[32m'S4000-KIT'\u001b[0m\u001b[1m]\u001b[0m,\n",
       "    \u001b[32m'KIT-Full-cell-PW-HC-CT-cell009.txt'\u001b[0m: \u001b[1m[\u001b[0m\u001b[32m'TWO'\u001b[0m, \u001b[32m'S4000-KIT'\u001b[0m\u001b[1m]\u001b[0m,\n",
       "    \u001b[32m'KIT-Full-cell-PW-HC-CT-cell013.txt'\u001b[0m: \u001b[1m[\u001b[0m\u001b[32m'TWO'\u001b[0m, \u001b[32m'S4000-KIT'\u001b[0m\u001b[1m]\u001b[0m,\n",
       "    \u001b[32m'KIT-Full-cell-PW-HC-CT-cell015.txt'\u001b[0m: \u001b[1m[\u001b[0m\u001b[32m'TWO'\u001b[0m, \u001b[32m'S4000-KIT'\u001b[0m\u001b[1m]\u001b[0m,\n",
       "    \u001b[32m'KIT-Full-cell-PW-HC-ET-cell007.txt'\u001b[0m: \u001b[1m[\u001b[0m\u001b[32m'TWO'\u001b[0m, \u001b[32m'S4000-KIT'\u001b[0m\u001b[1m]\u001b[0m,\n",
       "    \u001b[32m'KIT-Full-cell-PW-HC-ET-cell016.txt'\u001b[0m: \u001b[1m[\u001b[0m\u001b[32m'TWO'\u001b[0m, \u001b[32m'S4000-KIT'\u001b[0m\u001b[1m]\u001b[0m,\n",
       "    \u001b[32m'WMG-SIM-A7-1039 - 073.txt'\u001b[0m: \u001b[1m[\u001b[0m\u001b[32m'FOUR'\u001b[0m, \u001b[32m'S4000-WMG'\u001b[0m\u001b[1m]\u001b[0m,\n",
       "    \u001b[32m'WMG-SIM-A7-1039 - 073_new.txt'\u001b[0m: \u001b[1m[\u001b[0m\u001b[32m'FOUR'\u001b[0m, \u001b[32m'S4000-WMG'\u001b[0m\u001b[1m]\u001b[0m,\n",
       "    \u001b[32m'WMG-SIM-A7-1047-ET - 079.txt'\u001b[0m: \u001b[1m[\u001b[0m\u001b[32m'FOUR'\u001b[0m, \u001b[32m'S4000-WMG'\u001b[0m\u001b[1m]\u001b[0m,\n",
       "    \u001b[32m'WMG-SIM-A7-1047-ET - 079_new.txt'\u001b[0m: \u001b[1m[\u001b[0m\u001b[32m'FOUR'\u001b[0m, \u001b[32m'S4000-WMG'\u001b[0m\u001b[1m]\u001b[0m,\n",
       "    \u001b[32m'WMG-SIM-A7-1475-END - 093.txt'\u001b[0m: \u001b[1m[\u001b[0m\u001b[32m'FOUR'\u001b[0m, \u001b[32m'S4000-WMG'\u001b[0m\u001b[1m]\u001b[0m\n",
       "\u001b[1m}\u001b[0m\n"
      ]
     },
     "metadata": {},
     "output_type": "display_data"
    }
   ],
   "source": [
    "print(result)"
   ]
  },
  {
   "cell_type": "code",
   "execution_count": 21,
   "id": "332f16e2-9219-413c-8d01-985c6b4669ca",
   "metadata": {},
   "outputs": [
    {
     "data": {
      "text/html": [
       "<pre style=\"white-space:pre;overflow-x:auto;line-height:normal;font-family:Menlo,'DejaVu Sans Mono',consolas,'Courier New',monospace\">NO-LOADER: 01_WMG_CD_Example MACCOR_cycling number.TXT\n",
       "</pre>\n"
      ],
      "text/plain": [
       "NO-LOADER: 01_WMG_CD_Example MACCOR_cycling number.TXT\n"
      ]
     },
     "metadata": {},
     "output_type": "display_data"
    },
    {
     "data": {
      "text/html": [
       "<pre style=\"white-space:pre;overflow-x:auto;line-height:normal;font-family:Menlo,'DejaVu Sans Mono',consolas,'Courier New',monospace\">NO-LOADER: 01_WMG_CD_Example MACCOR_voltage profiles.TXT\n",
       "</pre>\n"
      ],
      "text/plain": [
       "NO-LOADER: 01_WMG_CD_Example MACCOR_voltage profiles.TXT\n"
      ]
     },
     "metadata": {},
     "output_type": "display_data"
    }
   ],
   "source": [
    "for key, value in result.items():\n",
    "    if not len(value):\n",
    "        print(f\"NO-LOADER: {key}\")"
   ]
  },
  {
   "cell_type": "markdown",
   "id": "9abd27e6-5731-4322-a9c7-b7ac82764890",
   "metadata": {},
   "source": [
    "#### Does not throw exception, but must be checked\n",
    "- `01_UBham_CD_M50_Validation_0deg_01.txt`\n",
    "\n",
    "#### Not raw file\n",
    "- `01_WMG_CD_Example MACCOR_cycling number.TXT`\n",
    "- `01_WMG_CD_Example MACCOR_voltage profiles.TXT`\n",
    "\n",
    "#### With cut last line (but works)\n",
    "- `KIT-Full-cell-PW-HC-CT-cell013.txt`\n",
    "\n",
    "#### Similar files works, but this fails\n",
    "- `KIT-Full-cell-PW-HC-CT-cell015.txt`\n",
    "\n",
    "#### Fails for unknown reason\n",
    "- `WMG-SIM-A7-1039 - 073.txt`\n",
    "- `WMG-SIM-A7-1039 - 073_new.txt`\n",
    "- `WMG-SIM-A7-1047-ET - 079.txt`\n",
    "- `WMG-SIM-A7-1047-ET - 079_new.txt`\n",
    "- `WMG-SIM-A7-1475-END - 093.txt`"
   ]
  },
  {
   "cell_type": "markdown",
   "id": "5a6e0efc-673b-47e5-8f2e-b4bd1a83da38",
   "metadata": {},
   "source": [
    "### PLAN\n",
    "\n",
    "- [x] check why `KIT-Full-cell-PW-HC-CT-cell013.txt` works and not `KIT-Full-cell-PW-HC-CT-cell015.txt`\n",
    "- [x] fix \"Fails for unknow reason\"\n",
    "- [ ] check \"Does not throw exception, but must be checked\""
   ]
  },
  {
   "cell_type": "markdown",
   "id": "dfaa5d2f-cd83-4911-892b-6c5eb01337a4",
   "metadata": {},
   "source": [
    "## NEWARE"
   ]
  },
  {
   "cell_type": "code",
   "execution_count": null,
   "id": "e8bea946-89e9-4e0b-8682-ffa23ee9d00a",
   "metadata": {},
   "outputs": [],
   "source": []
  },
  {
   "cell_type": "markdown",
   "id": "86d90458-a43f-4fa7-8b12-03a235c46c5b",
   "metadata": {},
   "source": [
    "## Custom data"
   ]
  },
  {
   "cell_type": "code",
   "execution_count": null,
   "id": "0968f493-2c56-463a-b9fc-2a2f59fc27da",
   "metadata": {},
   "outputs": [],
   "source": []
  }
 ],
 "metadata": {
  "kernelspec": {
   "display_name": "cellpy_dev",
   "language": "python",
   "name": "cellpy_dev"
  },
  "language_info": {
   "codemirror_mode": {
    "name": "ipython",
    "version": 3
   },
   "file_extension": ".py",
   "mimetype": "text/x-python",
   "name": "python",
   "nbconvert_exporter": "python",
   "pygments_lexer": "ipython3",
   "version": "3.11.8"
  }
 },
 "nbformat": 4,
 "nbformat_minor": 5
}
