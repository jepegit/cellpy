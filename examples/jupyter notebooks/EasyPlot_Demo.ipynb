{
 "cells": [
  {
   "cell_type": "markdown",
   "id": "9ab1a79c",
   "metadata": {},
   "source": [
    "# Easyplot user guide\n",
    "\n",
    "Easyplot is a submodule found in the utils of cellpy. It takes a list of filenames and plots these corresponding to the users input configuration. Please follow the example below to learn how to use it."
   ]
  },
  {
   "cell_type": "markdown",
   "id": "022e343a-fcf1-4cbe-be74-aadeabd50de1",
   "metadata": {},
   "source": [
    "## WARNING - the notebook is not updated\n",
    "2024.02.18: does not work with `cellpy` > 0.4"
   ]
  },
  {
   "cell_type": "markdown",
   "id": "a0c2f6bb",
   "metadata": {},
   "source": [
    "## 1: Import cellpy and easyplot"
   ]
  },
  {
   "cell_type": "code",
   "execution_count": 1,
   "id": "dfb9d22d",
   "metadata": {},
   "outputs": [],
   "source": [
    "import cellpy\n",
    "from cellpy.utils import easyplot"
   ]
  },
  {
   "cell_type": "markdown",
   "id": "277d492f",
   "metadata": {},
   "source": [
    "## 2: Specify a list of datafiles\n",
    "You can insert different filetypes as long as they are supported by the automatic detection of cellpy. Currently, if you want to use data from an SQL database, you can only plot other data from the same database. In addition you must specify the server credentials. See step **3a** below.\n",
    "If the file you want is in an arbin SQL database, insert the testname."
   ]
  },
  {
   "cell_type": "markdown",
   "id": "1a835951-fd61-49b7-903d-9e0edc0039e7",
   "metadata": {},
   "source": [
    "Here is an example:\n",
    "\n",
    "```python\n",
    "# Specifying what files to laod\n",
    "files = [\n",
    "    # \"./data/raw/20160805_test001_45_cc_01.res\",\n",
    "    # \"./data/raw/20160805_test001_45_cc_01_copy.res\",\n",
    "    # \"./data/20210430_seam10_01_01_cc_01_Channel_48_Wb_1.xlsx.csv\",\n",
    "    # \"./data/20210430_seam10_01_02_cc_01_Channel_49_Wb_1.xlsx.csv\",\n",
    "    # \"20210630_seam13_03_02_cc_01\",\n",
    "    # \"20210630_seam13_03_03_cc_01\",\n",
    "    \"20210630_seam13_04_01_cc_01\",\n",
    "    \"20210630_seam13_04_02_cc_01\",\n",
    "    # \"20210630_seam13_04_03_cc_01\",\n",
    "]\n",
    "```"
   ]
  },
  {
   "cell_type": "markdown",
   "id": "9bc0e1a5-bc82-46b4-b09d-cffdd0811881",
   "metadata": {},
   "source": [
    "In this notebook we will use just one dataset provided by `cellpy`."
   ]
  },
  {
   "cell_type": "code",
   "execution_count": 2,
   "id": "2f128a53-1195-45aa-a706-5e33773520e7",
   "metadata": {},
   "outputs": [],
   "source": [
    "from cellpy.utils import example_data\n",
    "\n",
    "rawfile = example_data.cellpy_file_path()"
   ]
  },
  {
   "cell_type": "code",
   "execution_count": 3,
   "id": "32dc362c",
   "metadata": {},
   "outputs": [],
   "source": [
    "files = [\n",
    "    rawfile,\n",
    "]"
   ]
  },
  {
   "cell_type": "markdown",
   "id": "ecc5b714",
   "metadata": {},
   "source": [
    "## 3: Spawn easyplot object with desired settings\r\n",
    "All possible settings can be printed by running \r\n",
    "```easyplot.help()```"
   ]
  },
  {
   "cell_type": "code",
   "execution_count": 4,
   "id": "05bf9ae3",
   "metadata": {},
   "outputs": [
    {
     "name": "stdout",
     "output_type": "stream",
     "text": [
      "The easyplot extension to cellpy aims to easily plot data in a pretty manner.\n",
      "In order to use this function, you must import cellpy, and easyplot from cellpy.utils.\n",
      "\n",
      "Usage:\n",
      "Create list of datafiles you want to plot on the following format:\n",
      "\n",
      "files = [\n",
      "\t'./folder/filename.ext',\n",
      "\t'./folder/filename2.ext',\n",
      "\t]\n",
      "\n",
      "And then call the easyplot.plot function with the files list as the first parameter, and any optional keyword arguments.\n",
      "Here is an example of the use of all keyword arguments:\n",
      "\tcyclelife_plot = True,\n",
      "\tcyclelife_separate_data = False,\n",
      "\tcyclelife_percentage = False,\n",
      "\tcyclelife_coulombic_efficiency = False,\n",
      "\tcyclelife_coulombic_efficiency_ylabel = 'Coulombic efficiency [%]',\n",
      "\tcyclelife_charge_c_rate = False,\n",
      "\tcyclelife_discharge_c_rate = False,\n",
      "\tcyclelife_c_rate_ylabel = 'Effective C-rate',\n",
      "\tcyclelife_ir = False,\n",
      "\tcyclelife_xlabel = 'Cycles',\n",
      "\tcyclelife_ylabel = 'Capacity $\\left[\\frac{mAh}{g}\\right]$',\n",
      "\tcyclelife_ylabel_percent = 'Capacity retention [%]',\n",
      "\tcyclelife_legend_outside = False,\n",
      "\tcyclelife_degradation_slope = False,\n",
      "\tcapacity_determination_from_ratecap = False,\n",
      "\tgalvanostatic_plot = True,\n",
      "\tgalvanostatic_potlim = None,\n",
      "\tgalvanostatic_caplim = None,\n",
      "\tgalvanostatic_xlabel = 'Capacity $\\left[\\frac{mAh}{g}\\right]$',\n",
      "\tgalvanostatic_ylabel = 'Cell potential [V]',\n",
      "\tgalvanostatic_normalize_capacity = False,\n",
      "\tdqdv_plot = False,\n",
      "\tdqdv_potlim = None,\n",
      "\tdqdv_dqlim = None,\n",
      "\tdqdv_xlabel = 'dQ/dV $\\left[\\frac{mAh}{gV}\\right]$',\n",
      "\tdqdv_ylabel = 'Cell potential [V]',\n",
      "\tspecific_cycles = None,\n",
      "\texclude_cycles = None,\n",
      "\tall_in_one = False,\n",
      "\tonly_dischg = False,\n",
      "\tonly_chg = False,\n",
      "\toutpath = './',\n",
      "\touttype = '.png',\n",
      "\toutname = None,\n",
      "\tfigsize = (6, 4),\n",
      "\tfigres = 100,\n",
      "\tfigtitle = 'Title',\n",
      "\tsave_figures = True,\n",
      "\tsave_journal = False,\n",
      "\n"
     ]
    }
   ],
   "source": [
    "easyplot.help()"
   ]
  },
  {
   "cell_type": "code",
   "execution_count": 5,
   "id": "589dad28",
   "metadata": {},
   "outputs": [],
   "source": [
    "ezplt = easyplot.EasyPlot(\n",
    "    files,\n",
    "    None,\n",
    "    cyclelife_plot=True,\n",
    "    cyclelife_percentage=False,\n",
    "    cyclelife_coulombic_efficiency=True,\n",
    "    cyclelife_coulombic_efficiency_ylabel=\"Coulombic efficiency [%]\",\n",
    "    cyclelife_xlabel=\"Cycles\",\n",
    "    cyclelife_ylabel=r\"Capacity $\\left[\\frac{mAh}{g}\\right]$\",\n",
    "    cyclelife_ylabel_percent=\"Capacity retention [%]\",\n",
    "    cyclelife_legend_outside=True,  # if True, the legend is placed outside the plot\n",
    "    galvanostatic_plot=True,\n",
    "    galvanostatic_potlim=(0, 1),  # min and max limit on potential-axis\n",
    "    galvanostatic_caplim=None,\n",
    "    galvanostatic_xlabel=r\"Capacity $\\left[\\frac{mAh}{g}\\right]$\",\n",
    "    galvanostatic_ylabel=\"Cell potential [V]\",\n",
    "    dqdv_plot=True,\n",
    "    dqdv_potlim=None,  # min and max limit on potential-axis\n",
    "    dqdv_dqlim=None,\n",
    "    dqdv_xlabel=\"Cell potential [V]\",\n",
    "    dqdv_ylabel=r\"dQ/dV $\\left[\\frac{mAh}{gV}\\right]$\",\n",
    "    specific_cycles=None,  # []\n",
    "    exclude_cycles=[1, 2],\n",
    "    all_in_one=False,\n",
    "    # only_dischg = True,\n",
    "    only_chg=False,\n",
    "    outpath=\"./ezplots/deleteme/\",\n",
    "    figsize=(6, 4),  # 6 inches wide, 4 inches tall\n",
    "    figres=100,  # Dots per inch\n",
    "    figtitle=None,  # None = original filepath\n",
    ")"
   ]
  },
  {
   "cell_type": "markdown",
   "id": "ed3a8235",
   "metadata": {},
   "source": [
    "## 3a: SQL settings\n",
    "If you want to use the Arbin SQL database reader, you must insert the necessary details. This is done by the easyplot function *set_arbin_sql_credentials*\n",
    "\\\n",
    "```easyplot.set_arbin_sql_credentials(<IP Address>, <Username>, <Password>, <SQL driver type>)```"
   ]
  },
  {
   "cell_type": "markdown",
   "id": "180a42d3-4796-48ff-b8a0-e560fd27e6e8",
   "metadata": {},
   "source": [
    "```python\n",
    "ezplt.set_arbin_sql_credentials(\"localhost\", \"sa\", \"Amund1234\", \"SQL Server\")\n",
    "```"
   ]
  },
  {
   "cell_type": "markdown",
   "id": "4af2e2a4",
   "metadata": {},
   "source": [
    "## 4: Run easyplot!"
   ]
  },
  {
   "cell_type": "code",
   "execution_count": 6,
   "id": "eb6840f9",
   "metadata": {
    "scrolled": true
   },
   "outputs": [],
   "source": [
    "# ezplt.plot()\n",
    "# BUG -> will fix tomorrow"
   ]
  },
  {
   "cell_type": "code",
   "execution_count": null,
   "id": "e59abad6",
   "metadata": {},
   "outputs": [],
   "source": []
  }
 ],
 "metadata": {
  "interpreter": {
   "hash": "4a02c3eb08d3199cb8b960f028735a47c71b8fa4df04632ef586c170c1d0d8c5"
  },
  "kernelspec": {
   "display_name": "cellpy",
   "language": "python",
   "name": "cellpy"
  },
  "language_info": {
   "codemirror_mode": {
    "name": "ipython",
    "version": 3
   },
   "file_extension": ".py",
   "mimetype": "text/x-python",
   "name": "python",
   "nbconvert_exporter": "python",
   "pygments_lexer": "ipython3",
   "version": "3.11.6"
  }
 },
 "nbformat": 4,
 "nbformat_minor": 5
}
