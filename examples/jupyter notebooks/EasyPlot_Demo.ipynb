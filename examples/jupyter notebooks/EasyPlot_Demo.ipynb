{
 "cells": [
  {
   "cell_type": "markdown",
   "source": [
    "# Easyplot user guide\n",
    "\n",
    "Easyplot is a submodule found in the utils of cellpy. It takes a list of filenames and plots these corresponding to the users input configuration. Please follow the example below to learn how to use it."
   ],
   "metadata": {}
  },
  {
   "cell_type": "markdown",
   "source": [
    "## 1: Import cellpy and easyplot"
   ],
   "metadata": {}
  },
  {
   "cell_type": "code",
   "execution_count": null,
   "source": [
    "from cellpy.utils import easyplot"
   ],
   "outputs": [],
   "metadata": {}
  },
  {
   "cell_type": "markdown",
   "source": [
    "## 2: Specify a list of datafiles\n",
    "You can insert different filetypes as long as they are supported by the automatic detection of cellpy. Currently, if you want to use data from an SQL database, you can only plot other data from the same database. In addition you must specify the server credentials. See step below.\n",
    "If the file you want is in an arbin SQL database, insert the testname."
   ],
   "metadata": {}
  },
  {
   "cell_type": "code",
   "execution_count": null,
   "source": [
    "files = [   \r\n",
    "            #\"./data/raw/20160805_test001_45_cc_01.res\",\r\n",
    "            #\"./data/raw/20160805_test001_45_cc_01_copy.res\",\r\n",
    "            #\"./data/20210430_seam10_01_01_cc_01_Channel_48_Wb_1.xlsx.csv\",\r\n",
    "            #\"./data/20210430_seam10_01_02_cc_01_Channel_49_Wb_1.xlsx.csv\",\r\n",
    "            #\"20210630_seam13_03_02_cc_01\",\r\n",
    "            #\"20210630_seam13_03_03_cc_01\",\r\n",
    "            \"20210630_seam13_04_01_cc_01\",\r\n",
    "            \"20210630_seam13_04_02_cc_01\",\r\n",
    "            #\"20210630_seam13_04_03_cc_01\",\r\n",
    "        ]"
   ],
   "outputs": [],
   "metadata": {}
  },
  {
   "cell_type": "markdown",
   "source": [
    "## 3: Spawn easyplot object with desired settings\r\n",
    "All possible settings can be printed by running \r\n",
    "```easyplot.help()```"
   ],
   "metadata": {}
  },
  {
   "cell_type": "code",
   "execution_count": null,
   "source": [
    "easyplot.help()"
   ],
   "outputs": [],
   "metadata": {}
  },
  {
   "cell_type": "code",
   "execution_count": null,
   "source": [
    "ezplt = easyplot.EasyPlot(files, None,\r\n",
    "        cyclelife_plot = True,\r\n",
    "        cyclelife_percentage = False,\r\n",
    "        cyclelife_coulombic_efficiency = True,\r\n",
    "        cyclelife_coulombic_efficiency_ylabel = \"Coulombic efficiency [%]\",\r\n",
    "        cyclelife_xlabel = \"Cycles\",\r\n",
    "        cyclelife_ylabel = r\"Capacity $\\left[\\frac{mAh}{g}\\right]$\",\r\n",
    "        cyclelife_ylabel_percent = \"Capacity retention [%]\",\r\n",
    "        cyclelife_legend_outside = True, # if True, the legend is placed outside the plot\r\n",
    "        galvanostatic_plot = True,\r\n",
    "        galvanostatic_potlim = (0,1),     #min and max limit on potential-axis\r\n",
    "        galvanostatic_caplim = None,\r\n",
    "        galvanostatic_xlabel = r\"Capacity $\\left[\\frac{mAh}{g}\\right]$\",\r\n",
    "        galvanostatic_ylabel = \"Cell potential [V]\",\r\n",
    "        dqdv_plot = True,\r\n",
    "        dqdv_potlim = None,     #min and max limit on potential-axis\r\n",
    "        dqdv_dqlim = None,\r\n",
    "        dqdv_xlabel = \"Cell potential [V]\",\r\n",
    "        dqdv_ylabel = r\"dQ/dV $\\left[\\frac{mAh}{gV}\\right]$\",\r\n",
    "        specific_cycles = None,#[]\r\n",
    "        exclude_cycles = [1,2],\r\n",
    "        all_in_one = False,\r\n",
    "        #only_dischg = True,\r\n",
    "        only_chg = False,\r\n",
    "        outpath = \"./ezplots/deleteme/\",\r\n",
    "        figsize = (6,4), # 6 inches wide, 4 inches tall\r\n",
    "        figres = 100, # Dots per inch\r\n",
    "        figtitle = None, # None = original filepath\r\n",
    "    )\r\n"
   ],
   "outputs": [],
   "metadata": {}
  },
  {
   "cell_type": "markdown",
   "source": [
    "## 3a: SQL settings\n",
    "If you want to use the Arbin SQL database reader, you must insert the necessary details. This is done by the easyplot function *set_arbin_sql_credentials*\n",
    "\\\n",
    "```easyplot.set_arbin_sql_credentials(<IP Address>, <Username>, <Password>, <SQL driver type>)```"
   ],
   "metadata": {}
  },
  {
   "cell_type": "code",
   "execution_count": null,
   "source": [
    "ezplt.set_arbin_sql_credentials(\"localhost\", \"sa\", \"Amund1234\", \"SQL Server\")"
   ],
   "outputs": [],
   "metadata": {}
  },
  {
   "cell_type": "markdown",
   "source": [
    "## 4: Run easyplot!"
   ],
   "metadata": {}
  },
  {
   "cell_type": "code",
   "execution_count": null,
   "source": [
    "ezplt.plot()"
   ],
   "outputs": [],
   "metadata": {
    "scrolled": true
   }
  },
  {
   "cell_type": "code",
   "execution_count": null,
   "source": [],
   "outputs": [],
   "metadata": {}
  }
 ],
 "metadata": {
  "kernelspec": {
   "name": "python3",
   "display_name": "Python 3.8.10 64-bit (conda)"
  },
  "language_info": {
   "codemirror_mode": {
    "name": "ipython",
    "version": 3
   },
   "file_extension": ".py",
   "mimetype": "text/x-python",
   "name": "python",
   "nbconvert_exporter": "python",
   "pygments_lexer": "ipython3",
   "version": "3.8.10"
  },
  "interpreter": {
   "hash": "4a02c3eb08d3199cb8b960f028735a47c71b8fa4df04632ef586c170c1d0d8c5"
  }
 },
 "nbformat": 4,
 "nbformat_minor": 5
}