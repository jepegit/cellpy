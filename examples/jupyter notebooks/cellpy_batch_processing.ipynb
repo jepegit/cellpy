{
 "cells": [
  {
   "cell_type": "markdown",
   "metadata": {},
   "source": [
    "# Notebook for cellpy batch processing"
   ]
  },
  {
   "cell_type": "markdown",
   "metadata": {},
   "source": [
    "## WARNING - the notebook is not updated\n",
    "2024.02.18: does not work with `cellpy` > 0.4"
   ]
  },
  {
   "cell_type": "code",
   "execution_count": null,
   "metadata": {},
   "outputs": [],
   "source": []
  },
  {
   "cell_type": "code",
   "execution_count": null,
   "metadata": {},
   "outputs": [],
   "source": []
  },
  {
   "cell_type": "markdown",
   "metadata": {},
   "source": [
    "*You can fill inn the MarkDown cells (the cells without \"numbering\") by double-clicking them. Also remember, press `shift + enter` to execute a cell.*\n",
    "\n",
    "A couple of useful links:  \n",
    " - [How to write MarkDown](https://github.com/adam-p/markdown-here/wiki/Markdown-Cheatsheet#hr)\n",
    " - [Jupyter notebooks](https://jupyter.org/)\n",
    " - [cellpy](https://cellpy.readthedocs.io/en/latest/)"
   ]
  },
  {
   "cell_type": "markdown",
   "metadata": {},
   "source": [
    "### This notebook uses the following packages\n",
    "- python >= 3.6 \n",
    "- cellpy >= 0.3.3\n",
    "- pandas\n",
    "- numpy\n",
    "- matplotlib\n",
    "- bokeh\n",
    "- pyviz (holoviews)"
   ]
  },
  {
   "cell_type": "markdown",
   "metadata": {},
   "source": [
    "# 0. Setting up things properly"
   ]
  },
  {
   "cell_type": "markdown",
   "metadata": {},
   "source": [
    "## 0.1 Installing cellpy\n",
    "For this to work, you will have to have a version of `cellpy` satisfying the criteria in the paragraph above. You might have to do a pre-release install to get it or clone the github repository and install in developer-mode.\n",
    "\n",
    "\n",
    "**Installing a pre-release with pip.**\n",
    "```bash\n",
    "pip install --upgrade --pre cellpy\n",
    "```\n",
    "\n",
    "(if this is the first time you install `cellpy`, you can skip the `--upgrade` option)\n",
    "\n",
    "**Installing after cloning using pip in developer-mode.** Note that you have to be in the directory where you have put the cellpy package (where the setup.py file is), if not, using `.` as argument will not work and you will have to provide the full path to the setup.py file):\n",
    "```bash\n",
    "pip install -e .\n",
    "```\n",
    "\n",
    "\n",
    "\n",
    "## 0.2 Make sure you have a properly working config file\n",
    "For `cellpy` to find stuff, it needs to know where to look. A config file exists for this purpose. It is typically located in your home directory (for mac and linux) or in your documents directory (for Windows) and has a name on this form (replacing \"username\" with your real username):\n",
    "\n",
    "```\n",
    ".cellpy_prms_username.conf\n",
    "```\n",
    "\n",
    "The file format is YAML (be aware that it cares about white spaces). The most important settings for this notebook are probably the Paths. Make sure they make sense (and that both the paths and the db_path filename exist) and edit it if necessary.\n",
    "\n",
    "Here is how a typical file (at least the top of it) looks like:\n",
    "\n",
    "```yaml\n",
    "---\n",
    "Paths:\n",
    "  cellpydatadir: cellpy_data/cellpyfiles\n",
    "  db_filename: cellpy_db.xlsx\n",
    "  db_path: cellpy_data/db\n",
    "  filelogdir: cellpy_data/logs\n",
    "  outdatadir: cellpy_data/out\n",
    "  rawdatadir: cellpy_data/raw\n",
    "  examplesdir: cellpy_data/examples\n",
    "  notebookdir: cellpy_data/notebooks\n",
    "  batchfiledir: cellpy_data/batchfiles\n",
    "FileNames:\n",
    "  file_name_format: YYYYMMDD_[NAME]EEE_CC_TT_RR\n",
    "Db:\n",
    "  db_type: simple_excel_reader\n",
    "  db_table_name: db_table\n",
    "  db_header_row: 0\n",
    "  db_unit_row: 1\n",
    "  db_data_start_row: 2\n",
    "  ...\n",
    "\n",
    "```\n",
    "\n",
    "## 0.3 Database file\n",
    "This notebook uses the `cellpy` `batch` utility. For it to work properly (or at all) you will have to provide it with a database. You can choose to implement a database and a loader your self. Currently, `cellpy` ships with a very simple database solution that hardly justifies its name as a database. It reads an excel-file where the first row acts as column headers, the second provides the type (*e.g.* string, bool, etc), and the rest provides the necessary information for each of the cells (one row pr. cell).\n",
    "\n",
    "A sample excel file (\"db-file\") is provided with this example. You will need fill inn values manually, one row for each cell you want to load. Then you will have to put it in the database folder (as defined in your config file where it says `db_file:` in the `Paths`-section). The name of the file must also be the same as defined in the config-file (`db_filename:`, *i.e* `cellpy_db.xlsx` in the example config file snippet above).\n",
    "\n",
    "When `cellpy` reads the file, it uses the batch column (see below) to select which rows (*i.e.* cells) to load. For example, if the \"b01\" batch column is the one you tell `cellpy` to use and you provide it with the name \"casandras_experiment\", it will only select the rows that has \"casandras_experiment\" in the \"b01\" column. You provide `cellpy` with the \"lookup\" name when you issue the `batch.init` command, for example:\n",
    "\n",
    "```python\n",
    "b = batch.init(\"casandras_experiment\", \"cool_project\", batch_col=\"b01\")\n",
    "```\n",
    "You must always have the columns colored green filled out. And make sure that the `id` column (the first one in the example xlsx file) has a unique integer for each row (it is used as a \"key\" when looking up stuff from the file).\n",
    "\n",
    "## 0.4 Files to read\n",
    "Make sure that the names of your experiment-files (for example your .res files) are on the form `date_something_that_describes_the_cell.res` because this is the name-format supported at the moment (this is not strictly true, but just to be on the safe side...).\n",
    "\n",
    "OK, thats all for now. Have a look at the source code in the github repository or "
   ]
  },
  {
   "cell_type": "markdown",
   "metadata": {},
   "source": [
    "# 1. Key information about the current experiment\n",
    "**Experimental-id:** xxx  \n",
    "**Short-name:** xxx  \n",
    "**Project:** project name  \n",
    "**By:** your name  \n",
    "**Date:** xx.xx.xxxx"
   ]
  },
  {
   "cell_type": "markdown",
   "metadata": {},
   "source": [
    "# 2. Short summary of the experiment before processing\n",
    "It is often helpful to formulate what you wanted to achieve with your experiment before actually going into depth of the data. I believe that it does not make you \"biased\" when processing your data, but instead sharpens your mind and motivates you to look more closely on your results. I might be wrong, off course. Then just skip filling in this part.\n",
    "### Main purpose\n",
    "(*State the main hypothesis for the current set of experiment*)\n",
    "### Expected outcome\n",
    "(*What do you expect to find out? What kind of tests did you perform?*)\n",
    "### Special considerations\n",
    "(*State if there are any special considerations for this experiment*)"
   ]
  },
  {
   "cell_type": "markdown",
   "metadata": {},
   "source": [
    "# 3. Processing data"
   ]
  },
  {
   "cell_type": "markdown",
   "metadata": {},
   "source": [
    "### Setting up everything"
   ]
  },
  {
   "cell_type": "code",
   "execution_count": null,
   "metadata": {},
   "outputs": [],
   "source": [
    "import numpy as np\n",
    "import matplotlib.pyplot as plt\n",
    "\n",
    "import cellpy\n",
    "from cellpy import prms\n",
    "from cellpy import prmreader\n",
    "from cellpy.utils import batch\n",
    "\n",
    "%matplotlib inline"
   ]
  },
  {
   "cell_type": "code",
   "execution_count": null,
   "metadata": {},
   "outputs": [],
   "source": [
    "## Uncomment this and run for checking your cellpy parameters.\n",
    "# prmreader.info()"
   ]
  },
  {
   "cell_type": "markdown",
   "metadata": {},
   "source": [
    "### Creating pages and initialise the cellpy batch object\n",
    "If you need to create Journal Pages, please provide appropriate names for the project and the experiment to allow `cellpy` to build the pages."
   ]
  },
  {
   "cell_type": "code",
   "execution_count": null,
   "metadata": {},
   "outputs": [],
   "source": [
    "# Please fill in here\n",
    "project = \"xxx\"\n",
    "name = \"xxx\"\n",
    "batch_col = \"b01\""
   ]
  },
  {
   "cell_type": "markdown",
   "metadata": {},
   "source": [
    "#### Initialisation"
   ]
  },
  {
   "cell_type": "code",
   "execution_count": null,
   "metadata": {},
   "outputs": [],
   "source": [
    "print(\" INITIALISATION OF BATCH \".center(80, \"=\"))\n",
    "b = batch.init(name, project, batch_col=batch_col)"
   ]
  },
  {
   "cell_type": "markdown",
   "metadata": {},
   "source": [
    "#### Set parameters"
   ]
  },
  {
   "cell_type": "code",
   "execution_count": null,
   "metadata": {},
   "outputs": [],
   "source": [
    "# setting some prms\n",
    "b.experiment.export_raw = False\n",
    "# b.experiment.export_cycles = True\n",
    "# b.experiment.export_ica = True"
   ]
  },
  {
   "cell_type": "markdown",
   "metadata": {},
   "source": [
    "#### Run"
   ]
  },
  {
   "cell_type": "code",
   "execution_count": null,
   "metadata": {},
   "outputs": [],
   "source": [
    "# load info from your db and write the journal pages\n",
    "b.create_journal()"
   ]
  },
  {
   "cell_type": "code",
   "execution_count": null,
   "metadata": {},
   "outputs": [],
   "source": [
    "# create the apropriate folders\n",
    "b.paginate()"
   ]
  },
  {
   "cell_type": "code",
   "execution_count": null,
   "metadata": {},
   "outputs": [],
   "source": [
    "# load the data (and save .csv-files if you have set export_(raw/cycles/ica) = True)\n",
    "# (this might take some time)\n",
    "b.update()"
   ]
  },
  {
   "cell_type": "code",
   "execution_count": null,
   "metadata": {},
   "outputs": [],
   "source": [
    "# collect summary-data (e.g. charge capacity vs cycle number) from each cell and export to .csv-file(s).\n",
    "b.combine_summaries()"
   ]
  },
  {
   "cell_type": "markdown",
   "metadata": {},
   "source": [
    "# 4. Looking at the data"
   ]
  },
  {
   "cell_type": "code",
   "execution_count": null,
   "metadata": {},
   "outputs": [],
   "source": [
    "# Plot the charge capacity and the C.E. (and resistance) vs. cycle number (standard plot)\n",
    "b.plot_summaries()"
   ]
  },
  {
   "cell_type": "code",
   "execution_count": null,
   "metadata": {},
   "outputs": [],
   "source": [
    "# Show the journal pages\n",
    "b.pages"
   ]
  },
  {
   "cell_type": "markdown",
   "metadata": {},
   "source": [
    "## Using hvplot for plotting summaries"
   ]
  },
  {
   "cell_type": "code",
   "execution_count": null,
   "metadata": {},
   "outputs": [],
   "source": [
    "import hvplot.pandas\n",
    "import holoviews as hv"
   ]
  },
  {
   "cell_type": "code",
   "execution_count": null,
   "metadata": {},
   "outputs": [],
   "source": [
    "# hvplot does not like infinities\n",
    "s = b.summaries.replace([np.inf, -np.inf], np.nan)"
   ]
  },
  {
   "cell_type": "code",
   "execution_count": null,
   "metadata": {},
   "outputs": [],
   "source": [
    "layout = (\n",
    "    s[\"coulombic_efficiency\"].hvplot()\n",
    "    + s[\"discharge_capacity\"].hvplot() * s[\"charge_capacity\"].hvplot()\n",
    ")\n",
    "layout.cols(1)"
   ]
  },
  {
   "cell_type": "code",
   "execution_count": null,
   "metadata": {},
   "outputs": [],
   "source": [
    "s[\"cumulated_coulombic_efficiency\"].hvplot()"
   ]
  },
  {
   "cell_type": "markdown",
   "metadata": {},
   "source": [
    "## Looking closer at some summary-plots"
   ]
  },
  {
   "cell_type": "code",
   "execution_count": null,
   "metadata": {},
   "outputs": [],
   "source": [
    "discharge_capacity = b.summaries.discharge_capacity\n",
    "charge_capacity = b.summaries.charge_capacity\n",
    "coulombic_efficiency = b.summaries.coulombic_efficiency\n",
    "ir_charge = b.summaries.ir_charge"
   ]
  },
  {
   "cell_type": "code",
   "execution_count": null,
   "metadata": {},
   "outputs": [],
   "source": [
    "fig, (ax1, ax2) = plt.subplots(2, 1)\n",
    "ax1.plot(discharge_capacity)\n",
    "ax1.set_ylabel(\"capacity \")\n",
    "ax2.plot(ir_charge)\n",
    "ax2.set_xlabel(\"cycle\")\n",
    "ax2.set_ylabel(\"resistance\")"
   ]
  },
  {
   "cell_type": "markdown",
   "metadata": {},
   "source": [
    "# 5. Checking for more details per cycle"
   ]
  },
  {
   "cell_type": "markdown",
   "metadata": {},
   "source": [
    "#### A. pick the CellpyData object for one of the cells"
   ]
  },
  {
   "cell_type": "code",
   "execution_count": null,
   "metadata": {},
   "outputs": [],
   "source": [
    "# Lets check what cells we have\n",
    "cell_labels = b.experiment.cell_names\n",
    "cell_labels"
   ]
  },
  {
   "cell_type": "code",
   "execution_count": null,
   "metadata": {},
   "outputs": [],
   "source": [
    "# OK, then I choose one of them\n",
    "label = cell_labels[0]\n",
    "data = b.experiment.data[label]"
   ]
  },
  {
   "cell_type": "markdown",
   "metadata": {},
   "source": [
    "#### B. Get some voltage curves for some cycles and plot them\n",
    "The method `get_cap` can be used to extract voltage curves."
   ]
  },
  {
   "cell_type": "code",
   "execution_count": null,
   "metadata": {},
   "outputs": [],
   "source": [
    "cap = data.get_cap(categorical_column=True)\n",
    "cap.head()"
   ]
  },
  {
   "cell_type": "code",
   "execution_count": null,
   "metadata": {},
   "outputs": [],
   "source": [
    "fig, ax = plt.subplots()\n",
    "ax.plot(cap.capacity, cap.voltage)\n",
    "ax.set_xlabel(\"capacity\")\n",
    "ax.set_ylabel(\"voltage\")"
   ]
  },
  {
   "cell_type": "code",
   "execution_count": null,
   "metadata": {},
   "outputs": [],
   "source": [
    "c4, v4 = data.get_cap(cycle=4, method=\"forth-and-forth\")\n",
    "c10, v10 = data.get_cap(cycle=10, method=\"forth-and-forth\")\n",
    "fig, ax = plt.subplots()\n",
    "ax.set_xlabel(\"capacity\")\n",
    "ax.set_ylabel(\"voltage\")\n",
    "ax.plot(c4, v4, \"ro\", label=\"cycle 4\")\n",
    "ax.plot(c10, v10, \"bs\", label=\"cycle 22\")\n",
    "ax.legend();"
   ]
  },
  {
   "cell_type": "markdown",
   "metadata": {},
   "source": [
    "### Looking at some dqdv data"
   ]
  },
  {
   "cell_type": "markdown",
   "metadata": {},
   "source": [
    "#### Get capacity cycles and make dqdv using the ica module"
   ]
  },
  {
   "cell_type": "code",
   "execution_count": null,
   "metadata": {},
   "outputs": [],
   "source": [
    "from cellpy.utils import ica\n",
    "\n",
    "v4, dqdv4 = ica.dqdv_cycle(\n",
    "    data.get_cap(4, categorical_column=True, method=\"forth-and-forth\")\n",
    ")\n",
    "\n",
    "v10, dqdv10 = ica.dqdv_cycle(\n",
    "    data.get_cap(10, categorical_column=True, method=\"forth-and-forth\")\n",
    ")\n",
    "\n",
    "plt.plot(v4, dqdv4, label=\"cycle 4\")\n",
    "plt.plot(v10, dqdv10, label=\"cycle 10\")\n",
    "plt.legend();"
   ]
  },
  {
   "cell_type": "markdown",
   "metadata": {},
   "source": [
    "#### Put it in a for-loop for plotting many ica plots"
   ]
  },
  {
   "cell_type": "code",
   "execution_count": null,
   "metadata": {},
   "outputs": [],
   "source": [
    "fig, ax = plt.subplots()\n",
    "for cycle in data.get_cycle_numbers():\n",
    "    d = data.get_cap(cycle, categorical_column=True, method=\"forth-and-forth\")\n",
    "    if not d.empty:\n",
    "        v, dqdv = ica.dqdv_cycle(d)\n",
    "        ax.plot(v, dqdv)\n",
    "    else:\n",
    "        print(f\"cycle {cycle} seems to be missing or corrupted\")"
   ]
  },
  {
   "cell_type": "markdown",
   "metadata": {},
   "source": [
    "### Get all the dqdv data in one go"
   ]
  },
  {
   "cell_type": "code",
   "execution_count": null,
   "metadata": {},
   "outputs": [],
   "source": [
    "hv.extension(\"bokeh\")"
   ]
  },
  {
   "cell_type": "code",
   "execution_count": null,
   "metadata": {},
   "outputs": [],
   "source": [
    "tidy_ica = ica.dqdv_frames(data)\n",
    "cycles = list(range(1, 3)) + [10, 15]\n",
    "tidy_ica = tidy_ica.loc[tidy_ica.cycle.isin(cycles), :]"
   ]
  },
  {
   "cell_type": "code",
   "execution_count": null,
   "metadata": {},
   "outputs": [],
   "source": [
    "%%opts Curve [xlim=(0,1)] NdOverlay [legend_position='right']\n",
    "#legend_cols=True]\n",
    "curve4 = (hv.Curve(tidy_ica, kdims=['voltage'], vdims=['dq', 'cycle'], label=\"Incremental capacity plot\")\n",
    "          .groupby(\"cycle\")\n",
    "          .opts(\n",
    "              style={\"Curve\": dict(color=hv.Palette(\"Viridis\"))},\n",
    "          )\n",
    "          .overlay()\n",
    "          .opts(\n",
    "              width=800,\n",
    "              height=500,\n",
    "          )\n",
    "         )\n",
    "curve4\n"
   ]
  },
  {
   "cell_type": "code",
   "execution_count": null,
   "metadata": {},
   "outputs": [],
   "source": []
  }
 ],
 "metadata": {
  "kernelspec": {
   "display_name": "cellpy",
   "language": "python",
   "name": "cellpy"
  },
  "language_info": {
   "codemirror_mode": {
    "name": "ipython",
    "version": 3
   },
   "file_extension": ".py",
   "mimetype": "text/x-python",
   "name": "python",
   "nbconvert_exporter": "python",
   "pygments_lexer": "ipython3",
   "version": "3.11.6"
  }
 },
 "nbformat": 4,
 "nbformat_minor": 4
}
